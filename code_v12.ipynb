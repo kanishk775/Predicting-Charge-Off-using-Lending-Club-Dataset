{
 "cells": [
  {
   "cell_type": "code",
   "execution_count": 2,
   "id": "e986c773-b892-4651-9333-295b4d7a0aa8",
   "metadata": {},
   "outputs": [],
   "source": [
    "import pandas as pd\n",
    "import numpy as np\n",
    "import scipy as sp\n",
    "import matplotlib as mpl\n",
    "import matplotlib.pyplot as plt\n",
    "import seaborn as sns\n",
    "# pd.set_option('max_columns', None)\n",
    "# pd.set_option('max_rows', None)"
   ]
  },
  {
   "cell_type": "code",
   "execution_count": 3,
   "id": "553891a5",
   "metadata": {},
   "outputs": [
    {
     "name": "stderr",
     "output_type": "stream",
     "text": [
      "C:\\Users\\kanishk\\anaconda3\\lib\\site-packages\\IPython\\core\\interactiveshell.py:3165: DtypeWarning: Columns (0,18,48,58,117,128,129,130,133,134,135,138,144,145,146) have mixed types.Specify dtype option on import or set low_memory=False.\n",
      "  has_raised = await self.run_ast_nodes(code_ast.body, cell_name,\n"
     ]
    }
   ],
   "source": [
    "df = pd.read_csv('accepted_2007_to_2017.csv')"
   ]
  },
  {
   "cell_type": "code",
   "execution_count": 4,
   "id": "d49d5fbb",
   "metadata": {},
   "outputs": [
    {
     "data": {
      "text/html": [
       "<div>\n",
       "<style scoped>\n",
       "    .dataframe tbody tr th:only-of-type {\n",
       "        vertical-align: middle;\n",
       "    }\n",
       "\n",
       "    .dataframe tbody tr th {\n",
       "        vertical-align: top;\n",
       "    }\n",
       "\n",
       "    .dataframe thead th {\n",
       "        text-align: right;\n",
       "    }\n",
       "</style>\n",
       "<table border=\"1\" class=\"dataframe\">\n",
       "  <thead>\n",
       "    <tr style=\"text-align: right;\">\n",
       "      <th></th>\n",
       "      <th>id</th>\n",
       "      <th>member_id</th>\n",
       "      <th>loan_amnt</th>\n",
       "      <th>funded_amnt</th>\n",
       "      <th>funded_amnt_inv</th>\n",
       "      <th>term</th>\n",
       "      <th>int_rate</th>\n",
       "      <th>installment</th>\n",
       "      <th>grade</th>\n",
       "      <th>sub_grade</th>\n",
       "      <th>...</th>\n",
       "      <th>hardship_payoff_balance_amount</th>\n",
       "      <th>hardship_last_payment_amount</th>\n",
       "      <th>disbursement_method</th>\n",
       "      <th>debt_settlement_flag</th>\n",
       "      <th>debt_settlement_flag_date</th>\n",
       "      <th>settlement_status</th>\n",
       "      <th>settlement_date</th>\n",
       "      <th>settlement_amount</th>\n",
       "      <th>settlement_percentage</th>\n",
       "      <th>settlement_term</th>\n",
       "    </tr>\n",
       "  </thead>\n",
       "  <tbody>\n",
       "    <tr>\n",
       "      <th>0</th>\n",
       "      <td>38098114</td>\n",
       "      <td>NaN</td>\n",
       "      <td>15000.0</td>\n",
       "      <td>15000.0</td>\n",
       "      <td>15000.0</td>\n",
       "      <td>60 months</td>\n",
       "      <td>12.39</td>\n",
       "      <td>336.64</td>\n",
       "      <td>C</td>\n",
       "      <td>C1</td>\n",
       "      <td>...</td>\n",
       "      <td>NaN</td>\n",
       "      <td>NaN</td>\n",
       "      <td>Cash</td>\n",
       "      <td>N</td>\n",
       "      <td>NaN</td>\n",
       "      <td>NaN</td>\n",
       "      <td>NaN</td>\n",
       "      <td>NaN</td>\n",
       "      <td>NaN</td>\n",
       "      <td>NaN</td>\n",
       "    </tr>\n",
       "    <tr>\n",
       "      <th>1</th>\n",
       "      <td>36805548</td>\n",
       "      <td>NaN</td>\n",
       "      <td>10400.0</td>\n",
       "      <td>10400.0</td>\n",
       "      <td>10400.0</td>\n",
       "      <td>36 months</td>\n",
       "      <td>6.99</td>\n",
       "      <td>321.08</td>\n",
       "      <td>A</td>\n",
       "      <td>A3</td>\n",
       "      <td>...</td>\n",
       "      <td>NaN</td>\n",
       "      <td>NaN</td>\n",
       "      <td>Cash</td>\n",
       "      <td>N</td>\n",
       "      <td>NaN</td>\n",
       "      <td>NaN</td>\n",
       "      <td>NaN</td>\n",
       "      <td>NaN</td>\n",
       "      <td>NaN</td>\n",
       "      <td>NaN</td>\n",
       "    </tr>\n",
       "    <tr>\n",
       "      <th>2</th>\n",
       "      <td>37842129</td>\n",
       "      <td>NaN</td>\n",
       "      <td>21425.0</td>\n",
       "      <td>21425.0</td>\n",
       "      <td>21425.0</td>\n",
       "      <td>60 months</td>\n",
       "      <td>15.59</td>\n",
       "      <td>516.36</td>\n",
       "      <td>D</td>\n",
       "      <td>D1</td>\n",
       "      <td>...</td>\n",
       "      <td>NaN</td>\n",
       "      <td>NaN</td>\n",
       "      <td>Cash</td>\n",
       "      <td>N</td>\n",
       "      <td>NaN</td>\n",
       "      <td>NaN</td>\n",
       "      <td>NaN</td>\n",
       "      <td>NaN</td>\n",
       "      <td>NaN</td>\n",
       "      <td>NaN</td>\n",
       "    </tr>\n",
       "    <tr>\n",
       "      <th>3</th>\n",
       "      <td>37612354</td>\n",
       "      <td>NaN</td>\n",
       "      <td>12800.0</td>\n",
       "      <td>12800.0</td>\n",
       "      <td>12800.0</td>\n",
       "      <td>60 months</td>\n",
       "      <td>17.14</td>\n",
       "      <td>319.08</td>\n",
       "      <td>D</td>\n",
       "      <td>D4</td>\n",
       "      <td>...</td>\n",
       "      <td>NaN</td>\n",
       "      <td>NaN</td>\n",
       "      <td>Cash</td>\n",
       "      <td>N</td>\n",
       "      <td>NaN</td>\n",
       "      <td>NaN</td>\n",
       "      <td>NaN</td>\n",
       "      <td>NaN</td>\n",
       "      <td>NaN</td>\n",
       "      <td>NaN</td>\n",
       "    </tr>\n",
       "    <tr>\n",
       "      <th>4</th>\n",
       "      <td>37662224</td>\n",
       "      <td>NaN</td>\n",
       "      <td>7650.0</td>\n",
       "      <td>7650.0</td>\n",
       "      <td>7650.0</td>\n",
       "      <td>36 months</td>\n",
       "      <td>13.66</td>\n",
       "      <td>260.20</td>\n",
       "      <td>C</td>\n",
       "      <td>C3</td>\n",
       "      <td>...</td>\n",
       "      <td>NaN</td>\n",
       "      <td>NaN</td>\n",
       "      <td>Cash</td>\n",
       "      <td>N</td>\n",
       "      <td>NaN</td>\n",
       "      <td>NaN</td>\n",
       "      <td>NaN</td>\n",
       "      <td>NaN</td>\n",
       "      <td>NaN</td>\n",
       "      <td>NaN</td>\n",
       "    </tr>\n",
       "  </tbody>\n",
       "</table>\n",
       "<p>5 rows × 150 columns</p>\n",
       "</div>"
      ],
      "text/plain": [
       "         id  member_id  loan_amnt  funded_amnt  funded_amnt_inv        term  \\\n",
       "0  38098114        NaN    15000.0      15000.0          15000.0   60 months   \n",
       "1  36805548        NaN    10400.0      10400.0          10400.0   36 months   \n",
       "2  37842129        NaN    21425.0      21425.0          21425.0   60 months   \n",
       "3  37612354        NaN    12800.0      12800.0          12800.0   60 months   \n",
       "4  37662224        NaN     7650.0       7650.0           7650.0   36 months   \n",
       "\n",
       "   int_rate  installment grade sub_grade  ... hardship_payoff_balance_amount  \\\n",
       "0     12.39       336.64     C        C1  ...                            NaN   \n",
       "1      6.99       321.08     A        A3  ...                            NaN   \n",
       "2     15.59       516.36     D        D1  ...                            NaN   \n",
       "3     17.14       319.08     D        D4  ...                            NaN   \n",
       "4     13.66       260.20     C        C3  ...                            NaN   \n",
       "\n",
       "  hardship_last_payment_amount disbursement_method  debt_settlement_flag  \\\n",
       "0                          NaN                Cash                     N   \n",
       "1                          NaN                Cash                     N   \n",
       "2                          NaN                Cash                     N   \n",
       "3                          NaN                Cash                     N   \n",
       "4                          NaN                Cash                     N   \n",
       "\n",
       "  debt_settlement_flag_date settlement_status settlement_date  \\\n",
       "0                       NaN               NaN             NaN   \n",
       "1                       NaN               NaN             NaN   \n",
       "2                       NaN               NaN             NaN   \n",
       "3                       NaN               NaN             NaN   \n",
       "4                       NaN               NaN             NaN   \n",
       "\n",
       "  settlement_amount settlement_percentage settlement_term  \n",
       "0               NaN                   NaN             NaN  \n",
       "1               NaN                   NaN             NaN  \n",
       "2               NaN                   NaN             NaN  \n",
       "3               NaN                   NaN             NaN  \n",
       "4               NaN                   NaN             NaN  \n",
       "\n",
       "[5 rows x 150 columns]"
      ]
     },
     "execution_count": 4,
     "metadata": {},
     "output_type": "execute_result"
    }
   ],
   "source": [
    "df.head()"
   ]
  },
  {
   "cell_type": "code",
   "execution_count": 5,
   "id": "ec2b0906",
   "metadata": {},
   "outputs": [
    {
     "data": {
      "text/html": [
       "<div>\n",
       "<style scoped>\n",
       "    .dataframe tbody tr th:only-of-type {\n",
       "        vertical-align: middle;\n",
       "    }\n",
       "\n",
       "    .dataframe tbody tr th {\n",
       "        vertical-align: top;\n",
       "    }\n",
       "\n",
       "    .dataframe thead th {\n",
       "        text-align: right;\n",
       "    }\n",
       "</style>\n",
       "<table border=\"1\" class=\"dataframe\">\n",
       "  <thead>\n",
       "    <tr style=\"text-align: right;\">\n",
       "      <th></th>\n",
       "      <th>member_id</th>\n",
       "      <th>loan_amnt</th>\n",
       "      <th>funded_amnt</th>\n",
       "      <th>funded_amnt_inv</th>\n",
       "      <th>int_rate</th>\n",
       "      <th>installment</th>\n",
       "      <th>annual_inc</th>\n",
       "      <th>dti</th>\n",
       "      <th>delinq_2yrs</th>\n",
       "      <th>fico_range_low</th>\n",
       "      <th>...</th>\n",
       "      <th>deferral_term</th>\n",
       "      <th>hardship_amount</th>\n",
       "      <th>hardship_length</th>\n",
       "      <th>hardship_dpd</th>\n",
       "      <th>orig_projected_additional_accrued_interest</th>\n",
       "      <th>hardship_payoff_balance_amount</th>\n",
       "      <th>hardship_last_payment_amount</th>\n",
       "      <th>settlement_amount</th>\n",
       "      <th>settlement_percentage</th>\n",
       "      <th>settlement_term</th>\n",
       "    </tr>\n",
       "  </thead>\n",
       "  <tbody>\n",
       "    <tr>\n",
       "      <th>count</th>\n",
       "      <td>0.0</td>\n",
       "      <td>1.646778e+06</td>\n",
       "      <td>1.646778e+06</td>\n",
       "      <td>1.646778e+06</td>\n",
       "      <td>1.646778e+06</td>\n",
       "      <td>1.646778e+06</td>\n",
       "      <td>1.646774e+06</td>\n",
       "      <td>1.646421e+06</td>\n",
       "      <td>1.646749e+06</td>\n",
       "      <td>1.646778e+06</td>\n",
       "      <td>...</td>\n",
       "      <td>5778.0</td>\n",
       "      <td>5778.000000</td>\n",
       "      <td>5778.0</td>\n",
       "      <td>5778.000000</td>\n",
       "      <td>4822.000000</td>\n",
       "      <td>5778.000000</td>\n",
       "      <td>5778.000000</td>\n",
       "      <td>13290.000000</td>\n",
       "      <td>13290.000000</td>\n",
       "      <td>13290.000000</td>\n",
       "    </tr>\n",
       "    <tr>\n",
       "      <th>mean</th>\n",
       "      <td>NaN</td>\n",
       "      <td>1.473331e+04</td>\n",
       "      <td>1.472608e+04</td>\n",
       "      <td>1.470244e+04</td>\n",
       "      <td>1.321857e+01</td>\n",
       "      <td>4.394122e+02</td>\n",
       "      <td>7.730483e+04</td>\n",
       "      <td>1.852473e+01</td>\n",
       "      <td>3.344311e-01</td>\n",
       "      <td>6.957068e+02</td>\n",
       "      <td>...</td>\n",
       "      <td>3.0</td>\n",
       "      <td>151.587664</td>\n",
       "      <td>3.0</td>\n",
       "      <td>11.108688</td>\n",
       "      <td>446.130348</td>\n",
       "      <td>11607.266805</td>\n",
       "      <td>185.757715</td>\n",
       "      <td>5389.960476</td>\n",
       "      <td>48.485745</td>\n",
       "      <td>10.579910</td>\n",
       "    </tr>\n",
       "    <tr>\n",
       "      <th>std</th>\n",
       "      <td>NaN</td>\n",
       "      <td>8.803698e+03</td>\n",
       "      <td>8.800813e+03</td>\n",
       "      <td>8.805917e+03</td>\n",
       "      <td>4.704294e+00</td>\n",
       "      <td>2.592256e+02</td>\n",
       "      <td>1.207276e+05</td>\n",
       "      <td>1.098422e+01</td>\n",
       "      <td>9.048755e-01</td>\n",
       "      <td>3.130254e+01</td>\n",
       "      <td>...</td>\n",
       "      <td>0.0</td>\n",
       "      <td>123.463493</td>\n",
       "      <td>0.0</td>\n",
       "      <td>10.287269</td>\n",
       "      <td>361.855546</td>\n",
       "      <td>7459.800633</td>\n",
       "      <td>199.735241</td>\n",
       "      <td>3831.509446</td>\n",
       "      <td>8.995510</td>\n",
       "      <td>8.853511</td>\n",
       "    </tr>\n",
       "    <tr>\n",
       "      <th>min</th>\n",
       "      <td>NaN</td>\n",
       "      <td>5.000000e+02</td>\n",
       "      <td>5.000000e+02</td>\n",
       "      <td>0.000000e+00</td>\n",
       "      <td>5.320000e+00</td>\n",
       "      <td>4.930000e+00</td>\n",
       "      <td>0.000000e+00</td>\n",
       "      <td>-1.000000e+00</td>\n",
       "      <td>0.000000e+00</td>\n",
       "      <td>6.100000e+02</td>\n",
       "      <td>...</td>\n",
       "      <td>3.0</td>\n",
       "      <td>0.640000</td>\n",
       "      <td>3.0</td>\n",
       "      <td>0.000000</td>\n",
       "      <td>1.920000</td>\n",
       "      <td>55.730000</td>\n",
       "      <td>0.010000</td>\n",
       "      <td>82.960000</td>\n",
       "      <td>0.200000</td>\n",
       "      <td>0.000000</td>\n",
       "    </tr>\n",
       "    <tr>\n",
       "      <th>25%</th>\n",
       "      <td>NaN</td>\n",
       "      <td>8.000000e+03</td>\n",
       "      <td>8.000000e+03</td>\n",
       "      <td>8.000000e+03</td>\n",
       "      <td>9.760000e+00</td>\n",
       "      <td>2.517700e+02</td>\n",
       "      <td>4.600000e+04</td>\n",
       "      <td>1.207000e+01</td>\n",
       "      <td>0.000000e+00</td>\n",
       "      <td>6.700000e+02</td>\n",
       "      <td>...</td>\n",
       "      <td>3.0</td>\n",
       "      <td>58.932500</td>\n",
       "      <td>3.0</td>\n",
       "      <td>0.000000</td>\n",
       "      <td>173.347500</td>\n",
       "      <td>5709.287500</td>\n",
       "      <td>27.100000</td>\n",
       "      <td>2488.140000</td>\n",
       "      <td>45.000000</td>\n",
       "      <td>1.000000</td>\n",
       "    </tr>\n",
       "    <tr>\n",
       "      <th>50%</th>\n",
       "      <td>NaN</td>\n",
       "      <td>1.260000e+04</td>\n",
       "      <td>1.260000e+04</td>\n",
       "      <td>1.250000e+04</td>\n",
       "      <td>1.274000e+01</td>\n",
       "      <td>3.770400e+02</td>\n",
       "      <td>6.500000e+04</td>\n",
       "      <td>1.789000e+01</td>\n",
       "      <td>0.000000e+00</td>\n",
       "      <td>6.900000e+02</td>\n",
       "      <td>...</td>\n",
       "      <td>3.0</td>\n",
       "      <td>118.780000</td>\n",
       "      <td>3.0</td>\n",
       "      <td>11.000000</td>\n",
       "      <td>352.635000</td>\n",
       "      <td>10130.580000</td>\n",
       "      <td>123.360000</td>\n",
       "      <td>4515.055000</td>\n",
       "      <td>45.305000</td>\n",
       "      <td>12.000000</td>\n",
       "    </tr>\n",
       "    <tr>\n",
       "      <th>75%</th>\n",
       "      <td>NaN</td>\n",
       "      <td>2.000000e+04</td>\n",
       "      <td>2.000000e+04</td>\n",
       "      <td>2.000000e+04</td>\n",
       "      <td>1.599000e+01</td>\n",
       "      <td>5.803400e+02</td>\n",
       "      <td>9.200000e+04</td>\n",
       "      <td>2.432000e+01</td>\n",
       "      <td>0.000000e+00</td>\n",
       "      <td>7.100000e+02</td>\n",
       "      <td>...</td>\n",
       "      <td>3.0</td>\n",
       "      <td>207.650000</td>\n",
       "      <td>3.0</td>\n",
       "      <td>20.000000</td>\n",
       "      <td>606.885000</td>\n",
       "      <td>15993.665000</td>\n",
       "      <td>284.692500</td>\n",
       "      <td>7307.060000</td>\n",
       "      <td>50.000000</td>\n",
       "      <td>18.000000</td>\n",
       "    </tr>\n",
       "    <tr>\n",
       "      <th>max</th>\n",
       "      <td>NaN</td>\n",
       "      <td>4.000000e+04</td>\n",
       "      <td>4.000000e+04</td>\n",
       "      <td>4.000000e+04</td>\n",
       "      <td>3.099000e+01</td>\n",
       "      <td>1.719830e+03</td>\n",
       "      <td>1.100000e+08</td>\n",
       "      <td>9.990000e+02</td>\n",
       "      <td>4.200000e+01</td>\n",
       "      <td>8.450000e+02</td>\n",
       "      <td>...</td>\n",
       "      <td>3.0</td>\n",
       "      <td>893.050000</td>\n",
       "      <td>3.0</td>\n",
       "      <td>37.000000</td>\n",
       "      <td>2679.150000</td>\n",
       "      <td>40306.410000</td>\n",
       "      <td>1407.860000</td>\n",
       "      <td>33601.000000</td>\n",
       "      <td>521.350000</td>\n",
       "      <td>181.000000</td>\n",
       "    </tr>\n",
       "  </tbody>\n",
       "</table>\n",
       "<p>8 rows × 113 columns</p>\n",
       "</div>"
      ],
      "text/plain": [
       "       member_id     loan_amnt   funded_amnt  funded_amnt_inv      int_rate  \\\n",
       "count        0.0  1.646778e+06  1.646778e+06     1.646778e+06  1.646778e+06   \n",
       "mean         NaN  1.473331e+04  1.472608e+04     1.470244e+04  1.321857e+01   \n",
       "std          NaN  8.803698e+03  8.800813e+03     8.805917e+03  4.704294e+00   \n",
       "min          NaN  5.000000e+02  5.000000e+02     0.000000e+00  5.320000e+00   \n",
       "25%          NaN  8.000000e+03  8.000000e+03     8.000000e+03  9.760000e+00   \n",
       "50%          NaN  1.260000e+04  1.260000e+04     1.250000e+04  1.274000e+01   \n",
       "75%          NaN  2.000000e+04  2.000000e+04     2.000000e+04  1.599000e+01   \n",
       "max          NaN  4.000000e+04  4.000000e+04     4.000000e+04  3.099000e+01   \n",
       "\n",
       "        installment    annual_inc           dti   delinq_2yrs  fico_range_low  \\\n",
       "count  1.646778e+06  1.646774e+06  1.646421e+06  1.646749e+06    1.646778e+06   \n",
       "mean   4.394122e+02  7.730483e+04  1.852473e+01  3.344311e-01    6.957068e+02   \n",
       "std    2.592256e+02  1.207276e+05  1.098422e+01  9.048755e-01    3.130254e+01   \n",
       "min    4.930000e+00  0.000000e+00 -1.000000e+00  0.000000e+00    6.100000e+02   \n",
       "25%    2.517700e+02  4.600000e+04  1.207000e+01  0.000000e+00    6.700000e+02   \n",
       "50%    3.770400e+02  6.500000e+04  1.789000e+01  0.000000e+00    6.900000e+02   \n",
       "75%    5.803400e+02  9.200000e+04  2.432000e+01  0.000000e+00    7.100000e+02   \n",
       "max    1.719830e+03  1.100000e+08  9.990000e+02  4.200000e+01    8.450000e+02   \n",
       "\n",
       "       ...  deferral_term  hardship_amount  hardship_length  hardship_dpd  \\\n",
       "count  ...         5778.0      5778.000000           5778.0   5778.000000   \n",
       "mean   ...            3.0       151.587664              3.0     11.108688   \n",
       "std    ...            0.0       123.463493              0.0     10.287269   \n",
       "min    ...            3.0         0.640000              3.0      0.000000   \n",
       "25%    ...            3.0        58.932500              3.0      0.000000   \n",
       "50%    ...            3.0       118.780000              3.0     11.000000   \n",
       "75%    ...            3.0       207.650000              3.0     20.000000   \n",
       "max    ...            3.0       893.050000              3.0     37.000000   \n",
       "\n",
       "       orig_projected_additional_accrued_interest  \\\n",
       "count                                 4822.000000   \n",
       "mean                                   446.130348   \n",
       "std                                    361.855546   \n",
       "min                                      1.920000   \n",
       "25%                                    173.347500   \n",
       "50%                                    352.635000   \n",
       "75%                                    606.885000   \n",
       "max                                   2679.150000   \n",
       "\n",
       "       hardship_payoff_balance_amount  hardship_last_payment_amount  \\\n",
       "count                     5778.000000                   5778.000000   \n",
       "mean                     11607.266805                    185.757715   \n",
       "std                       7459.800633                    199.735241   \n",
       "min                         55.730000                      0.010000   \n",
       "25%                       5709.287500                     27.100000   \n",
       "50%                      10130.580000                    123.360000   \n",
       "75%                      15993.665000                    284.692500   \n",
       "max                      40306.410000                   1407.860000   \n",
       "\n",
       "       settlement_amount  settlement_percentage  settlement_term  \n",
       "count       13290.000000           13290.000000     13290.000000  \n",
       "mean         5389.960476              48.485745        10.579910  \n",
       "std          3831.509446               8.995510         8.853511  \n",
       "min            82.960000               0.200000         0.000000  \n",
       "25%          2488.140000              45.000000         1.000000  \n",
       "50%          4515.055000              45.305000        12.000000  \n",
       "75%          7307.060000              50.000000        18.000000  \n",
       "max         33601.000000             521.350000       181.000000  \n",
       "\n",
       "[8 rows x 113 columns]"
      ]
     },
     "execution_count": 5,
     "metadata": {},
     "output_type": "execute_result"
    }
   ],
   "source": [
    "df.describe()"
   ]
  },
  {
   "cell_type": "code",
   "execution_count": 6,
   "id": "1cb48103",
   "metadata": {},
   "outputs": [
    {
     "name": "stdout",
     "output_type": "stream",
     "text": [
      "<class 'pandas.core.frame.DataFrame'>\n",
      "RangeIndex: 1646801 entries, 0 to 1646800\n",
      "Columns: 150 entries, id to settlement_term\n",
      "dtypes: float64(113), object(37)\n",
      "memory usage: 1.8+ GB\n"
     ]
    }
   ],
   "source": [
    "df.info()"
   ]
  },
  {
   "cell_type": "code",
   "execution_count": 7,
   "id": "7c9c7525",
   "metadata": {},
   "outputs": [
    {
     "data": {
      "text/plain": [
       "['id',\n",
       " 'member_id',\n",
       " 'loan_amnt',\n",
       " 'funded_amnt',\n",
       " 'funded_amnt_inv',\n",
       " 'term',\n",
       " 'int_rate',\n",
       " 'installment',\n",
       " 'grade',\n",
       " 'sub_grade',\n",
       " 'emp_title',\n",
       " 'emp_length',\n",
       " 'home_ownership',\n",
       " 'annual_inc',\n",
       " 'verification_status',\n",
       " 'issue_d',\n",
       " 'loan_status',\n",
       " 'pymnt_plan',\n",
       " 'desc',\n",
       " 'purpose',\n",
       " 'title',\n",
       " 'zip_code',\n",
       " 'addr_state',\n",
       " 'dti',\n",
       " 'delinq_2yrs',\n",
       " 'earliest_cr_line',\n",
       " 'fico_range_low',\n",
       " 'fico_range_high',\n",
       " 'inq_last_6mths',\n",
       " 'mths_since_last_delinq',\n",
       " 'mths_since_last_record',\n",
       " 'open_acc',\n",
       " 'pub_rec',\n",
       " 'revol_bal',\n",
       " 'revol_util',\n",
       " 'total_acc',\n",
       " 'initial_list_status',\n",
       " 'out_prncp',\n",
       " 'out_prncp_inv',\n",
       " 'total_pymnt',\n",
       " 'total_pymnt_inv',\n",
       " 'total_rec_prncp',\n",
       " 'total_rec_int',\n",
       " 'total_rec_late_fee',\n",
       " 'recoveries',\n",
       " 'collection_recovery_fee',\n",
       " 'last_pymnt_d',\n",
       " 'last_pymnt_amnt',\n",
       " 'next_pymnt_d',\n",
       " 'last_credit_pull_d',\n",
       " 'last_fico_range_high',\n",
       " 'last_fico_range_low',\n",
       " 'collections_12_mths_ex_med',\n",
       " 'mths_since_last_major_derog',\n",
       " 'policy_code',\n",
       " 'application_type',\n",
       " 'annual_inc_joint',\n",
       " 'dti_joint',\n",
       " 'verification_status_joint',\n",
       " 'acc_now_delinq',\n",
       " 'tot_coll_amt',\n",
       " 'tot_cur_bal',\n",
       " 'open_acc_6m',\n",
       " 'open_act_il',\n",
       " 'open_il_12m',\n",
       " 'open_il_24m',\n",
       " 'mths_since_rcnt_il',\n",
       " 'total_bal_il',\n",
       " 'il_util',\n",
       " 'open_rv_12m',\n",
       " 'open_rv_24m',\n",
       " 'max_bal_bc',\n",
       " 'all_util',\n",
       " 'total_rev_hi_lim',\n",
       " 'inq_fi',\n",
       " 'total_cu_tl',\n",
       " 'inq_last_12m',\n",
       " 'acc_open_past_24mths',\n",
       " 'avg_cur_bal',\n",
       " 'bc_open_to_buy',\n",
       " 'bc_util',\n",
       " 'chargeoff_within_12_mths',\n",
       " 'delinq_amnt',\n",
       " 'mo_sin_old_il_acct',\n",
       " 'mo_sin_old_rev_tl_op',\n",
       " 'mo_sin_rcnt_rev_tl_op',\n",
       " 'mo_sin_rcnt_tl',\n",
       " 'mort_acc',\n",
       " 'mths_since_recent_bc',\n",
       " 'mths_since_recent_bc_dlq',\n",
       " 'mths_since_recent_inq',\n",
       " 'mths_since_recent_revol_delinq',\n",
       " 'num_accts_ever_120_pd',\n",
       " 'num_actv_bc_tl',\n",
       " 'num_actv_rev_tl',\n",
       " 'num_bc_sats',\n",
       " 'num_bc_tl',\n",
       " 'num_il_tl',\n",
       " 'num_op_rev_tl',\n",
       " 'num_rev_accts',\n",
       " 'num_rev_tl_bal_gt_0',\n",
       " 'num_sats',\n",
       " 'num_tl_120dpd_2m',\n",
       " 'num_tl_30dpd',\n",
       " 'num_tl_90g_dpd_24m',\n",
       " 'num_tl_op_past_12m',\n",
       " 'pct_tl_nvr_dlq',\n",
       " 'percent_bc_gt_75',\n",
       " 'pub_rec_bankruptcies',\n",
       " 'tax_liens',\n",
       " 'tot_hi_cred_lim',\n",
       " 'total_bal_ex_mort',\n",
       " 'total_bc_limit',\n",
       " 'total_il_high_credit_limit',\n",
       " 'revol_bal_joint',\n",
       " 'sec_app_fico_range_low',\n",
       " 'sec_app_fico_range_high',\n",
       " 'sec_app_earliest_cr_line',\n",
       " 'sec_app_inq_last_6mths',\n",
       " 'sec_app_mort_acc',\n",
       " 'sec_app_open_acc',\n",
       " 'sec_app_revol_util',\n",
       " 'sec_app_open_act_il',\n",
       " 'sec_app_num_rev_accts',\n",
       " 'sec_app_chargeoff_within_12_mths',\n",
       " 'sec_app_collections_12_mths_ex_med',\n",
       " 'sec_app_mths_since_last_major_derog',\n",
       " 'hardship_flag',\n",
       " 'hardship_type',\n",
       " 'hardship_reason',\n",
       " 'hardship_status',\n",
       " 'deferral_term',\n",
       " 'hardship_amount',\n",
       " 'hardship_start_date',\n",
       " 'hardship_end_date',\n",
       " 'payment_plan_start_date',\n",
       " 'hardship_length',\n",
       " 'hardship_dpd',\n",
       " 'hardship_loan_status',\n",
       " 'orig_projected_additional_accrued_interest',\n",
       " 'hardship_payoff_balance_amount',\n",
       " 'hardship_last_payment_amount',\n",
       " 'disbursement_method',\n",
       " 'debt_settlement_flag',\n",
       " 'debt_settlement_flag_date',\n",
       " 'settlement_status',\n",
       " 'settlement_date',\n",
       " 'settlement_amount',\n",
       " 'settlement_percentage',\n",
       " 'settlement_term']"
      ]
     },
     "execution_count": 7,
     "metadata": {},
     "output_type": "execute_result"
    }
   ],
   "source": [
    "list(df.columns)"
   ]
  },
  {
   "cell_type": "code",
   "execution_count": 9,
   "id": "3f9656e5",
   "metadata": {},
   "outputs": [
    {
     "name": "stdout",
     "output_type": "stream",
     "text": [
      "<class 'pandas.core.series.Series'>\n"
     ]
    }
   ],
   "source": [
    "print(type(df['loan_status']))"
   ]
  },
  {
   "cell_type": "code",
   "execution_count": 10,
   "id": "acb10e9f",
   "metadata": {},
   "outputs": [
    {
     "data": {
      "text/plain": [
       "Fully Paid     646902\n",
       "Charged Off    168084\n",
       "Name: loan_status, dtype: int64"
      ]
     },
     "execution_count": 10,
     "metadata": {},
     "output_type": "execute_result"
    }
   ],
   "source": [
    "df['loan_status'].value_counts()"
   ]
  },
  {
   "cell_type": "code",
   "execution_count": 11,
   "id": "287457e4",
   "metadata": {},
   "outputs": [],
   "source": [
    "#NotWorking - Using alternate method of saving a new dataframe in the same name\n",
    "#dropping_values = ['Current', 'Late (31-120 days)' , 'In Grace Period', 'Late (16-30 days)', 'Does not meet the credit policy. Status:Fully Paid', 'Does not meet the credit policy. Status:Charged Off', 'Default']\n",
    "#new_df = df.drop(df[df['loan_status'].isin(dropping_values)])"
   ]
  },
  {
   "cell_type": "code",
   "execution_count": 12,
   "id": "827c2dcf",
   "metadata": {},
   "outputs": [],
   "source": [
    "#Keeping only relevant labels\n",
    "df = df.loc[df['loan_status'].isin(['Fully Paid', 'Charged Off'])]"
   ]
  },
  {
   "cell_type": "code",
   "execution_count": 13,
   "id": "364da6b8",
   "metadata": {
    "scrolled": true
   },
   "outputs": [
    {
     "data": {
      "text/plain": [
       "Fully Paid     646902\n",
       "Charged Off    168084\n",
       "Name: loan_status, dtype: int64"
      ]
     },
     "execution_count": 13,
     "metadata": {},
     "output_type": "execute_result"
    }
   ],
   "source": [
    "df['loan_status'].value_counts()"
   ]
  },
  {
   "cell_type": "code",
   "execution_count": 14,
   "id": "f76705c9",
   "metadata": {},
   "outputs": [
    {
     "data": {
      "text/plain": [
       "Fully Paid     0.793758\n",
       "Charged Off    0.206242\n",
       "Name: loan_status, dtype: float64"
      ]
     },
     "execution_count": 14,
     "metadata": {},
     "output_type": "execute_result"
    }
   ],
   "source": [
    "#Checking the relative frequencies\n",
    "df['loan_status'].value_counts(normalize = True)"
   ]
  },
  {
   "cell_type": "code",
   "execution_count": 15,
   "id": "4f146bd3",
   "metadata": {},
   "outputs": [
    {
     "data": {
      "text/plain": [
       "next_pymnt_d                                  1.000000\n",
       "member_id                                     1.000000\n",
       "orig_projected_additional_accrued_interest    0.999876\n",
       "sec_app_mths_since_last_major_derog           0.999628\n",
       "hardship_length                               0.999275\n",
       "hardship_type                                 0.999275\n",
       "hardship_reason                               0.999275\n",
       "hardship_status                               0.999275\n",
       "deferral_term                                 0.999275\n",
       "hardship_amount                               0.999275\n",
       "hardship_end_date                             0.999275\n",
       "payment_plan_start_date                       0.999275\n",
       "hardship_start_date                           0.999275\n",
       "hardship_dpd                                  0.999275\n",
       "hardship_payoff_balance_amount                0.999275\n",
       "hardship_last_payment_amount                  0.999275\n",
       "hardship_loan_status                          0.999275\n",
       "sec_app_revol_util                            0.998919\n",
       "sec_app_chargeoff_within_12_mths              0.998898\n",
       "sec_app_mort_acc                              0.998898\n",
       "dtype: float64"
      ]
     },
     "execution_count": 15,
     "metadata": {},
     "output_type": "execute_result"
    }
   ],
   "source": [
    "#na_values = df.isnull().sum().sort_values(ascending = False)\n",
    "na_values = df.isnull().mean().sort_values(ascending = False)\n",
    "na_values.head(20)"
   ]
  },
  {
   "cell_type": "code",
   "execution_count": 18,
   "id": "d1928a3b",
   "metadata": {},
   "outputs": [
    {
     "data": {
      "text/plain": [
       "Text(0, 0.5, 'Number of Columns')"
      ]
     },
     "execution_count": 18,
     "metadata": {},
     "output_type": "execute_result"
    },
    {
     "data": {
      "image/png": "[encoded data removed]",
      "text/plain": [
       "<Figure size 432x288 with 1 Axes>"
      ]
     },
     "metadata": {
      "needs_background": "light"
     },
     "output_type": "display_data"
    }
   ],
   "source": [
    "plt.hist(na_values)\n",
    "plt.title('Columns with NA Values')\n",
    "plt.xlabel('Percentage of Data Missing')\n",
    "plt.ylabel('Number of Columns')"
   ]
  },
  {
   "cell_type": "code",
   "execution_count": 19,
   "id": "87b12cc5",
   "metadata": {},
   "outputs": [
    {
     "name": "stdout",
     "output_type": "stream",
     "text": [
      "['next_pymnt_d', 'member_id', 'orig_projected_additional_accrued_interest', 'sec_app_mths_since_last_major_derog', 'hardship_length', 'hardship_type', 'hardship_reason', 'hardship_status', 'deferral_term', 'hardship_amount', 'hardship_end_date', 'payment_plan_start_date', 'hardship_start_date', 'hardship_dpd', 'hardship_payoff_balance_amount', 'hardship_last_payment_amount', 'hardship_loan_status', 'sec_app_revol_util', 'sec_app_chargeoff_within_12_mths', 'sec_app_mort_acc', 'sec_app_open_acc', 'sec_app_open_act_il', 'sec_app_num_rev_accts', 'sec_app_earliest_cr_line', 'sec_app_collections_12_mths_ex_med', 'revol_bal_joint', 'sec_app_fico_range_low', 'sec_app_fico_range_high', 'sec_app_inq_last_6mths', 'verification_status_joint', 'dti_joint', 'annual_inc_joint', 'debt_settlement_flag_date', 'settlement_status', 'settlement_date', 'settlement_amount', 'settlement_percentage', 'settlement_term', 'desc', 'mths_since_last_record', 'il_util', 'mths_since_rcnt_il', 'all_util', 'inq_last_12m', 'open_acc_6m', 'total_cu_tl', 'open_rv_24m', 'open_act_il', 'max_bal_bc', 'open_rv_12m', 'total_bal_il', 'open_il_24m', 'open_il_12m', 'inq_fi', 'mths_since_recent_bc_dlq', 'mths_since_last_major_derog', 'mths_since_recent_revol_delinq', 'mths_since_last_delinq']\n"
     ]
    },
    {
     "data": {
      "text/plain": [
       "58"
      ]
     },
     "execution_count": 19,
     "metadata": {},
     "output_type": "execute_result"
    }
   ],
   "source": [
    "drop_list = list(na_values[na_values > 0.3].index)\n",
    "print(drop_list)\n",
    "len(drop_list)"
   ]
  },
  {
   "cell_type": "code",
   "execution_count": 20,
   "id": "f29365b7",
   "metadata": {},
   "outputs": [
    {
     "data": {
      "text/plain": [
       "(814986, 92)"
      ]
     },
     "execution_count": 20,
     "metadata": {},
     "output_type": "execute_result"
    }
   ],
   "source": [
    "#Dropping values with more than 30% NA Values\n",
    "df_f1 = df.drop(columns = drop_list)\n",
    "df_f1.shape"
   ]
  },
  {
   "cell_type": "code",
   "execution_count": 21,
   "id": "f905e911",
   "metadata": {},
   "outputs": [
    {
     "data": {
      "text/plain": [
       "Index(['id', 'loan_amnt', 'funded_amnt', 'funded_amnt_inv', 'term', 'int_rate',\n",
       "       'installment', 'grade', 'sub_grade', 'emp_title', 'emp_length',\n",
       "       'home_ownership', 'annual_inc', 'verification_status', 'issue_d',\n",
       "       'loan_status', 'pymnt_plan', 'purpose', 'title', 'zip_code',\n",
       "       'addr_state', 'dti', 'delinq_2yrs', 'earliest_cr_line',\n",
       "       'fico_range_low', 'fico_range_high', 'inq_last_6mths', 'open_acc',\n",
       "       'pub_rec', 'revol_bal', 'revol_util', 'total_acc',\n",
       "       'initial_list_status', 'out_prncp', 'out_prncp_inv', 'total_pymnt',\n",
       "       'total_pymnt_inv', 'total_rec_prncp', 'total_rec_int',\n",
       "       'total_rec_late_fee', 'recoveries', 'collection_recovery_fee',\n",
       "       'last_pymnt_d', 'last_pymnt_amnt', 'last_credit_pull_d',\n",
       "       'last_fico_range_high', 'last_fico_range_low',\n",
       "       'collections_12_mths_ex_med', 'policy_code', 'application_type',\n",
       "       'acc_now_delinq', 'tot_coll_amt', 'tot_cur_bal', 'total_rev_hi_lim',\n",
       "       'acc_open_past_24mths', 'avg_cur_bal', 'bc_open_to_buy', 'bc_util',\n",
       "       'chargeoff_within_12_mths', 'delinq_amnt', 'mo_sin_old_il_acct',\n",
       "       'mo_sin_old_rev_tl_op', 'mo_sin_rcnt_rev_tl_op', 'mo_sin_rcnt_tl',\n",
       "       'mort_acc', 'mths_since_recent_bc', 'mths_since_recent_inq',\n",
       "       'num_accts_ever_120_pd', 'num_actv_bc_tl', 'num_actv_rev_tl',\n",
       "       'num_bc_sats', 'num_bc_tl', 'num_il_tl', 'num_op_rev_tl',\n",
       "       'num_rev_accts', 'num_rev_tl_bal_gt_0', 'num_sats', 'num_tl_120dpd_2m',\n",
       "       'num_tl_30dpd', 'num_tl_90g_dpd_24m', 'num_tl_op_past_12m',\n",
       "       'pct_tl_nvr_dlq', 'percent_bc_gt_75', 'pub_rec_bankruptcies',\n",
       "       'tax_liens', 'tot_hi_cred_lim', 'total_bal_ex_mort', 'total_bc_limit',\n",
       "       'total_il_high_credit_limit', 'hardship_flag', 'disbursement_method',\n",
       "       'debt_settlement_flag'],\n",
       "      dtype='object')"
      ]
     },
     "execution_count": 21,
     "metadata": {},
     "output_type": "execute_result"
    }
   ],
   "source": [
    "df_f1.columns"
   ]
  },
  {
   "cell_type": "code",
   "execution_count": 22,
   "id": "dfb09169",
   "metadata": {},
   "outputs": [],
   "source": [
    "important_columns = ['addr_state', 'annual_inc', 'application_type', 'dti', 'earliest_cr_line', 'emp_length', 'emp_title', 'fico_range_high', 'fico_range_low', 'grade', 'home_ownership', 'id', 'initial_list_status', 'installment', 'int_rate', 'issue_d', 'loan_amnt', 'loan_status', 'mort_acc', 'open_acc', 'pub_rec', 'pub_rec_bankruptcies', 'purpose', 'revol_bal', 'revol_util', 'sub_grade', 'term', 'title', 'total_acc', 'verification_status', 'zip_code']"
   ]
  },
  {
   "cell_type": "code",
   "execution_count": 23,
   "id": "00eea0a3",
   "metadata": {},
   "outputs": [
    {
     "data": {
      "text/plain": [
       "31"
      ]
     },
     "execution_count": 23,
     "metadata": {},
     "output_type": "execute_result"
    }
   ],
   "source": [
    "len(important_columns)"
   ]
  },
  {
   "cell_type": "code",
   "execution_count": 24,
   "id": "a5cc3860",
   "metadata": {},
   "outputs": [
    {
     "name": "stdout",
     "output_type": "stream",
     "text": [
      "['funded_amnt', 'funded_amnt_inv', 'pymnt_plan', 'delinq_2yrs', 'inq_last_6mths', 'out_prncp', 'out_prncp_inv', 'total_pymnt', 'total_pymnt_inv', 'total_rec_prncp', 'total_rec_int', 'total_rec_late_fee', 'recoveries', 'collection_recovery_fee', 'last_pymnt_d', 'last_pymnt_amnt', 'last_credit_pull_d', 'last_fico_range_high', 'last_fico_range_low', 'collections_12_mths_ex_med', 'policy_code', 'acc_now_delinq', 'tot_coll_amt', 'tot_cur_bal', 'total_rev_hi_lim', 'acc_open_past_24mths', 'avg_cur_bal', 'bc_open_to_buy', 'bc_util', 'chargeoff_within_12_mths', 'delinq_amnt', 'mo_sin_old_il_acct', 'mo_sin_old_rev_tl_op', 'mo_sin_rcnt_rev_tl_op', 'mo_sin_rcnt_tl', 'mths_since_recent_bc', 'mths_since_recent_inq', 'num_accts_ever_120_pd', 'num_actv_bc_tl', 'num_actv_rev_tl', 'num_bc_sats', 'num_bc_tl', 'num_il_tl', 'num_op_rev_tl', 'num_rev_accts', 'num_rev_tl_bal_gt_0', 'num_sats', 'num_tl_120dpd_2m', 'num_tl_30dpd', 'num_tl_90g_dpd_24m', 'num_tl_op_past_12m', 'pct_tl_nvr_dlq', 'percent_bc_gt_75', 'tax_liens', 'tot_hi_cred_lim', 'total_bal_ex_mort', 'total_bc_limit', 'total_il_high_credit_limit', 'hardship_flag', 'disbursement_method', 'debt_settlement_flag']\n"
     ]
    }
   ],
   "source": [
    "not_important_columns = [x for x in df_f1.columns if x not in important_columns]\n",
    "print(not_important_columns)"
   ]
  },
  {
   "cell_type": "code",
   "execution_count": 25,
   "id": "984b4509",
   "metadata": {},
   "outputs": [
    {
     "data": {
      "text/plain": [
       "61"
      ]
     },
     "execution_count": 25,
     "metadata": {},
     "output_type": "execute_result"
    }
   ],
   "source": [
    "len(not_important_columns)"
   ]
  },
  {
   "cell_type": "code",
   "execution_count": 26,
   "id": "2a2df7d7",
   "metadata": {},
   "outputs": [
    {
     "data": {
      "text/plain": [
       "(814986, 31)"
      ]
     },
     "execution_count": 26,
     "metadata": {},
     "output_type": "execute_result"
    }
   ],
   "source": [
    "df_f2 = df_f1.drop(columns = not_important_columns)\n",
    "df_f2.shape"
   ]
  },
  {
   "cell_type": "code",
   "execution_count": 27,
   "id": "8def192a",
   "metadata": {},
   "outputs": [
    {
     "data": {
      "text/plain": [
       "Index(['id', 'loan_amnt', 'term', 'int_rate', 'installment', 'grade',\n",
       "       'sub_grade', 'emp_title', 'emp_length', 'home_ownership', 'annual_inc',\n",
       "       'verification_status', 'issue_d', 'loan_status', 'purpose', 'title',\n",
       "       'zip_code', 'addr_state', 'dti', 'earliest_cr_line', 'fico_range_low',\n",
       "       'fico_range_high', 'open_acc', 'pub_rec', 'revol_bal', 'revol_util',\n",
       "       'total_acc', 'initial_list_status', 'application_type', 'mort_acc',\n",
       "       'pub_rec_bankruptcies'],\n",
       "      dtype='object')"
      ]
     },
     "execution_count": 27,
     "metadata": {},
     "output_type": "execute_result"
    }
   ],
   "source": [
    "df_f2.columns"
   ]
  },
  {
   "cell_type": "code",
   "execution_count": 28,
   "id": "25bb7747",
   "metadata": {},
   "outputs": [],
   "source": [
    "def plot_var(col_name, full_name, continuous):\n",
    "    '''\n",
    "    Visualize a variable with and without faceting on the loan status.\n",
    "    - col_name is the variable name in the dataframe\n",
    "    - full_name is the full variable name\n",
    "    - continuous is True if the variable is continuous, False otherwise \n",
    "    '''\n",
    "    f, (ax1, ax2) = plt.subplots(nrows=1, ncols=2, figsize=(12,3), dpi=90)\n",
    "    \n",
    "    # Plot without loan status\n",
    "    if continuous:\n",
    "        sns.distplot(df_f2.loc[df_f2[col_name].notnull(), col_name], kde=False, ax=ax1)\n",
    "    else:\n",
    "        sns.countplot(df_f2[col_name], order=sorted(df_f2[col_name].unique()), color='#5975A4', saturation=1, ax=ax1)\n",
    "    ax1.set_xlabel(full_name)\n",
    "    ax1.set_ylabel('Count')\n",
    "    ax1.set_title(full_name)\n",
    "\n",
    "    # Plot with loan status\n",
    "    if continuous:\n",
    "        sns.boxplot(x=col_name, y='loan_status', data=df_f2, ax=ax2)\n",
    "        ax2.set_ylabel('')\n",
    "        ax2.set_title(full_name + ' by Loan Status')\n",
    "    else:\n",
    "        charge_off_rates = df_f2.groupby(col_name)['loan_status'].value_counts(normalize=True).loc[:,'Charged Off']\n",
    "        sns.barplot(x=charge_off_rates.index, y=charge_off_rates.values, color='#5975A4', saturation=1, ax=ax2)\n",
    "        ax2.set_ylabel('Fraction of Loans Charged-off')\n",
    "        ax2.set_title('Charge-off Rate by ' + full_name)\n",
    "    ax2.set_xlabel(full_name)\n",
    "    \n",
    "    plt.tight_layout()"
   ]
  },
  {
   "cell_type": "code",
   "execution_count": 29,
   "id": "2d51f817",
   "metadata": {},
   "outputs": [],
   "source": [
    "#Checking Each Remaining Column Visually"
   ]
  },
  {
   "cell_type": "code",
   "execution_count": 30,
   "id": "809fe717",
   "metadata": {},
   "outputs": [
    {
     "data": {
      "text/plain": [
       "464102    55933887\n",
       "936792     3016354\n",
       "652486    41019553\n",
       "600713    45504665\n",
       "160420    16141668\n",
       "Name: id, dtype: object"
      ]
     },
     "execution_count": 30,
     "metadata": {},
     "output_type": "execute_result"
    }
   ],
   "source": [
    "#Checking ID Column\n",
    "df_f2['id'].sample(5)"
   ]
  },
  {
   "cell_type": "code",
   "execution_count": 31,
   "id": "54a3b909",
   "metadata": {
    "scrolled": true
   },
   "outputs": [
    {
     "data": {
      "text/plain": [
       "count      814986\n",
       "unique     814986\n",
       "top       6291456\n",
       "freq            1\n",
       "Name: id, dtype: int64"
      ]
     },
     "execution_count": 31,
     "metadata": {},
     "output_type": "execute_result"
    }
   ],
   "source": [
    "df_f2['id'].describe()"
   ]
  },
  {
   "cell_type": "code",
   "execution_count": 32,
   "id": "11759010",
   "metadata": {},
   "outputs": [],
   "source": [
    "df_f2.drop('id', axis=1, inplace=True)"
   ]
  },
  {
   "cell_type": "code",
   "execution_count": 33,
   "id": "0f9bd08d",
   "metadata": {},
   "outputs": [
    {
     "data": {
      "text/plain": [
       "count    814986.000000\n",
       "mean      14315.458210\n",
       "std        8499.799241\n",
       "min         500.000000\n",
       "25%        8000.000000\n",
       "50%       12000.000000\n",
       "75%       20000.000000\n",
       "max       40000.000000\n",
       "Name: loan_amnt, dtype: float64"
      ]
     },
     "execution_count": 33,
     "metadata": {},
     "output_type": "execute_result"
    }
   ],
   "source": [
    "#Inspecting loan_amnt column\n",
    "df_f2['loan_amnt'].describe()"
   ]
  },
  {
   "cell_type": "code",
   "execution_count": 34,
   "id": "1b52568a",
   "metadata": {},
   "outputs": [
    {
     "name": "stderr",
     "output_type": "stream",
     "text": [
      "C:\\Users\\kanishk\\anaconda3\\lib\\site-packages\\seaborn\\distributions.py:2557: FutureWarning: `distplot` is a deprecated function and will be removed in a future version. Please adapt your code to use either `displot` (a figure-level function with similar flexibility) or `histplot` (an axes-level function for histograms).\n",
      "  warnings.warn(msg, FutureWarning)\n"
     ]
    },
    {
     "data": {
      "image/png": "[encoded data removed]",
      "text/plain": [
       "<Figure size 1080x270 with 2 Axes>"
      ]
     },
     "metadata": {
      "needs_background": "light"
     },
     "output_type": "display_data"
    }
   ],
   "source": [
    "plot_var('loan_amnt', 'Loan Amount', continuous=True)"
   ]
  },
  {
   "cell_type": "code",
   "execution_count": 35,
   "id": "2ba49596",
   "metadata": {
    "_uuid": "e02a9883f576e8f44099f52b689398faac9a5402"
   },
   "outputs": [
    {
     "data": {
      "text/html": [
       "<div>\n",
       "<style scoped>\n",
       "    .dataframe tbody tr th:only-of-type {\n",
       "        vertical-align: middle;\n",
       "    }\n",
       "\n",
       "    .dataframe tbody tr th {\n",
       "        vertical-align: top;\n",
       "    }\n",
       "\n",
       "    .dataframe thead th {\n",
       "        text-align: right;\n",
       "    }\n",
       "</style>\n",
       "<table border=\"1\" class=\"dataframe\">\n",
       "  <thead>\n",
       "    <tr style=\"text-align: right;\">\n",
       "      <th></th>\n",
       "      <th>count</th>\n",
       "      <th>mean</th>\n",
       "      <th>std</th>\n",
       "      <th>min</th>\n",
       "      <th>25%</th>\n",
       "      <th>50%</th>\n",
       "      <th>75%</th>\n",
       "      <th>max</th>\n",
       "    </tr>\n",
       "    <tr>\n",
       "      <th>loan_status</th>\n",
       "      <th></th>\n",
       "      <th></th>\n",
       "      <th></th>\n",
       "      <th></th>\n",
       "      <th></th>\n",
       "      <th></th>\n",
       "      <th></th>\n",
       "      <th></th>\n",
       "    </tr>\n",
       "  </thead>\n",
       "  <tbody>\n",
       "    <tr>\n",
       "      <th>Charged Off</th>\n",
       "      <td>168084.0</td>\n",
       "      <td>15384.975964</td>\n",
       "      <td>8606.476332</td>\n",
       "      <td>900.0</td>\n",
       "      <td>9000.0</td>\n",
       "      <td>14000.0</td>\n",
       "      <td>20000.0</td>\n",
       "      <td>40000.0</td>\n",
       "    </tr>\n",
       "    <tr>\n",
       "      <th>Fully Paid</th>\n",
       "      <td>646902.0</td>\n",
       "      <td>14037.566316</td>\n",
       "      <td>8449.740674</td>\n",
       "      <td>500.0</td>\n",
       "      <td>7500.0</td>\n",
       "      <td>12000.0</td>\n",
       "      <td>20000.0</td>\n",
       "      <td>40000.0</td>\n",
       "    </tr>\n",
       "  </tbody>\n",
       "</table>\n",
       "</div>"
      ],
      "text/plain": [
       "                count          mean          std    min     25%      50%  \\\n",
       "loan_status                                                                \n",
       "Charged Off  168084.0  15384.975964  8606.476332  900.0  9000.0  14000.0   \n",
       "Fully Paid   646902.0  14037.566316  8449.740674  500.0  7500.0  12000.0   \n",
       "\n",
       "                 75%      max  \n",
       "loan_status                    \n",
       "Charged Off  20000.0  40000.0  \n",
       "Fully Paid   20000.0  40000.0  "
      ]
     },
     "execution_count": 35,
     "metadata": {},
     "output_type": "execute_result"
    }
   ],
   "source": [
    "df_f2.groupby('loan_status')['loan_amnt'].describe()"
   ]
  },
  {
   "cell_type": "code",
   "execution_count": 36,
   "id": "3e66ed82",
   "metadata": {},
   "outputs": [
    {
     "data": {
      "text/plain": [
       " 36 months    618460\n",
       " 60 months    196526\n",
       "Name: term, dtype: int64"
      ]
     },
     "execution_count": 36,
     "metadata": {},
     "output_type": "execute_result"
    }
   ],
   "source": [
    "#inspecting term column\n",
    "df_f2['term'].value_counts(dropna=False)"
   ]
  },
  {
   "cell_type": "code",
   "execution_count": 37,
   "id": "f6ea4c4b",
   "metadata": {},
   "outputs": [],
   "source": [
    "df_f2['term'] = df_f2['term'].apply(lambda s: np.int8(s.split()[0]))"
   ]
  },
  {
   "cell_type": "code",
   "execution_count": 38,
   "id": "07f405ca",
   "metadata": {},
   "outputs": [
    {
     "data": {
      "text/plain": [
       "term\n",
       "36    0.165710\n",
       "60    0.333793\n",
       "Name: loan_status, dtype: float64"
      ]
     },
     "execution_count": 38,
     "metadata": {},
     "output_type": "execute_result"
    }
   ],
   "source": [
    "df_f2.groupby('term')['loan_status'].value_counts(normalize=True).loc[:,'Charged Off']"
   ]
  },
  {
   "cell_type": "markdown",
   "id": "9367d7dc",
   "metadata": {},
   "source": [
    "About 76% of the completed loans have three-year periods, and the rest have five-year periods. Loans with five-year periods are more than twice as likely to charge-off as loans with three-year periods."
   ]
  },
  {
   "cell_type": "code",
   "execution_count": 39,
   "id": "929d99cb",
   "metadata": {},
   "outputs": [
    {
     "data": {
      "text/plain": [
       "count    814986.000000\n",
       "mean         13.490993\n",
       "std           4.618486\n",
       "min           5.320000\n",
       "25%           9.990000\n",
       "50%          13.110000\n",
       "75%          16.290000\n",
       "max          30.990000\n",
       "Name: int_rate, dtype: float64"
      ]
     },
     "execution_count": 39,
     "metadata": {},
     "output_type": "execute_result"
    }
   ],
   "source": [
    "df_f2['int_rate'].describe()"
   ]
  },
  {
   "cell_type": "code",
   "execution_count": 40,
   "id": "67e17151",
   "metadata": {},
   "outputs": [
    {
     "name": "stderr",
     "output_type": "stream",
     "text": [
      "C:\\Users\\kanishk\\anaconda3\\lib\\site-packages\\seaborn\\distributions.py:2557: FutureWarning: `distplot` is a deprecated function and will be removed in a future version. Please adapt your code to use either `displot` (a figure-level function with similar flexibility) or `histplot` (an axes-level function for histograms).\n",
      "  warnings.warn(msg, FutureWarning)\n"
     ]
    },
    {
     "data": {
      "image/png": "[encoded data removed]",
      "text/plain": [
       "<Figure size 1080x270 with 2 Axes>"
      ]
     },
     "metadata": {
      "needs_background": "light"
     },
     "output_type": "display_data"
    }
   ],
   "source": [
    "plot_var('int_rate', 'Interest Rate', continuous=True)"
   ]
  },
  {
   "cell_type": "code",
   "execution_count": 41,
   "id": "a71830dd",
   "metadata": {},
   "outputs": [
    {
     "data": {
      "text/html": [
       "<div>\n",
       "<style scoped>\n",
       "    .dataframe tbody tr th:only-of-type {\n",
       "        vertical-align: middle;\n",
       "    }\n",
       "\n",
       "    .dataframe tbody tr th {\n",
       "        vertical-align: top;\n",
       "    }\n",
       "\n",
       "    .dataframe thead th {\n",
       "        text-align: right;\n",
       "    }\n",
       "</style>\n",
       "<table border=\"1\" class=\"dataframe\">\n",
       "  <thead>\n",
       "    <tr style=\"text-align: right;\">\n",
       "      <th></th>\n",
       "      <th>count</th>\n",
       "      <th>mean</th>\n",
       "      <th>std</th>\n",
       "      <th>min</th>\n",
       "      <th>25%</th>\n",
       "      <th>50%</th>\n",
       "      <th>75%</th>\n",
       "      <th>max</th>\n",
       "    </tr>\n",
       "    <tr>\n",
       "      <th>loan_status</th>\n",
       "      <th></th>\n",
       "      <th></th>\n",
       "      <th></th>\n",
       "      <th></th>\n",
       "      <th></th>\n",
       "      <th></th>\n",
       "      <th></th>\n",
       "      <th></th>\n",
       "    </tr>\n",
       "  </thead>\n",
       "  <tbody>\n",
       "    <tr>\n",
       "      <th>Charged Off</th>\n",
       "      <td>168084.0</td>\n",
       "      <td>15.736335</td>\n",
       "      <td>4.625755</td>\n",
       "      <td>5.32</td>\n",
       "      <td>12.59</td>\n",
       "      <td>15.31</td>\n",
       "      <td>18.55</td>\n",
       "      <td>30.99</td>\n",
       "    </tr>\n",
       "    <tr>\n",
       "      <th>Fully Paid</th>\n",
       "      <td>646902.0</td>\n",
       "      <td>12.907587</td>\n",
       "      <td>4.434262</td>\n",
       "      <td>5.32</td>\n",
       "      <td>9.49</td>\n",
       "      <td>12.68</td>\n",
       "      <td>15.61</td>\n",
       "      <td>30.99</td>\n",
       "    </tr>\n",
       "  </tbody>\n",
       "</table>\n",
       "</div>"
      ],
      "text/plain": [
       "                count       mean       std   min    25%    50%    75%    max\n",
       "loan_status                                                                 \n",
       "Charged Off  168084.0  15.736335  4.625755  5.32  12.59  15.31  18.55  30.99\n",
       "Fully Paid   646902.0  12.907587  4.434262  5.32   9.49  12.68  15.61  30.99"
      ]
     },
     "execution_count": 41,
     "metadata": {},
     "output_type": "execute_result"
    }
   ],
   "source": [
    "df_f2.groupby('loan_status')['int_rate'].describe()"
   ]
  },
  {
   "cell_type": "code",
   "execution_count": 42,
   "id": "47407f39",
   "metadata": {},
   "outputs": [
    {
     "data": {
      "text/plain": [
       "count    814986.000000\n",
       "mean        436.749624\n",
       "std         255.732093\n",
       "min           4.930000\n",
       "25%         251.400000\n",
       "50%         377.040000\n",
       "75%         576.290000\n",
       "max        1714.540000\n",
       "Name: installment, dtype: float64"
      ]
     },
     "execution_count": 42,
     "metadata": {},
     "output_type": "execute_result"
    }
   ],
   "source": [
    "df_f2['installment'].describe()"
   ]
  },
  {
   "cell_type": "code",
   "execution_count": 43,
   "id": "0e620a00",
   "metadata": {},
   "outputs": [
    {
     "name": "stderr",
     "output_type": "stream",
     "text": [
      "C:\\Users\\kanishk\\anaconda3\\lib\\site-packages\\seaborn\\distributions.py:2557: FutureWarning: `distplot` is a deprecated function and will be removed in a future version. Please adapt your code to use either `displot` (a figure-level function with similar flexibility) or `histplot` (an axes-level function for histograms).\n",
      "  warnings.warn(msg, FutureWarning)\n"
     ]
    },
    {
     "data": {
      "image/png": "[encoded data removed]",
      "text/plain": [
       "<Figure size 1080x270 with 2 Axes>"
      ]
     },
     "metadata": {
      "needs_background": "light"
     },
     "output_type": "display_data"
    }
   ],
   "source": [
    "plot_var('installment', 'Installment', continuous=True)"
   ]
  },
  {
   "cell_type": "code",
   "execution_count": 44,
   "id": "0f04ef0c",
   "metadata": {},
   "outputs": [
    {
     "data": {
      "text/html": [
       "<div>\n",
       "<style scoped>\n",
       "    .dataframe tbody tr th:only-of-type {\n",
       "        vertical-align: middle;\n",
       "    }\n",
       "\n",
       "    .dataframe tbody tr th {\n",
       "        vertical-align: top;\n",
       "    }\n",
       "\n",
       "    .dataframe thead th {\n",
       "        text-align: right;\n",
       "    }\n",
       "</style>\n",
       "<table border=\"1\" class=\"dataframe\">\n",
       "  <thead>\n",
       "    <tr style=\"text-align: right;\">\n",
       "      <th></th>\n",
       "      <th>count</th>\n",
       "      <th>mean</th>\n",
       "      <th>std</th>\n",
       "      <th>min</th>\n",
       "      <th>25%</th>\n",
       "      <th>50%</th>\n",
       "      <th>75%</th>\n",
       "      <th>max</th>\n",
       "    </tr>\n",
       "    <tr>\n",
       "      <th>loan_status</th>\n",
       "      <th></th>\n",
       "      <th></th>\n",
       "      <th></th>\n",
       "      <th></th>\n",
       "      <th></th>\n",
       "      <th></th>\n",
       "      <th></th>\n",
       "      <th></th>\n",
       "    </tr>\n",
       "  </thead>\n",
       "  <tbody>\n",
       "    <tr>\n",
       "      <th>Charged Off</th>\n",
       "      <td>168084.0</td>\n",
       "      <td>459.973673</td>\n",
       "      <td>255.309267</td>\n",
       "      <td>21.62</td>\n",
       "      <td>276.14</td>\n",
       "      <td>402.39</td>\n",
       "      <td>595.87</td>\n",
       "      <td>1569.11</td>\n",
       "    </tr>\n",
       "    <tr>\n",
       "      <th>Fully Paid</th>\n",
       "      <td>646902.0</td>\n",
       "      <td>430.715339</td>\n",
       "      <td>255.496761</td>\n",
       "      <td>4.93</td>\n",
       "      <td>244.76</td>\n",
       "      <td>370.92</td>\n",
       "      <td>569.72</td>\n",
       "      <td>1714.54</td>\n",
       "    </tr>\n",
       "  </tbody>\n",
       "</table>\n",
       "</div>"
      ],
      "text/plain": [
       "                count        mean         std    min     25%     50%     75%  \\\n",
       "loan_status                                                                    \n",
       "Charged Off  168084.0  459.973673  255.309267  21.62  276.14  402.39  595.87   \n",
       "Fully Paid   646902.0  430.715339  255.496761   4.93  244.76  370.92  569.72   \n",
       "\n",
       "                 max  \n",
       "loan_status           \n",
       "Charged Off  1569.11  \n",
       "Fully Paid   1714.54  "
      ]
     },
     "execution_count": 44,
     "metadata": {},
     "output_type": "execute_result"
    }
   ],
   "source": [
    "df_f2.groupby('loan_status')['installment'].describe()"
   ]
  },
  {
   "cell_type": "code",
   "execution_count": 45,
   "id": "d951b5b5",
   "metadata": {},
   "outputs": [
    {
     "name": "stdout",
     "output_type": "stream",
     "text": [
      "['A', 'B', 'C', 'D', 'E', 'F', 'G']\n"
     ]
    }
   ],
   "source": [
    "print(sorted(df_f2['grade'].unique()))"
   ]
  },
  {
   "cell_type": "code",
   "execution_count": 46,
   "id": "2a3fa58b",
   "metadata": {},
   "outputs": [
    {
     "name": "stdout",
     "output_type": "stream",
     "text": [
      "['A1', 'A2', 'A3', 'A4', 'A5', 'B1', 'B2', 'B3', 'B4', 'B5', 'C1', 'C2', 'C3', 'C4', 'C5', 'D1', 'D2', 'D3', 'D4', 'D5', 'E1', 'E2', 'E3', 'E4', 'E5', 'F1', 'F2', 'F3', 'F4', 'F5', 'G1', 'G2', 'G3', 'G4', 'G5']\n"
     ]
    }
   ],
   "source": [
    "print(sorted(df_f2['sub_grade'].unique()))"
   ]
  },
  {
   "cell_type": "code",
   "execution_count": 47,
   "id": "e4c9d035",
   "metadata": {},
   "outputs": [],
   "source": [
    "df_f2.drop('grade', axis=1, inplace=True)"
   ]
  },
  {
   "cell_type": "code",
   "execution_count": 48,
   "id": "8d6c7f5d",
   "metadata": {},
   "outputs": [
    {
     "name": "stderr",
     "output_type": "stream",
     "text": [
      "C:\\Users\\kanishk\\anaconda3\\lib\\site-packages\\seaborn\\_decorators.py:36: FutureWarning: Pass the following variable as a keyword arg: x. From version 0.12, the only valid positional argument will be `data`, and passing other arguments without an explicit keyword will result in an error or misinterpretation.\n",
      "  warnings.warn(\n"
     ]
    },
    {
     "data": {
      "image/png": "[encoded data removed]",
      "text/plain": [
       "<Figure size 1080x270 with 2 Axes>"
      ]
     },
     "metadata": {
      "needs_background": "light"
     },
     "output_type": "display_data"
    }
   ],
   "source": [
    "plot_var('sub_grade', 'Subgrade', continuous=False)"
   ]
  },
  {
   "cell_type": "code",
   "execution_count": 49,
   "id": "995bf331",
   "metadata": {},
   "outputs": [
    {
     "data": {
      "text/plain": [
       "count      766415\n",
       "unique     280473\n",
       "top       Teacher\n",
       "freq        11351\n",
       "Name: emp_title, dtype: object"
      ]
     },
     "execution_count": 49,
     "metadata": {},
     "output_type": "execute_result"
    }
   ],
   "source": [
    "df_f2['emp_title'].describe()"
   ]
  },
  {
   "cell_type": "code",
   "execution_count": 50,
   "id": "b30507bc",
   "metadata": {},
   "outputs": [],
   "source": [
    "df_f2.drop(labels='emp_title', axis=1, inplace=True)"
   ]
  },
  {
   "cell_type": "code",
   "execution_count": 51,
   "id": "964c9589",
   "metadata": {},
   "outputs": [],
   "source": [
    "df_f2['emp_length'] = df_f1['emp_length']"
   ]
  },
  {
   "cell_type": "code",
   "execution_count": 52,
   "id": "c3bec54a",
   "metadata": {},
   "outputs": [
    {
     "data": {
      "text/plain": [
       "0     10+ years\n",
       "1       8 years\n",
       "2       6 years\n",
       "4      < 1 year\n",
       "5     10+ years\n",
       "6      < 1 year\n",
       "7       6 years\n",
       "8     10+ years\n",
       "9       2 years\n",
       "10      8 years\n",
       "Name: emp_length, dtype: object"
      ]
     },
     "execution_count": 52,
     "metadata": {},
     "output_type": "execute_result"
    }
   ],
   "source": [
    "df_f2['emp_length'].head(10)"
   ]
  },
  {
   "cell_type": "code",
   "execution_count": 53,
   "id": "b76602ce",
   "metadata": {},
   "outputs": [
    {
     "data": {
      "text/plain": [
       "1 year        53411\n",
       "10+ years    264873\n",
       "2 years       73493\n",
       "3 years       64999\n",
       "4 years       48752\n",
       "5 years       52149\n",
       "6 years       40290\n",
       "7 years       39407\n",
       "8 years       38887\n",
       "9 years       31900\n",
       "< 1 year      64572\n",
       "NaN           42253\n",
       "Name: emp_length, dtype: int64"
      ]
     },
     "execution_count": 53,
     "metadata": {},
     "output_type": "execute_result"
    }
   ],
   "source": [
    "df_f2['emp_length'].value_counts(dropna=False).sort_index()"
   ]
  },
  {
   "cell_type": "code",
   "execution_count": 54,
   "id": "7fa3bf61",
   "metadata": {},
   "outputs": [],
   "source": [
    "df_f2['emp_length'].replace(to_replace='10+ years', value='10 years', inplace=True)"
   ]
  },
  {
   "cell_type": "code",
   "execution_count": 55,
   "id": "b022e2a4",
   "metadata": {},
   "outputs": [],
   "source": [
    "df_f2['emp_length'].replace('< 1 year', '0 years', inplace=True)"
   ]
  },
  {
   "cell_type": "code",
   "execution_count": 56,
   "id": "73b68af6",
   "metadata": {},
   "outputs": [],
   "source": [
    "def emp_length_to_int(s):\n",
    "    if pd.isnull(s):\n",
    "        return s\n",
    "    else:\n",
    "        return np.int8(s.split()[0])"
   ]
  },
  {
   "cell_type": "code",
   "execution_count": 57,
   "id": "705dbc32",
   "metadata": {},
   "outputs": [],
   "source": [
    "df_f2['emp_length'] = df_f2['emp_length'].apply(emp_length_to_int)"
   ]
  },
  {
   "cell_type": "code",
   "execution_count": 58,
   "id": "e514c02e",
   "metadata": {},
   "outputs": [
    {
     "data": {
      "text/plain": [
       "0.0      64572\n",
       "1.0      53411\n",
       "2.0      73493\n",
       "3.0      64999\n",
       "4.0      48752\n",
       "5.0      52149\n",
       "6.0      40290\n",
       "7.0      39407\n",
       "8.0      38887\n",
       "9.0      31900\n",
       "10.0    264873\n",
       "NaN      42253\n",
       "Name: emp_length, dtype: int64"
      ]
     },
     "execution_count": 58,
     "metadata": {},
     "output_type": "execute_result"
    }
   ],
   "source": [
    "df_f2['emp_length'].value_counts(dropna=False).sort_index()"
   ]
  },
  {
   "cell_type": "code",
   "execution_count": 59,
   "id": "c7538178",
   "metadata": {},
   "outputs": [
    {
     "name": "stderr",
     "output_type": "stream",
     "text": [
      "C:\\Users\\kanishk\\anaconda3\\lib\\site-packages\\seaborn\\_decorators.py:36: FutureWarning: Pass the following variable as a keyword arg: x. From version 0.12, the only valid positional argument will be `data`, and passing other arguments without an explicit keyword will result in an error or misinterpretation.\n",
      "  warnings.warn(\n"
     ]
    },
    {
     "data": {
      "image/png": "[encoded data removed]",
      "text/plain": [
       "<Figure size 1080x270 with 2 Axes>"
      ]
     },
     "metadata": {
      "needs_background": "light"
     },
     "output_type": "display_data"
    }
   ],
   "source": [
    "plot_var('emp_length', 'Employment Length', continuous=False)"
   ]
  },
  {
   "cell_type": "code",
   "execution_count": 60,
   "id": "6f93979b",
   "metadata": {},
   "outputs": [
    {
     "data": {
      "text/plain": [
       "MORTGAGE    406866\n",
       "RENT        325071\n",
       "OWN          82765\n",
       "OTHER          144\n",
       "ANY             94\n",
       "NONE            46\n",
       "Name: home_ownership, dtype: int64"
      ]
     },
     "execution_count": 60,
     "metadata": {},
     "output_type": "execute_result"
    }
   ],
   "source": [
    "df_f2['home_ownership'].value_counts(dropna=False)"
   ]
  },
  {
   "cell_type": "code",
   "execution_count": 61,
   "id": "d40d9ad1",
   "metadata": {},
   "outputs": [],
   "source": [
    "df_f2['home_ownership'].replace(['NONE', 'ANY'], 'OTHER', inplace=True)"
   ]
  },
  {
   "cell_type": "code",
   "execution_count": 62,
   "id": "ecf9538c",
   "metadata": {},
   "outputs": [
    {
     "data": {
      "text/plain": [
       "MORTGAGE    406866\n",
       "RENT        325071\n",
       "OWN          82765\n",
       "OTHER          284\n",
       "Name: home_ownership, dtype: int64"
      ]
     },
     "execution_count": 62,
     "metadata": {},
     "output_type": "execute_result"
    }
   ],
   "source": [
    "df_f2['home_ownership'].value_counts(dropna=False)"
   ]
  },
  {
   "cell_type": "code",
   "execution_count": 63,
   "id": "bac3af7c",
   "metadata": {},
   "outputs": [
    {
     "name": "stderr",
     "output_type": "stream",
     "text": [
      "C:\\Users\\kanishk\\anaconda3\\lib\\site-packages\\seaborn\\_decorators.py:36: FutureWarning: Pass the following variable as a keyword arg: x. From version 0.12, the only valid positional argument will be `data`, and passing other arguments without an explicit keyword will result in an error or misinterpretation.\n",
      "  warnings.warn(\n"
     ]
    },
    {
     "data": {
      "image/png": "[encoded data removed]",
      "text/plain": [
       "<Figure size 1080x270 with 2 Axes>"
      ]
     },
     "metadata": {
      "needs_background": "light"
     },
     "output_type": "display_data"
    }
   ],
   "source": [
    "plot_var('home_ownership', 'Home Ownership', continuous=False)"
   ]
  },
  {
   "cell_type": "code",
   "execution_count": 64,
   "id": "c93c3d26",
   "metadata": {},
   "outputs": [
    {
     "data": {
      "text/plain": [
       "home_ownership\n",
       "MORTGAGE    0.177808\n",
       "OTHER       0.176056\n",
       "OWN         0.215804\n",
       "RENT        0.239422\n",
       "Name: loan_status, dtype: float64"
      ]
     },
     "execution_count": 64,
     "metadata": {},
     "output_type": "execute_result"
    }
   ],
   "source": [
    "df_f2.groupby('home_ownership')['loan_status'].value_counts(normalize=True).loc[:,'Charged Off']"
   ]
  },
  {
   "cell_type": "code",
   "execution_count": 65,
   "id": "ed5c7671",
   "metadata": {},
   "outputs": [
    {
     "data": {
      "text/plain": [
       "count    8.149860e+05\n",
       "mean     7.523039e+04\n",
       "std      6.524373e+04\n",
       "min      0.000000e+00\n",
       "25%      4.500000e+04\n",
       "50%      6.500000e+04\n",
       "75%      9.000000e+04\n",
       "max      9.550000e+06\n",
       "Name: annual_inc, dtype: float64"
      ]
     },
     "execution_count": 65,
     "metadata": {},
     "output_type": "execute_result"
    }
   ],
   "source": [
    "df_f2['annual_inc'].describe()"
   ]
  },
  {
   "cell_type": "code",
   "execution_count": 66,
   "id": "40684133",
   "metadata": {},
   "outputs": [],
   "source": [
    "df_f2['log_annual_inc'] = df_f2['annual_inc'].apply(lambda x: np.log10(x+1))"
   ]
  },
  {
   "cell_type": "code",
   "execution_count": 67,
   "id": "1f64d988",
   "metadata": {},
   "outputs": [
    {
     "data": {
      "text/plain": [
       "count    814986.000000\n",
       "mean          4.810836\n",
       "std           0.231893\n",
       "min           0.000000\n",
       "25%           4.653222\n",
       "50%           4.812920\n",
       "75%           4.954247\n",
       "max           6.980003\n",
       "Name: log_annual_inc, dtype: float64"
      ]
     },
     "execution_count": 67,
     "metadata": {},
     "output_type": "execute_result"
    }
   ],
   "source": [
    "df_f2['log_annual_inc'].describe()"
   ]
  },
  {
   "cell_type": "code",
   "execution_count": 68,
   "id": "7384852d",
   "metadata": {},
   "outputs": [
    {
     "name": "stderr",
     "output_type": "stream",
     "text": [
      "C:\\Users\\kanishk\\anaconda3\\lib\\site-packages\\seaborn\\distributions.py:2557: FutureWarning: `distplot` is a deprecated function and will be removed in a future version. Please adapt your code to use either `displot` (a figure-level function with similar flexibility) or `histplot` (an axes-level function for histograms).\n",
      "  warnings.warn(msg, FutureWarning)\n"
     ]
    },
    {
     "data": {
      "image/png": "[encoded data removed]",
      "text/plain": [
       "<Figure size 1080x270 with 2 Axes>"
      ]
     },
     "metadata": {
      "needs_background": "light"
     },
     "output_type": "display_data"
    }
   ],
   "source": [
    "plot_var('log_annual_inc', 'Log Annual Income', continuous=True)"
   ]
  },
  {
   "cell_type": "code",
   "execution_count": 69,
   "id": "e80fb442",
   "metadata": {},
   "outputs": [
    {
     "data": {
      "text/html": [
       "<div>\n",
       "<style scoped>\n",
       "    .dataframe tbody tr th:only-of-type {\n",
       "        vertical-align: middle;\n",
       "    }\n",
       "\n",
       "    .dataframe tbody tr th {\n",
       "        vertical-align: top;\n",
       "    }\n",
       "\n",
       "    .dataframe thead th {\n",
       "        text-align: right;\n",
       "    }\n",
       "</style>\n",
       "<table border=\"1\" class=\"dataframe\">\n",
       "  <thead>\n",
       "    <tr style=\"text-align: right;\">\n",
       "      <th></th>\n",
       "      <th>count</th>\n",
       "      <th>mean</th>\n",
       "      <th>std</th>\n",
       "      <th>min</th>\n",
       "      <th>25%</th>\n",
       "      <th>50%</th>\n",
       "      <th>75%</th>\n",
       "      <th>max</th>\n",
       "    </tr>\n",
       "    <tr>\n",
       "      <th>loan_status</th>\n",
       "      <th></th>\n",
       "      <th></th>\n",
       "      <th></th>\n",
       "      <th></th>\n",
       "      <th></th>\n",
       "      <th></th>\n",
       "      <th></th>\n",
       "      <th></th>\n",
       "    </tr>\n",
       "  </thead>\n",
       "  <tbody>\n",
       "    <tr>\n",
       "      <th>Charged Off</th>\n",
       "      <td>168084.0</td>\n",
       "      <td>4.777072</td>\n",
       "      <td>0.227015</td>\n",
       "      <td>0.0</td>\n",
       "      <td>4.632467</td>\n",
       "      <td>4.778158</td>\n",
       "      <td>4.915096</td>\n",
       "      <td>6.949393</td>\n",
       "    </tr>\n",
       "    <tr>\n",
       "      <th>Fully Paid</th>\n",
       "      <td>646902.0</td>\n",
       "      <td>4.819608</td>\n",
       "      <td>0.232342</td>\n",
       "      <td>0.0</td>\n",
       "      <td>4.672107</td>\n",
       "      <td>4.812920</td>\n",
       "      <td>4.963793</td>\n",
       "      <td>6.980003</td>\n",
       "    </tr>\n",
       "  </tbody>\n",
       "</table>\n",
       "</div>"
      ],
      "text/plain": [
       "                count      mean       std  min       25%       50%       75%  \\\n",
       "loan_status                                                                    \n",
       "Charged Off  168084.0  4.777072  0.227015  0.0  4.632467  4.778158  4.915096   \n",
       "Fully Paid   646902.0  4.819608  0.232342  0.0  4.672107  4.812920  4.963793   \n",
       "\n",
       "                  max  \n",
       "loan_status            \n",
       "Charged Off  6.949393  \n",
       "Fully Paid   6.980003  "
      ]
     },
     "execution_count": 69,
     "metadata": {},
     "output_type": "execute_result"
    }
   ],
   "source": [
    "df_f2.groupby('loan_status')['log_annual_inc'].describe()"
   ]
  },
  {
   "cell_type": "code",
   "execution_count": 70,
   "id": "8c006e86",
   "metadata": {},
   "outputs": [
    {
     "name": "stderr",
     "output_type": "stream",
     "text": [
      "C:\\Users\\kanishk\\anaconda3\\lib\\site-packages\\seaborn\\_decorators.py:36: FutureWarning: Pass the following variable as a keyword arg: x. From version 0.12, the only valid positional argument will be `data`, and passing other arguments without an explicit keyword will result in an error or misinterpretation.\n",
      "  warnings.warn(\n"
     ]
    },
    {
     "data": {
      "image/png": "[encoded data removed]",
      "text/plain": [
       "<Figure size 1080x270 with 2 Axes>"
      ]
     },
     "metadata": {
      "needs_background": "light"
     },
     "output_type": "display_data"
    }
   ],
   "source": [
    "plot_var('verification_status', 'Verification Status', continuous=False)"
   ]
  },
  {
   "cell_type": "code",
   "execution_count": 71,
   "id": "b7b11a90",
   "metadata": {},
   "outputs": [
    {
     "data": {
      "text/plain": [
       "debt_consolidation    481652\n",
       "credit_card           175123\n",
       "home_improvement       50793\n",
       "other                  43900\n",
       "major_purchase         17463\n",
       "small_business         10214\n",
       "car                     8936\n",
       "medical                 8772\n",
       "moving                  5725\n",
       "vacation                5116\n",
       "house                   4095\n",
       "wedding                 2272\n",
       "renewable_energy         599\n",
       "educational              326\n",
       "Name: purpose, dtype: int64"
      ]
     },
     "execution_count": 71,
     "metadata": {},
     "output_type": "execute_result"
    }
   ],
   "source": [
    "df_f2['purpose'].value_counts()"
   ]
  },
  {
   "cell_type": "code",
   "execution_count": 72,
   "id": "7a987fd2",
   "metadata": {},
   "outputs": [
    {
     "data": {
      "text/plain": [
       "purpose\n",
       "wedding               0.121919\n",
       "car                   0.148053\n",
       "educational           0.171779\n",
       "credit_card           0.178412\n",
       "home_improvement      0.181383\n",
       "major_purchase        0.183245\n",
       "vacation              0.198788\n",
       "house                 0.214652\n",
       "other                 0.216970\n",
       "debt_consolidation    0.217398\n",
       "medical               0.229366\n",
       "moving                0.242969\n",
       "renewable_energy      0.247078\n",
       "small_business        0.302428\n",
       "Name: loan_status, dtype: float64"
      ]
     },
     "execution_count": 72,
     "metadata": {},
     "output_type": "execute_result"
    }
   ],
   "source": [
    "df_f2.groupby('purpose')['loan_status'].value_counts(normalize=True).loc[:,'Charged Off'].sort_values()"
   ]
  },
  {
   "cell_type": "code",
   "execution_count": 73,
   "id": "4a6099f9",
   "metadata": {},
   "outputs": [
    {
     "data": {
      "text/plain": [
       "count                 807068\n",
       "unique                 60298\n",
       "top       Debt consolidation\n",
       "freq                  371874\n",
       "Name: title, dtype: object"
      ]
     },
     "execution_count": 73,
     "metadata": {},
     "output_type": "execute_result"
    }
   ],
   "source": [
    "df_f2['title'].describe()"
   ]
  },
  {
   "cell_type": "code",
   "execution_count": 74,
   "id": "d4efd9c9",
   "metadata": {},
   "outputs": [
    {
     "data": {
      "text/plain": [
       "Debt consolidation         371874\n",
       "Credit card refinancing    133334\n",
       "Home improvement            39171\n",
       "Other                       33265\n",
       "Debt Consolidation          15059\n",
       "Major purchase              12311\n",
       "Medical expenses             6908\n",
       "Business                     6666\n",
       "Car financing                5667\n",
       "Consolidation                5090\n",
       "Name: title, dtype: int64"
      ]
     },
     "execution_count": 74,
     "metadata": {},
     "output_type": "execute_result"
    }
   ],
   "source": [
    "df_f2['title'].value_counts().head(10)"
   ]
  },
  {
   "cell_type": "code",
   "execution_count": 75,
   "id": "b91d2466",
   "metadata": {},
   "outputs": [],
   "source": [
    "df_f2.drop('title', axis=1, inplace=True)"
   ]
  },
  {
   "cell_type": "code",
   "execution_count": 76,
   "id": "69b1773b",
   "metadata": {},
   "outputs": [
    {
     "data": {
      "text/plain": [
       "455380    773xx\n",
       "12268     785xx\n",
       "188556    283xx\n",
       "597745    559xx\n",
       "134315    335xx\n",
       "Name: zip_code, dtype: object"
      ]
     },
     "execution_count": 76,
     "metadata": {},
     "output_type": "execute_result"
    }
   ],
   "source": [
    "df_f2['zip_code'].sample(5)"
   ]
  },
  {
   "cell_type": "code",
   "execution_count": 77,
   "id": "1a16ea01",
   "metadata": {},
   "outputs": [
    {
     "data": {
      "text/plain": [
       "925"
      ]
     },
     "execution_count": 77,
     "metadata": {},
     "output_type": "execute_result"
    }
   ],
   "source": [
    "df_f2['zip_code'].nunique()"
   ]
  },
  {
   "cell_type": "code",
   "execution_count": 78,
   "id": "fd5b56fc",
   "metadata": {},
   "outputs": [],
   "source": [
    "df_f2.drop(labels='zip_code', axis=1, inplace=True)"
   ]
  },
  {
   "cell_type": "code",
   "execution_count": 79,
   "id": "1e99aecf",
   "metadata": {},
   "outputs": [
    {
     "data": {
      "text/plain": [
       "837339    TN\n",
       "230092    NY\n",
       "400940    IN\n",
       "681141    NJ\n",
       "669222    CT\n",
       "Name: addr_state, dtype: object"
      ]
     },
     "execution_count": 79,
     "metadata": {},
     "output_type": "execute_result"
    }
   ],
   "source": [
    "df_f2['addr_state'].sample(5)"
   ]
  },
  {
   "cell_type": "code",
   "execution_count": 80,
   "id": "fab9ee9a",
   "metadata": {},
   "outputs": [
    {
     "data": {
      "text/plain": [
       "51"
      ]
     },
     "execution_count": 80,
     "metadata": {},
     "output_type": "execute_result"
    }
   ],
   "source": [
    "df_f2['addr_state'].nunique()"
   ]
  },
  {
   "cell_type": "code",
   "execution_count": 81,
   "id": "f5e2dd8d",
   "metadata": {},
   "outputs": [
    {
     "data": {
      "text/plain": [
       "addr_state\n",
       "DC    0.130378\n",
       "ME    0.136564\n",
       "NH    0.142554\n",
       "IA    0.142857\n",
       "VT    0.149225\n",
       "OR    0.152827\n",
       "CO    0.158083\n",
       "WA    0.166538\n",
       "KS    0.171004\n",
       "SC    0.172705\n",
       "WI    0.175315\n",
       "MT    0.177759\n",
       "WY    0.178142\n",
       "UT    0.179049\n",
       "WV    0.182457\n",
       "CT    0.183810\n",
       "GA    0.191224\n",
       "MA    0.192974\n",
       "IL    0.193302\n",
       "ID    0.193487\n",
       "RI    0.194009\n",
       "CA    0.198303\n",
       "AZ    0.199321\n",
       "TX    0.202286\n",
       "AK    0.204141\n",
       "HI    0.204535\n",
       "DE    0.206575\n",
       "VA    0.207942\n",
       "MI    0.208880\n",
       "MN    0.210363\n",
       "PA    0.214776\n",
       "MD    0.214845\n",
       "NC    0.215282\n",
       "NJ    0.216208\n",
       "KY    0.216353\n",
       "MO    0.219400\n",
       "FL    0.222007\n",
       "OH    0.225400\n",
       "NM    0.225694\n",
       "SD    0.225787\n",
       "NY    0.227045\n",
       "IN    0.228179\n",
       "TN    0.230479\n",
       "NV    0.234202\n",
       "ND    0.237232\n",
       "LA    0.237900\n",
       "AR    0.243154\n",
       "AL    0.247650\n",
       "OK    0.248252\n",
       "NE    0.267946\n",
       "MS    0.275619\n",
       "Name: loan_status, dtype: float64"
      ]
     },
     "execution_count": 81,
     "metadata": {},
     "output_type": "execute_result"
    }
   ],
   "source": [
    "df_f2.groupby('addr_state')['loan_status'].value_counts(normalize=True).loc[:,'Charged Off'].sort_values()"
   ]
  },
  {
   "cell_type": "code",
   "execution_count": 82,
   "id": "9c9c6323",
   "metadata": {},
   "outputs": [
    {
     "data": {
      "text/plain": [
       "count    814950.000000\n",
       "mean         17.867719\n",
       "std           8.856477\n",
       "min          -1.000000\n",
       "25%          11.640000\n",
       "50%          17.360000\n",
       "75%          23.630000\n",
       "max         999.000000\n",
       "Name: dti, dtype: float64"
      ]
     },
     "execution_count": 82,
     "metadata": {},
     "output_type": "execute_result"
    }
   ],
   "source": [
    "df_f2['dti'].describe()"
   ]
  },
  {
   "cell_type": "code",
   "execution_count": 83,
   "id": "16f9304d",
   "metadata": {},
   "outputs": [
    {
     "name": "stderr",
     "output_type": "stream",
     "text": [
      "C:\\Users\\kanishk\\anaconda3\\lib\\site-packages\\seaborn\\distributions.py:2557: FutureWarning: `distplot` is a deprecated function and will be removed in a future version. Please adapt your code to use either `displot` (a figure-level function with similar flexibility) or `histplot` (an axes-level function for histograms).\n",
      "  warnings.warn(msg, FutureWarning)\n"
     ]
    },
    {
     "data": {
      "text/plain": [
       "Text(0.5, 1.0, 'Debt-to-income Ratio')"
      ]
     },
     "execution_count": 83,
     "metadata": {},
     "output_type": "execute_result"
    },
    {
     "data": {
      "image/png": "[encoded data removed]",
      "text/plain": [
       "<Figure size 720x270 with 1 Axes>"
      ]
     },
     "metadata": {
      "needs_background": "light"
     },
     "output_type": "display_data"
    }
   ],
   "source": [
    "plt.figure(figsize=(8,3), dpi=90)\n",
    "sns.distplot(df_f2.loc[df_f2['dti'].notnull() & (df_f2['dti']<60), 'dti'], kde=False)\n",
    "plt.xlabel('Debt-to-income Ratio')\n",
    "plt.ylabel('Count')\n",
    "plt.title('Debt-to-income Ratio')"
   ]
  },
  {
   "cell_type": "code",
   "execution_count": 84,
   "id": "51473bc0",
   "metadata": {},
   "outputs": [
    {
     "data": {
      "text/plain": [
       "179"
      ]
     },
     "execution_count": 84,
     "metadata": {},
     "output_type": "execute_result"
    }
   ],
   "source": [
    "(df_f2['dti']>=60).sum()"
   ]
  },
  {
   "cell_type": "code",
   "execution_count": 85,
   "id": "87239b56",
   "metadata": {},
   "outputs": [
    {
     "data": {
      "text/html": [
       "<div>\n",
       "<style scoped>\n",
       "    .dataframe tbody tr th:only-of-type {\n",
       "        vertical-align: middle;\n",
       "    }\n",
       "\n",
       "    .dataframe tbody tr th {\n",
       "        vertical-align: top;\n",
       "    }\n",
       "\n",
       "    .dataframe thead th {\n",
       "        text-align: right;\n",
       "    }\n",
       "</style>\n",
       "<table border=\"1\" class=\"dataframe\">\n",
       "  <thead>\n",
       "    <tr style=\"text-align: right;\">\n",
       "      <th></th>\n",
       "      <th>count</th>\n",
       "      <th>mean</th>\n",
       "      <th>std</th>\n",
       "      <th>min</th>\n",
       "      <th>25%</th>\n",
       "      <th>50%</th>\n",
       "      <th>75%</th>\n",
       "      <th>max</th>\n",
       "    </tr>\n",
       "    <tr>\n",
       "      <th>loan_status</th>\n",
       "      <th></th>\n",
       "      <th></th>\n",
       "      <th></th>\n",
       "      <th></th>\n",
       "      <th></th>\n",
       "      <th></th>\n",
       "      <th></th>\n",
       "      <th></th>\n",
       "    </tr>\n",
       "  </thead>\n",
       "  <tbody>\n",
       "    <tr>\n",
       "      <th>Charged Off</th>\n",
       "      <td>168078.0</td>\n",
       "      <td>20.005334</td>\n",
       "      <td>8.991035</td>\n",
       "      <td>0.0</td>\n",
       "      <td>13.65</td>\n",
       "      <td>19.77</td>\n",
       "      <td>26.21</td>\n",
       "      <td>999.0</td>\n",
       "    </tr>\n",
       "    <tr>\n",
       "      <th>Fully Paid</th>\n",
       "      <td>646872.0</td>\n",
       "      <td>17.312298</td>\n",
       "      <td>8.735991</td>\n",
       "      <td>-1.0</td>\n",
       "      <td>11.22</td>\n",
       "      <td>16.77</td>\n",
       "      <td>22.90</td>\n",
       "      <td>999.0</td>\n",
       "    </tr>\n",
       "  </tbody>\n",
       "</table>\n",
       "</div>"
      ],
      "text/plain": [
       "                count       mean       std  min    25%    50%    75%    max\n",
       "loan_status                                                                \n",
       "Charged Off  168078.0  20.005334  8.991035  0.0  13.65  19.77  26.21  999.0\n",
       "Fully Paid   646872.0  17.312298  8.735991 -1.0  11.22  16.77  22.90  999.0"
      ]
     },
     "execution_count": 85,
     "metadata": {},
     "output_type": "execute_result"
    }
   ],
   "source": [
    "df_f2.groupby('loan_status')['dti'].describe()"
   ]
  },
  {
   "cell_type": "code",
   "execution_count": 86,
   "id": "adc2795c",
   "metadata": {},
   "outputs": [
    {
     "data": {
      "text/plain": [
       "483695     Apr-1993\n",
       "1096495    Dec-2003\n",
       "59033      Feb-1993\n",
       "988839     Feb-2006\n",
       "185849     Dec-1995\n",
       "Name: earliest_cr_line, dtype: object"
      ]
     },
     "execution_count": 86,
     "metadata": {},
     "output_type": "execute_result"
    }
   ],
   "source": [
    "df_f2['earliest_cr_line'].sample(5)"
   ]
  },
  {
   "cell_type": "code",
   "execution_count": 87,
   "id": "dfaaeba5",
   "metadata": {},
   "outputs": [
    {
     "data": {
      "text/plain": [
       "False"
      ]
     },
     "execution_count": 87,
     "metadata": {},
     "output_type": "execute_result"
    }
   ],
   "source": [
    "df_f2['earliest_cr_line'].isnull().any()"
   ]
  },
  {
   "cell_type": "code",
   "execution_count": 88,
   "id": "06ff8f2e",
   "metadata": {},
   "outputs": [],
   "source": [
    "df_f2['earliest_cr_line'] = df_f2['earliest_cr_line'].apply(lambda s: int(s[-4:]))"
   ]
  },
  {
   "cell_type": "code",
   "execution_count": 89,
   "id": "3696306e",
   "metadata": {
    "_uuid": "b9bcb63c0a4d56a32cca56ad70087621b4fff30a"
   },
   "outputs": [
    {
     "data": {
      "text/plain": [
       "count    814986.000000\n",
       "mean       1998.170962\n",
       "std           7.385629\n",
       "min        1944.000000\n",
       "25%        1994.000000\n",
       "50%        2000.000000\n",
       "75%        2003.000000\n",
       "max        2014.000000\n",
       "Name: earliest_cr_line, dtype: float64"
      ]
     },
     "execution_count": 89,
     "metadata": {},
     "output_type": "execute_result"
    }
   ],
   "source": [
    "df_f2['earliest_cr_line'].describe()"
   ]
  },
  {
   "cell_type": "code",
   "execution_count": 90,
   "id": "c129e8af",
   "metadata": {
    "_uuid": "66d577854e7297a51ba2af177c34cb6dec848d01"
   },
   "outputs": [
    {
     "name": "stderr",
     "output_type": "stream",
     "text": [
      "C:\\Users\\kanishk\\anaconda3\\lib\\site-packages\\seaborn\\distributions.py:2557: FutureWarning: `distplot` is a deprecated function and will be removed in a future version. Please adapt your code to use either `displot` (a figure-level function with similar flexibility) or `histplot` (an axes-level function for histograms).\n",
      "  warnings.warn(msg, FutureWarning)\n"
     ]
    },
    {
     "data": {
      "image/png": "[encoded data removed]",
      "text/plain": [
       "<Figure size 1080x270 with 2 Axes>"
      ]
     },
     "metadata": {
      "needs_background": "light"
     },
     "output_type": "display_data"
    }
   ],
   "source": [
    "plot_var('earliest_cr_line', 'Year of Earliest Credit Line', continuous=True)"
   ]
  },
  {
   "cell_type": "code",
   "execution_count": 91,
   "id": "4594f35d",
   "metadata": {},
   "outputs": [
    {
     "data": {
      "text/html": [
       "<div>\n",
       "<style scoped>\n",
       "    .dataframe tbody tr th:only-of-type {\n",
       "        vertical-align: middle;\n",
       "    }\n",
       "\n",
       "    .dataframe tbody tr th {\n",
       "        vertical-align: top;\n",
       "    }\n",
       "\n",
       "    .dataframe thead th {\n",
       "        text-align: right;\n",
       "    }\n",
       "</style>\n",
       "<table border=\"1\" class=\"dataframe\">\n",
       "  <thead>\n",
       "    <tr style=\"text-align: right;\">\n",
       "      <th></th>\n",
       "      <th>fico_range_low</th>\n",
       "      <th>fico_range_high</th>\n",
       "    </tr>\n",
       "  </thead>\n",
       "  <tbody>\n",
       "    <tr>\n",
       "      <th>count</th>\n",
       "      <td>814986.000000</td>\n",
       "      <td>814986.000000</td>\n",
       "    </tr>\n",
       "    <tr>\n",
       "      <th>mean</th>\n",
       "      <td>695.603151</td>\n",
       "      <td>699.603264</td>\n",
       "    </tr>\n",
       "    <tr>\n",
       "      <th>std</th>\n",
       "      <td>31.352251</td>\n",
       "      <td>31.352791</td>\n",
       "    </tr>\n",
       "    <tr>\n",
       "      <th>min</th>\n",
       "      <td>625.000000</td>\n",
       "      <td>629.000000</td>\n",
       "    </tr>\n",
       "    <tr>\n",
       "      <th>25%</th>\n",
       "      <td>670.000000</td>\n",
       "      <td>674.000000</td>\n",
       "    </tr>\n",
       "    <tr>\n",
       "      <th>50%</th>\n",
       "      <td>690.000000</td>\n",
       "      <td>694.000000</td>\n",
       "    </tr>\n",
       "    <tr>\n",
       "      <th>75%</th>\n",
       "      <td>710.000000</td>\n",
       "      <td>714.000000</td>\n",
       "    </tr>\n",
       "    <tr>\n",
       "      <th>max</th>\n",
       "      <td>845.000000</td>\n",
       "      <td>850.000000</td>\n",
       "    </tr>\n",
       "  </tbody>\n",
       "</table>\n",
       "</div>"
      ],
      "text/plain": [
       "       fico_range_low  fico_range_high\n",
       "count   814986.000000    814986.000000\n",
       "mean       695.603151       699.603264\n",
       "std         31.352251        31.352791\n",
       "min        625.000000       629.000000\n",
       "25%        670.000000       674.000000\n",
       "50%        690.000000       694.000000\n",
       "75%        710.000000       714.000000\n",
       "max        845.000000       850.000000"
      ]
     },
     "execution_count": 91,
     "metadata": {},
     "output_type": "execute_result"
    }
   ],
   "source": [
    "df_f2[['fico_range_low', 'fico_range_high']].describe()"
   ]
  },
  {
   "cell_type": "code",
   "execution_count": 92,
   "id": "b7389476",
   "metadata": {},
   "outputs": [
    {
     "data": {
      "text/html": [
       "<div>\n",
       "<style scoped>\n",
       "    .dataframe tbody tr th:only-of-type {\n",
       "        vertical-align: middle;\n",
       "    }\n",
       "\n",
       "    .dataframe tbody tr th {\n",
       "        vertical-align: top;\n",
       "    }\n",
       "\n",
       "    .dataframe thead th {\n",
       "        text-align: right;\n",
       "    }\n",
       "</style>\n",
       "<table border=\"1\" class=\"dataframe\">\n",
       "  <thead>\n",
       "    <tr style=\"text-align: right;\">\n",
       "      <th></th>\n",
       "      <th>fico_range_low</th>\n",
       "      <th>fico_range_high</th>\n",
       "    </tr>\n",
       "  </thead>\n",
       "  <tbody>\n",
       "    <tr>\n",
       "      <th>fico_range_low</th>\n",
       "      <td>1.0</td>\n",
       "      <td>1.0</td>\n",
       "    </tr>\n",
       "    <tr>\n",
       "      <th>fico_range_high</th>\n",
       "      <td>1.0</td>\n",
       "      <td>1.0</td>\n",
       "    </tr>\n",
       "  </tbody>\n",
       "</table>\n",
       "</div>"
      ],
      "text/plain": [
       "                 fico_range_low  fico_range_high\n",
       "fico_range_low              1.0              1.0\n",
       "fico_range_high             1.0              1.0"
      ]
     },
     "execution_count": 92,
     "metadata": {},
     "output_type": "execute_result"
    }
   ],
   "source": [
    "df_f2[['fico_range_low','fico_range_high']].corr()"
   ]
  },
  {
   "cell_type": "code",
   "execution_count": 93,
   "id": "6d575b50",
   "metadata": {
    "scrolled": true
   },
   "outputs": [],
   "source": [
    "df_f2['fico_score'] = 0.5*df_f2['fico_range_low'] + 0.5*df_f2['fico_range_high']"
   ]
  },
  {
   "cell_type": "code",
   "execution_count": 94,
   "id": "5283f7d6",
   "metadata": {},
   "outputs": [],
   "source": [
    "df_f2.drop(['fico_range_high', 'fico_range_low'], axis=1, inplace=True)"
   ]
  },
  {
   "cell_type": "code",
   "execution_count": 95,
   "id": "6bc09d4d",
   "metadata": {},
   "outputs": [
    {
     "name": "stderr",
     "output_type": "stream",
     "text": [
      "C:\\Users\\kanishk\\anaconda3\\lib\\site-packages\\seaborn\\distributions.py:2557: FutureWarning: `distplot` is a deprecated function and will be removed in a future version. Please adapt your code to use either `displot` (a figure-level function with similar flexibility) or `histplot` (an axes-level function for histograms).\n",
      "  warnings.warn(msg, FutureWarning)\n"
     ]
    },
    {
     "data": {
      "image/png": "[encoded data removed]",
      "text/plain": [
       "<Figure size 1080x270 with 2 Axes>"
      ]
     },
     "metadata": {
      "needs_background": "light"
     },
     "output_type": "display_data"
    }
   ],
   "source": [
    "plot_var('fico_score', 'FICO Score', continuous=True)"
   ]
  },
  {
   "cell_type": "code",
   "execution_count": 96,
   "id": "80603c51",
   "metadata": {},
   "outputs": [
    {
     "data": {
      "text/html": [
       "<div>\n",
       "<style scoped>\n",
       "    .dataframe tbody tr th:only-of-type {\n",
       "        vertical-align: middle;\n",
       "    }\n",
       "\n",
       "    .dataframe tbody tr th {\n",
       "        vertical-align: top;\n",
       "    }\n",
       "\n",
       "    .dataframe thead th {\n",
       "        text-align: right;\n",
       "    }\n",
       "</style>\n",
       "<table border=\"1\" class=\"dataframe\">\n",
       "  <thead>\n",
       "    <tr style=\"text-align: right;\">\n",
       "      <th></th>\n",
       "      <th>count</th>\n",
       "      <th>mean</th>\n",
       "      <th>std</th>\n",
       "      <th>min</th>\n",
       "      <th>25%</th>\n",
       "      <th>50%</th>\n",
       "      <th>75%</th>\n",
       "      <th>max</th>\n",
       "    </tr>\n",
       "    <tr>\n",
       "      <th>loan_status</th>\n",
       "      <th></th>\n",
       "      <th></th>\n",
       "      <th></th>\n",
       "      <th></th>\n",
       "      <th></th>\n",
       "      <th></th>\n",
       "      <th></th>\n",
       "      <th></th>\n",
       "    </tr>\n",
       "  </thead>\n",
       "  <tbody>\n",
       "    <tr>\n",
       "      <th>Charged Off</th>\n",
       "      <td>168084.0</td>\n",
       "      <td>689.027278</td>\n",
       "      <td>25.083105</td>\n",
       "      <td>662.0</td>\n",
       "      <td>672.0</td>\n",
       "      <td>682.0</td>\n",
       "      <td>702.0</td>\n",
       "      <td>847.5</td>\n",
       "    </tr>\n",
       "    <tr>\n",
       "      <th>Fully Paid</th>\n",
       "      <td>646902.0</td>\n",
       "      <td>699.831485</td>\n",
       "      <td>32.416650</td>\n",
       "      <td>627.0</td>\n",
       "      <td>677.0</td>\n",
       "      <td>692.0</td>\n",
       "      <td>717.0</td>\n",
       "      <td>847.5</td>\n",
       "    </tr>\n",
       "  </tbody>\n",
       "</table>\n",
       "</div>"
      ],
      "text/plain": [
       "                count        mean        std    min    25%    50%    75%  \\\n",
       "loan_status                                                                \n",
       "Charged Off  168084.0  689.027278  25.083105  662.0  672.0  682.0  702.0   \n",
       "Fully Paid   646902.0  699.831485  32.416650  627.0  677.0  692.0  717.0   \n",
       "\n",
       "               max  \n",
       "loan_status         \n",
       "Charged Off  847.5  \n",
       "Fully Paid   847.5  "
      ]
     },
     "execution_count": 96,
     "metadata": {},
     "output_type": "execute_result"
    }
   ],
   "source": [
    "df_f2.groupby('loan_status')['fico_score'].describe()"
   ]
  },
  {
   "cell_type": "code",
   "execution_count": 97,
   "id": "eb6b2a37",
   "metadata": {},
   "outputs": [
    {
     "name": "stderr",
     "output_type": "stream",
     "text": [
      "C:\\Users\\kanishk\\anaconda3\\lib\\site-packages\\seaborn\\_decorators.py:36: FutureWarning: Pass the following variable as a keyword arg: x. From version 0.12, the only valid positional argument will be `data`, and passing other arguments without an explicit keyword will result in an error or misinterpretation.\n",
      "  warnings.warn(\n"
     ]
    },
    {
     "data": {
      "text/plain": [
       "Text(0.5, 1.0, 'Number of Open Credit Lines')"
      ]
     },
     "execution_count": 97,
     "metadata": {},
     "output_type": "execute_result"
    },
    {
     "data": {
      "image/png": "[encoded data removed]",
      "text/plain": [
       "<Figure size 900x270 with 1 Axes>"
      ]
     },
     "metadata": {
      "needs_background": "light"
     },
     "output_type": "display_data"
    }
   ],
   "source": [
    "plt.figure(figsize=(10,3), dpi=90)\n",
    "sns.countplot(df_f2['open_acc'], order=sorted(df_f2['open_acc'].unique()), color='#5975A4', saturation=1)\n",
    "_, _ = plt.xticks(np.arange(0, 90, 5), np.arange(0, 90, 5))\n",
    "plt.title('Number of Open Credit Lines')"
   ]
  },
  {
   "cell_type": "code",
   "execution_count": 98,
   "id": "5bbed963",
   "metadata": {},
   "outputs": [
    {
     "data": {
      "text/html": [
       "<div>\n",
       "<style scoped>\n",
       "    .dataframe tbody tr th:only-of-type {\n",
       "        vertical-align: middle;\n",
       "    }\n",
       "\n",
       "    .dataframe tbody tr th {\n",
       "        vertical-align: top;\n",
       "    }\n",
       "\n",
       "    .dataframe thead th {\n",
       "        text-align: right;\n",
       "    }\n",
       "</style>\n",
       "<table border=\"1\" class=\"dataframe\">\n",
       "  <thead>\n",
       "    <tr style=\"text-align: right;\">\n",
       "      <th></th>\n",
       "      <th>count</th>\n",
       "      <th>mean</th>\n",
       "      <th>std</th>\n",
       "      <th>min</th>\n",
       "      <th>25%</th>\n",
       "      <th>50%</th>\n",
       "      <th>75%</th>\n",
       "      <th>max</th>\n",
       "    </tr>\n",
       "    <tr>\n",
       "      <th>loan_status</th>\n",
       "      <th></th>\n",
       "      <th></th>\n",
       "      <th></th>\n",
       "      <th></th>\n",
       "      <th></th>\n",
       "      <th></th>\n",
       "      <th></th>\n",
       "      <th></th>\n",
       "    </tr>\n",
       "  </thead>\n",
       "  <tbody>\n",
       "    <tr>\n",
       "      <th>Charged Off</th>\n",
       "      <td>168084.0</td>\n",
       "      <td>11.883094</td>\n",
       "      <td>5.515590</td>\n",
       "      <td>0.0</td>\n",
       "      <td>8.0</td>\n",
       "      <td>11.0</td>\n",
       "      <td>15.0</td>\n",
       "      <td>76.0</td>\n",
       "    </tr>\n",
       "    <tr>\n",
       "      <th>Fully Paid</th>\n",
       "      <td>646902.0</td>\n",
       "      <td>11.427041</td>\n",
       "      <td>5.270369</td>\n",
       "      <td>0.0</td>\n",
       "      <td>8.0</td>\n",
       "      <td>11.0</td>\n",
       "      <td>14.0</td>\n",
       "      <td>90.0</td>\n",
       "    </tr>\n",
       "  </tbody>\n",
       "</table>\n",
       "</div>"
      ],
      "text/plain": [
       "                count       mean       std  min  25%   50%   75%   max\n",
       "loan_status                                                           \n",
       "Charged Off  168084.0  11.883094  5.515590  0.0  8.0  11.0  15.0  76.0\n",
       "Fully Paid   646902.0  11.427041  5.270369  0.0  8.0  11.0  14.0  90.0"
      ]
     },
     "execution_count": 98,
     "metadata": {},
     "output_type": "execute_result"
    }
   ],
   "source": [
    "df_f2.groupby('loan_status')['open_acc'].describe()"
   ]
  },
  {
   "cell_type": "code",
   "execution_count": 99,
   "id": "29ef46b2",
   "metadata": {},
   "outputs": [
    {
     "data": {
      "text/plain": [
       "0.0     681509\n",
       "1.0     112483\n",
       "2.0      14115\n",
       "3.0       4107\n",
       "4.0       1400\n",
       "5.0        651\n",
       "6.0        338\n",
       "7.0        146\n",
       "8.0         90\n",
       "9.0         42\n",
       "10.0        28\n",
       "11.0        24\n",
       "12.0        15\n",
       "13.0        11\n",
       "14.0         2\n",
       "15.0         5\n",
       "16.0         2\n",
       "17.0         1\n",
       "18.0         3\n",
       "19.0         2\n",
       "21.0         1\n",
       "24.0         1\n",
       "28.0         2\n",
       "34.0         1\n",
       "40.0         1\n",
       "46.0         1\n",
       "49.0         2\n",
       "54.0         1\n",
       "63.0         1\n",
       "86.0         1\n",
       "Name: pub_rec, dtype: int64"
      ]
     },
     "execution_count": 99,
     "metadata": {},
     "output_type": "execute_result"
    }
   ],
   "source": [
    "df_f2['pub_rec'].value_counts().sort_index()"
   ]
  },
  {
   "cell_type": "code",
   "execution_count": 100,
   "id": "fdbad697",
   "metadata": {},
   "outputs": [
    {
     "data": {
      "text/html": [
       "<div>\n",
       "<style scoped>\n",
       "    .dataframe tbody tr th:only-of-type {\n",
       "        vertical-align: middle;\n",
       "    }\n",
       "\n",
       "    .dataframe tbody tr th {\n",
       "        vertical-align: top;\n",
       "    }\n",
       "\n",
       "    .dataframe thead th {\n",
       "        text-align: right;\n",
       "    }\n",
       "</style>\n",
       "<table border=\"1\" class=\"dataframe\">\n",
       "  <thead>\n",
       "    <tr style=\"text-align: right;\">\n",
       "      <th></th>\n",
       "      <th>count</th>\n",
       "      <th>mean</th>\n",
       "      <th>std</th>\n",
       "      <th>min</th>\n",
       "      <th>25%</th>\n",
       "      <th>50%</th>\n",
       "      <th>75%</th>\n",
       "      <th>max</th>\n",
       "    </tr>\n",
       "    <tr>\n",
       "      <th>loan_status</th>\n",
       "      <th></th>\n",
       "      <th></th>\n",
       "      <th></th>\n",
       "      <th></th>\n",
       "      <th></th>\n",
       "      <th></th>\n",
       "      <th></th>\n",
       "      <th></th>\n",
       "    </tr>\n",
       "  </thead>\n",
       "  <tbody>\n",
       "    <tr>\n",
       "      <th>Charged Off</th>\n",
       "      <td>168084.0</td>\n",
       "      <td>0.232247</td>\n",
       "      <td>0.640855</td>\n",
       "      <td>0.0</td>\n",
       "      <td>0.0</td>\n",
       "      <td>0.0</td>\n",
       "      <td>0.0</td>\n",
       "      <td>86.0</td>\n",
       "    </tr>\n",
       "    <tr>\n",
       "      <th>Fully Paid</th>\n",
       "      <td>646902.0</td>\n",
       "      <td>0.198845</td>\n",
       "      <td>0.569304</td>\n",
       "      <td>0.0</td>\n",
       "      <td>0.0</td>\n",
       "      <td>0.0</td>\n",
       "      <td>0.0</td>\n",
       "      <td>63.0</td>\n",
       "    </tr>\n",
       "  </tbody>\n",
       "</table>\n",
       "</div>"
      ],
      "text/plain": [
       "                count      mean       std  min  25%  50%  75%   max\n",
       "loan_status                                                        \n",
       "Charged Off  168084.0  0.232247  0.640855  0.0  0.0  0.0  0.0  86.0\n",
       "Fully Paid   646902.0  0.198845  0.569304  0.0  0.0  0.0  0.0  63.0"
      ]
     },
     "execution_count": 100,
     "metadata": {},
     "output_type": "execute_result"
    }
   ],
   "source": [
    "df_f2.groupby('loan_status')['pub_rec'].describe()"
   ]
  },
  {
   "cell_type": "code",
   "execution_count": 101,
   "id": "48af03b4",
   "metadata": {},
   "outputs": [
    {
     "data": {
      "text/plain": [
       "count    8.149860e+05\n",
       "mean     1.606864e+04\n",
       "std      2.160500e+04\n",
       "min      0.000000e+00\n",
       "25%      6.014000e+03\n",
       "50%      1.118500e+04\n",
       "75%      1.972300e+04\n",
       "max      2.568995e+06\n",
       "Name: revol_bal, dtype: float64"
      ]
     },
     "execution_count": 101,
     "metadata": {},
     "output_type": "execute_result"
    }
   ],
   "source": [
    "df_f2['revol_bal'].describe()"
   ]
  },
  {
   "cell_type": "code",
   "execution_count": 102,
   "id": "30bc4cc0",
   "metadata": {},
   "outputs": [],
   "source": [
    "df_f2['log_revol_bal'] = df_f2['revol_bal'].apply(lambda x: np.log10(x+1))"
   ]
  },
  {
   "cell_type": "code",
   "execution_count": 103,
   "id": "12605060",
   "metadata": {},
   "outputs": [
    {
     "name": "stderr",
     "output_type": "stream",
     "text": [
      "C:\\Users\\kanishk\\anaconda3\\lib\\site-packages\\seaborn\\distributions.py:2557: FutureWarning: `distplot` is a deprecated function and will be removed in a future version. Please adapt your code to use either `displot` (a figure-level function with similar flexibility) or `histplot` (an axes-level function for histograms).\n",
      "  warnings.warn(msg, FutureWarning)\n"
     ]
    },
    {
     "data": {
      "image/png": "[encoded data removed]",
      "text/plain": [
       "<Figure size 1080x270 with 2 Axes>"
      ]
     },
     "metadata": {
      "needs_background": "light"
     },
     "output_type": "display_data"
    }
   ],
   "source": [
    "plot_var('log_revol_bal', 'Log Revolving Credit Balance', continuous=True)"
   ]
  },
  {
   "cell_type": "code",
   "execution_count": 104,
   "id": "b62ecab7",
   "metadata": {},
   "outputs": [
    {
     "data": {
      "text/html": [
       "<div>\n",
       "<style scoped>\n",
       "    .dataframe tbody tr th:only-of-type {\n",
       "        vertical-align: middle;\n",
       "    }\n",
       "\n",
       "    .dataframe tbody tr th {\n",
       "        vertical-align: top;\n",
       "    }\n",
       "\n",
       "    .dataframe thead th {\n",
       "        text-align: right;\n",
       "    }\n",
       "</style>\n",
       "<table border=\"1\" class=\"dataframe\">\n",
       "  <thead>\n",
       "    <tr style=\"text-align: right;\">\n",
       "      <th></th>\n",
       "      <th>count</th>\n",
       "      <th>mean</th>\n",
       "      <th>std</th>\n",
       "      <th>min</th>\n",
       "      <th>25%</th>\n",
       "      <th>50%</th>\n",
       "      <th>75%</th>\n",
       "      <th>max</th>\n",
       "    </tr>\n",
       "    <tr>\n",
       "      <th>loan_status</th>\n",
       "      <th></th>\n",
       "      <th></th>\n",
       "      <th></th>\n",
       "      <th></th>\n",
       "      <th></th>\n",
       "      <th></th>\n",
       "      <th></th>\n",
       "      <th></th>\n",
       "    </tr>\n",
       "  </thead>\n",
       "  <tbody>\n",
       "    <tr>\n",
       "      <th>Charged Off</th>\n",
       "      <td>168084.0</td>\n",
       "      <td>3.997810</td>\n",
       "      <td>0.497362</td>\n",
       "      <td>0.0</td>\n",
       "      <td>3.787602</td>\n",
       "      <td>4.051307</td>\n",
       "      <td>4.288585</td>\n",
       "      <td>6.242223</td>\n",
       "    </tr>\n",
       "    <tr>\n",
       "      <th>Fully Paid</th>\n",
       "      <td>646902.0</td>\n",
       "      <td>3.994933</td>\n",
       "      <td>0.527335</td>\n",
       "      <td>0.0</td>\n",
       "      <td>3.777137</td>\n",
       "      <td>4.047975</td>\n",
       "      <td>4.296665</td>\n",
       "      <td>6.409763</td>\n",
       "    </tr>\n",
       "  </tbody>\n",
       "</table>\n",
       "</div>"
      ],
      "text/plain": [
       "                count      mean       std  min       25%       50%       75%  \\\n",
       "loan_status                                                                    \n",
       "Charged Off  168084.0  3.997810  0.497362  0.0  3.787602  4.051307  4.288585   \n",
       "Fully Paid   646902.0  3.994933  0.527335  0.0  3.777137  4.047975  4.296665   \n",
       "\n",
       "                  max  \n",
       "loan_status            \n",
       "Charged Off  6.242223  \n",
       "Fully Paid   6.409763  "
      ]
     },
     "execution_count": 104,
     "metadata": {},
     "output_type": "execute_result"
    }
   ],
   "source": [
    "df_f2.groupby('loan_status')['log_revol_bal'].describe()"
   ]
  },
  {
   "cell_type": "code",
   "execution_count": 105,
   "id": "0d2ed99f",
   "metadata": {},
   "outputs": [
    {
     "data": {
      "text/plain": [
       "count    814496.000000\n",
       "mean         53.031137\n",
       "std          24.320981\n",
       "min           0.000000\n",
       "25%          35.000000\n",
       "50%          53.700000\n",
       "75%          71.900000\n",
       "max         892.300000\n",
       "Name: revol_util, dtype: float64"
      ]
     },
     "execution_count": 105,
     "metadata": {},
     "output_type": "execute_result"
    }
   ],
   "source": [
    "df_f2['revol_util'].describe()"
   ]
  },
  {
   "cell_type": "code",
   "execution_count": 106,
   "id": "db17a843",
   "metadata": {},
   "outputs": [
    {
     "name": "stderr",
     "output_type": "stream",
     "text": [
      "C:\\Users\\kanishk\\anaconda3\\lib\\site-packages\\seaborn\\distributions.py:2557: FutureWarning: `distplot` is a deprecated function and will be removed in a future version. Please adapt your code to use either `displot` (a figure-level function with similar flexibility) or `histplot` (an axes-level function for histograms).\n",
      "  warnings.warn(msg, FutureWarning)\n"
     ]
    },
    {
     "data": {
      "image/png": "[encoded data removed]",
      "text/plain": [
       "<Figure size 1080x270 with 2 Axes>"
      ]
     },
     "metadata": {
      "needs_background": "light"
     },
     "output_type": "display_data"
    }
   ],
   "source": [
    "plot_var('revol_util', 'Revolving Line Utilization', continuous=True)"
   ]
  },
  {
   "cell_type": "code",
   "execution_count": 107,
   "id": "5f1f5ad5",
   "metadata": {},
   "outputs": [
    {
     "data": {
      "text/html": [
       "<div>\n",
       "<style scoped>\n",
       "    .dataframe tbody tr th:only-of-type {\n",
       "        vertical-align: middle;\n",
       "    }\n",
       "\n",
       "    .dataframe tbody tr th {\n",
       "        vertical-align: top;\n",
       "    }\n",
       "\n",
       "    .dataframe thead th {\n",
       "        text-align: right;\n",
       "    }\n",
       "</style>\n",
       "<table border=\"1\" class=\"dataframe\">\n",
       "  <thead>\n",
       "    <tr style=\"text-align: right;\">\n",
       "      <th></th>\n",
       "      <th>count</th>\n",
       "      <th>mean</th>\n",
       "      <th>std</th>\n",
       "      <th>min</th>\n",
       "      <th>25%</th>\n",
       "      <th>50%</th>\n",
       "      <th>75%</th>\n",
       "      <th>max</th>\n",
       "    </tr>\n",
       "    <tr>\n",
       "      <th>loan_status</th>\n",
       "      <th></th>\n",
       "      <th></th>\n",
       "      <th></th>\n",
       "      <th></th>\n",
       "      <th></th>\n",
       "      <th></th>\n",
       "      <th></th>\n",
       "      <th></th>\n",
       "    </tr>\n",
       "  </thead>\n",
       "  <tbody>\n",
       "    <tr>\n",
       "      <th>Charged Off</th>\n",
       "      <td>167974.0</td>\n",
       "      <td>56.475417</td>\n",
       "      <td>23.566253</td>\n",
       "      <td>0.0</td>\n",
       "      <td>39.5</td>\n",
       "      <td>57.5</td>\n",
       "      <td>74.7</td>\n",
       "      <td>366.6</td>\n",
       "    </tr>\n",
       "    <tr>\n",
       "      <th>Fully Paid</th>\n",
       "      <td>646522.0</td>\n",
       "      <td>52.136273</td>\n",
       "      <td>24.433954</td>\n",
       "      <td>0.0</td>\n",
       "      <td>33.9</td>\n",
       "      <td>52.7</td>\n",
       "      <td>71.0</td>\n",
       "      <td>892.3</td>\n",
       "    </tr>\n",
       "  </tbody>\n",
       "</table>\n",
       "</div>"
      ],
      "text/plain": [
       "                count       mean        std  min   25%   50%   75%    max\n",
       "loan_status                                                              \n",
       "Charged Off  167974.0  56.475417  23.566253  0.0  39.5  57.5  74.7  366.6\n",
       "Fully Paid   646522.0  52.136273  24.433954  0.0  33.9  52.7  71.0  892.3"
      ]
     },
     "execution_count": 107,
     "metadata": {},
     "output_type": "execute_result"
    }
   ],
   "source": [
    "df_f2.groupby('loan_status')['revol_util'].describe()"
   ]
  },
  {
   "cell_type": "code",
   "execution_count": 108,
   "id": "01755b84",
   "metadata": {},
   "outputs": [
    {
     "name": "stderr",
     "output_type": "stream",
     "text": [
      "C:\\Users\\kanishk\\anaconda3\\lib\\site-packages\\seaborn\\_decorators.py:36: FutureWarning: Pass the following variable as a keyword arg: x. From version 0.12, the only valid positional argument will be `data`, and passing other arguments without an explicit keyword will result in an error or misinterpretation.\n",
      "  warnings.warn(\n"
     ]
    },
    {
     "data": {
      "text/plain": [
       "Text(0.5, 1.0, 'Total Number of Credit Lines')"
      ]
     },
     "execution_count": 108,
     "metadata": {},
     "output_type": "execute_result"
    },
    {
     "data": {
      "image/png": "[encoded data removed]",
      "text/plain": [
       "<Figure size 1080x270 with 1 Axes>"
      ]
     },
     "metadata": {
      "needs_background": "light"
     },
     "output_type": "display_data"
    }
   ],
   "source": [
    "plt.figure(figsize=(12,3), dpi=90)\n",
    "sns.countplot(df_f2['total_acc'], order=sorted(df_f2['total_acc'].unique()), color='#5975A4', saturation=1)\n",
    "_, _ = plt.xticks(np.arange(0, 176, 10), np.arange(0, 176, 10))\n",
    "plt.title('Total Number of Credit Lines')"
   ]
  },
  {
   "cell_type": "code",
   "execution_count": 109,
   "id": "530e1768",
   "metadata": {},
   "outputs": [
    {
     "data": {
      "text/html": [
       "<div>\n",
       "<style scoped>\n",
       "    .dataframe tbody tr th:only-of-type {\n",
       "        vertical-align: middle;\n",
       "    }\n",
       "\n",
       "    .dataframe tbody tr th {\n",
       "        vertical-align: top;\n",
       "    }\n",
       "\n",
       "    .dataframe thead th {\n",
       "        text-align: right;\n",
       "    }\n",
       "</style>\n",
       "<table border=\"1\" class=\"dataframe\">\n",
       "  <thead>\n",
       "    <tr style=\"text-align: right;\">\n",
       "      <th></th>\n",
       "      <th>count</th>\n",
       "      <th>mean</th>\n",
       "      <th>std</th>\n",
       "      <th>min</th>\n",
       "      <th>25%</th>\n",
       "      <th>50%</th>\n",
       "      <th>75%</th>\n",
       "      <th>max</th>\n",
       "    </tr>\n",
       "    <tr>\n",
       "      <th>loan_status</th>\n",
       "      <th></th>\n",
       "      <th></th>\n",
       "      <th></th>\n",
       "      <th></th>\n",
       "      <th></th>\n",
       "      <th></th>\n",
       "      <th></th>\n",
       "      <th></th>\n",
       "    </tr>\n",
       "  </thead>\n",
       "  <tbody>\n",
       "    <tr>\n",
       "      <th>Charged Off</th>\n",
       "      <td>168084.0</td>\n",
       "      <td>25.158653</td>\n",
       "      <td>12.121106</td>\n",
       "      <td>2.0</td>\n",
       "      <td>16.0</td>\n",
       "      <td>23.0</td>\n",
       "      <td>32.0</td>\n",
       "      <td>176.0</td>\n",
       "    </tr>\n",
       "    <tr>\n",
       "      <th>Fully Paid</th>\n",
       "      <td>646902.0</td>\n",
       "      <td>25.489618</td>\n",
       "      <td>11.930122</td>\n",
       "      <td>2.0</td>\n",
       "      <td>17.0</td>\n",
       "      <td>24.0</td>\n",
       "      <td>32.0</td>\n",
       "      <td>156.0</td>\n",
       "    </tr>\n",
       "  </tbody>\n",
       "</table>\n",
       "</div>"
      ],
      "text/plain": [
       "                count       mean        std  min   25%   50%   75%    max\n",
       "loan_status                                                              \n",
       "Charged Off  168084.0  25.158653  12.121106  2.0  16.0  23.0  32.0  176.0\n",
       "Fully Paid   646902.0  25.489618  11.930122  2.0  17.0  24.0  32.0  156.0"
      ]
     },
     "execution_count": 109,
     "metadata": {},
     "output_type": "execute_result"
    }
   ],
   "source": [
    "df_f2.groupby('loan_status')['total_acc'].describe()"
   ]
  },
  {
   "cell_type": "code",
   "execution_count": 110,
   "id": "eeb5ab8c",
   "metadata": {},
   "outputs": [
    {
     "name": "stderr",
     "output_type": "stream",
     "text": [
      "C:\\Users\\kanishk\\anaconda3\\lib\\site-packages\\seaborn\\_decorators.py:36: FutureWarning: Pass the following variable as a keyword arg: x. From version 0.12, the only valid positional argument will be `data`, and passing other arguments without an explicit keyword will result in an error or misinterpretation.\n",
      "  warnings.warn(\n"
     ]
    },
    {
     "data": {
      "image/png": "[encoded data removed]",
      "text/plain": [
       "<Figure size 1080x270 with 2 Axes>"
      ]
     },
     "metadata": {
      "needs_background": "light"
     },
     "output_type": "display_data"
    }
   ],
   "source": [
    "plot_var('initial_list_status', 'Initial List Status', continuous=False)"
   ]
  },
  {
   "cell_type": "code",
   "execution_count": 111,
   "id": "6a0970d3",
   "metadata": {},
   "outputs": [
    {
     "data": {
      "text/plain": [
       "Individual    811207\n",
       "Joint App       3779\n",
       "Name: application_type, dtype: int64"
      ]
     },
     "execution_count": 111,
     "metadata": {},
     "output_type": "execute_result"
    }
   ],
   "source": [
    "df_f2['application_type'].value_counts()"
   ]
  },
  {
   "cell_type": "code",
   "execution_count": 112,
   "id": "c8a1950a",
   "metadata": {},
   "outputs": [
    {
     "data": {
      "text/plain": [
       "application_type\n",
       "Individual    0.206316\n",
       "Joint App     0.190262\n",
       "Name: loan_status, dtype: float64"
      ]
     },
     "execution_count": 112,
     "metadata": {},
     "output_type": "execute_result"
    }
   ],
   "source": [
    "df_f2.groupby('application_type')['loan_status'].value_counts(normalize=True).loc[:,'Charged Off']"
   ]
  },
  {
   "cell_type": "code",
   "execution_count": 113,
   "id": "ffc58fa8",
   "metadata": {},
   "outputs": [
    {
     "data": {
      "text/plain": [
       "count    767705.000000\n",
       "mean          1.758707\n",
       "std           2.081730\n",
       "min           0.000000\n",
       "25%           0.000000\n",
       "50%           1.000000\n",
       "75%           3.000000\n",
       "max          51.000000\n",
       "Name: mort_acc, dtype: float64"
      ]
     },
     "execution_count": 113,
     "metadata": {},
     "output_type": "execute_result"
    }
   ],
   "source": [
    "df_f2['mort_acc'].describe()"
   ]
  },
  {
   "cell_type": "code",
   "execution_count": 114,
   "id": "d16a0758",
   "metadata": {},
   "outputs": [
    {
     "data": {
      "text/plain": [
       "0.0    301446\n",
       "1.0    131811\n",
       "2.0    109869\n",
       "3.0     82723\n",
       "4.0     58698\n",
       "5.0     37090\n",
       "6.0     21817\n",
       "7.0     11568\n",
       "8.0      5906\n",
       "9.0      3056\n",
       "Name: mort_acc, dtype: int64"
      ]
     },
     "execution_count": 114,
     "metadata": {},
     "output_type": "execute_result"
    }
   ],
   "source": [
    "df_f2['mort_acc'].value_counts().head(10)"
   ]
  },
  {
   "cell_type": "code",
   "execution_count": 115,
   "id": "b415fd72",
   "metadata": {},
   "outputs": [
    {
     "data": {
      "text/html": [
       "<div>\n",
       "<style scoped>\n",
       "    .dataframe tbody tr th:only-of-type {\n",
       "        vertical-align: middle;\n",
       "    }\n",
       "\n",
       "    .dataframe tbody tr th {\n",
       "        vertical-align: top;\n",
       "    }\n",
       "\n",
       "    .dataframe thead th {\n",
       "        text-align: right;\n",
       "    }\n",
       "</style>\n",
       "<table border=\"1\" class=\"dataframe\">\n",
       "  <thead>\n",
       "    <tr style=\"text-align: right;\">\n",
       "      <th></th>\n",
       "      <th>count</th>\n",
       "      <th>mean</th>\n",
       "      <th>std</th>\n",
       "      <th>min</th>\n",
       "      <th>25%</th>\n",
       "      <th>50%</th>\n",
       "      <th>75%</th>\n",
       "      <th>max</th>\n",
       "    </tr>\n",
       "    <tr>\n",
       "      <th>loan_status</th>\n",
       "      <th></th>\n",
       "      <th></th>\n",
       "      <th></th>\n",
       "      <th></th>\n",
       "      <th></th>\n",
       "      <th></th>\n",
       "      <th></th>\n",
       "      <th></th>\n",
       "    </tr>\n",
       "  </thead>\n",
       "  <tbody>\n",
       "    <tr>\n",
       "      <th>Charged Off</th>\n",
       "      <td>161198.0</td>\n",
       "      <td>1.447437</td>\n",
       "      <td>1.901888</td>\n",
       "      <td>0.0</td>\n",
       "      <td>0.0</td>\n",
       "      <td>1.0</td>\n",
       "      <td>2.0</td>\n",
       "      <td>29.0</td>\n",
       "    </tr>\n",
       "    <tr>\n",
       "      <th>Fully Paid</th>\n",
       "      <td>606507.0</td>\n",
       "      <td>1.841436</td>\n",
       "      <td>2.119298</td>\n",
       "      <td>0.0</td>\n",
       "      <td>0.0</td>\n",
       "      <td>1.0</td>\n",
       "      <td>3.0</td>\n",
       "      <td>51.0</td>\n",
       "    </tr>\n",
       "  </tbody>\n",
       "</table>\n",
       "</div>"
      ],
      "text/plain": [
       "                count      mean       std  min  25%  50%  75%   max\n",
       "loan_status                                                        \n",
       "Charged Off  161198.0  1.447437  1.901888  0.0  0.0  1.0  2.0  29.0\n",
       "Fully Paid   606507.0  1.841436  2.119298  0.0  0.0  1.0  3.0  51.0"
      ]
     },
     "execution_count": 115,
     "metadata": {},
     "output_type": "execute_result"
    }
   ],
   "source": [
    "df_f2.groupby('loan_status')['mort_acc'].describe()"
   ]
  },
  {
   "cell_type": "code",
   "execution_count": 116,
   "id": "5ac63151",
   "metadata": {},
   "outputs": [
    {
     "data": {
      "text/plain": [
       "0.0     714642\n",
       "1.0      93680\n",
       "2.0       4673\n",
       "3.0        926\n",
       "4.0        234\n",
       "5.0         85\n",
       "6.0         28\n",
       "7.0         14\n",
       "8.0          5\n",
       "9.0          1\n",
       "12.0         1\n",
       "Name: pub_rec_bankruptcies, dtype: int64"
      ]
     },
     "execution_count": 116,
     "metadata": {},
     "output_type": "execute_result"
    }
   ],
   "source": [
    "df_f2['pub_rec_bankruptcies'].value_counts().sort_index()"
   ]
  },
  {
   "cell_type": "code",
   "execution_count": 117,
   "id": "fc6366f7",
   "metadata": {},
   "outputs": [
    {
     "name": "stderr",
     "output_type": "stream",
     "text": [
      "C:\\Users\\kanishk\\anaconda3\\lib\\site-packages\\seaborn\\_decorators.py:36: FutureWarning: Pass the following variable as a keyword arg: x. From version 0.12, the only valid positional argument will be `data`, and passing other arguments without an explicit keyword will result in an error or misinterpretation.\n",
      "  warnings.warn(\n"
     ]
    },
    {
     "data": {
      "image/png": "[encoded data removed]",
      "text/plain": [
       "<Figure size 1080x270 with 2 Axes>"
      ]
     },
     "metadata": {
      "needs_background": "light"
     },
     "output_type": "display_data"
    }
   ],
   "source": [
    "plot_var('pub_rec_bankruptcies', 'Public Record Bankruptcies', continuous=False)"
   ]
  },
  {
   "cell_type": "code",
   "execution_count": 118,
   "id": "a8046e30",
   "metadata": {},
   "outputs": [],
   "source": [
    "df_f2['charged_off'] = (df_f2['loan_status'] == 'Charged Off').apply(np.uint8)\n",
    "df_f2.drop('loan_status', axis=1, inplace=True)"
   ]
  },
  {
   "cell_type": "code",
   "execution_count": 119,
   "id": "60af7e27",
   "metadata": {},
   "outputs": [
    {
     "data": {
      "text/plain": [
       "0     0\n",
       "1     1\n",
       "2     0\n",
       "4     1\n",
       "5     0\n",
       "6     0\n",
       "7     0\n",
       "8     1\n",
       "9     0\n",
       "10    1\n",
       "11    1\n",
       "12    0\n",
       "14    0\n",
       "15    0\n",
       "16    0\n",
       "17    0\n",
       "18    0\n",
       "22    0\n",
       "23    0\n",
       "24    0\n",
       "Name: charged_off, dtype: int64"
      ]
     },
     "execution_count": 119,
     "metadata": {},
     "output_type": "execute_result"
    }
   ],
   "source": [
    "df_f2['charged_off'].head(20)"
   ]
  },
  {
   "cell_type": "code",
   "execution_count": 120,
   "id": "632587b5",
   "metadata": {},
   "outputs": [
    {
     "data": {
      "text/plain": [
       "Index(['loan_amnt', 'term', 'int_rate', 'installment', 'sub_grade',\n",
       "       'emp_length', 'home_ownership', 'annual_inc', 'verification_status',\n",
       "       'issue_d', 'purpose', 'addr_state', 'dti', 'earliest_cr_line',\n",
       "       'open_acc', 'pub_rec', 'revol_bal', 'revol_util', 'total_acc',\n",
       "       'initial_list_status', 'application_type', 'mort_acc',\n",
       "       'pub_rec_bankruptcies', 'log_annual_inc', 'fico_score', 'log_revol_bal',\n",
       "       'charged_off'],\n",
       "      dtype='object')"
      ]
     },
     "execution_count": 120,
     "metadata": {},
     "output_type": "execute_result"
    }
   ],
   "source": [
    "df_f2.columns"
   ]
  },
  {
   "cell_type": "code",
   "execution_count": 121,
   "id": "62da44d5",
   "metadata": {},
   "outputs": [],
   "source": [
    "# Dropping variable \"grade\" because it's included in \"sub_grade\". Dropping remaining for not \n",
    "# having value as a predictor. Merging both FICO scores.\n",
    "\n",
    "# df_f2.drop('grade', axis=1, inplace=True)\n",
    "# df_f2.drop('id', axis=1, inplace=True)\n",
    "# df_f2.drop('emp_title', axis=1, inplace=True)\n",
    "# df_f2.drop('title', axis=1, inplace=True)\n",
    "# df_f2.drop('zip_code', axis=1, inplace=True)\n",
    "# df_f2.drop('issue_d', axis=1, inplace=True)\n",
    "\n",
    "# df_f2['fico_score'] = 0.5*df_f2['fico_range_low'] + 0.5*df_f2['fico_range_high']\n",
    "# df_f2.drop(['fico_range_high', 'fico_range_low'], axis=1, inplace=True)"
   ]
  },
  {
   "cell_type": "code",
   "execution_count": 122,
   "id": "3ee0b89a",
   "metadata": {},
   "outputs": [
    {
     "data": {
      "text/plain": [
       "0     C1\n",
       "1     A3\n",
       "2     D1\n",
       "4     C3\n",
       "5     C3\n",
       "6     B5\n",
       "7     B4\n",
       "8     C4\n",
       "9     B4\n",
       "10    B5\n",
       "Name: sub_grade, dtype: object"
      ]
     },
     "execution_count": 122,
     "metadata": {},
     "output_type": "execute_result"
    }
   ],
   "source": [
    "df_f2['sub_grade'].head(10)"
   ]
  },
  {
   "cell_type": "code",
   "execution_count": 123,
   "id": "24db56c8",
   "metadata": {},
   "outputs": [
    {
     "data": {
      "text/plain": [
       "0     60\n",
       "1     36\n",
       "2     60\n",
       "4     36\n",
       "5     36\n",
       "6     36\n",
       "7     60\n",
       "8     36\n",
       "9     36\n",
       "10    36\n",
       "Name: term, dtype: int64"
      ]
     },
     "execution_count": 123,
     "metadata": {},
     "output_type": "execute_result"
    }
   ],
   "source": [
    "df_f2['term'].head(10)"
   ]
  },
  {
   "cell_type": "code",
   "execution_count": 124,
   "id": "586a9111",
   "metadata": {},
   "outputs": [
    {
     "data": {
      "text/plain": [
       "0     10.0\n",
       "1      8.0\n",
       "2      6.0\n",
       "4      0.0\n",
       "5     10.0\n",
       "6      0.0\n",
       "7      6.0\n",
       "8     10.0\n",
       "9      2.0\n",
       "10     8.0\n",
       "Name: emp_length, dtype: float64"
      ]
     },
     "execution_count": 124,
     "metadata": {},
     "output_type": "execute_result"
    }
   ],
   "source": [
    "df_f2['emp_length'].head(10)"
   ]
  },
  {
   "cell_type": "code",
   "execution_count": 125,
   "id": "3e8b5d53",
   "metadata": {},
   "outputs": [
    {
     "data": {
      "text/plain": [
       "0     1994\n",
       "1     1989\n",
       "2     2003\n",
       "4     2002\n",
       "5     1992\n",
       "6     2001\n",
       "7     2003\n",
       "8     1998\n",
       "9     2009\n",
       "10    2003\n",
       "Name: earliest_cr_line, dtype: int64"
      ]
     },
     "execution_count": 125,
     "metadata": {},
     "output_type": "execute_result"
    }
   ],
   "source": [
    "df_f2['earliest_cr_line'].head(10)"
   ]
  },
  {
   "cell_type": "code",
   "execution_count": 126,
   "id": "79ac3726",
   "metadata": {},
   "outputs": [
    {
     "data": {
      "text/html": [
       "<div>\n",
       "<style scoped>\n",
       "    .dataframe tbody tr th:only-of-type {\n",
       "        vertical-align: middle;\n",
       "    }\n",
       "\n",
       "    .dataframe tbody tr th {\n",
       "        vertical-align: top;\n",
       "    }\n",
       "\n",
       "    .dataframe thead th {\n",
       "        text-align: right;\n",
       "    }\n",
       "</style>\n",
       "<table border=\"1\" class=\"dataframe\">\n",
       "  <thead>\n",
       "    <tr style=\"text-align: right;\">\n",
       "      <th></th>\n",
       "      <th>loan_amnt</th>\n",
       "      <th>term</th>\n",
       "      <th>int_rate</th>\n",
       "      <th>installment</th>\n",
       "      <th>sub_grade</th>\n",
       "      <th>emp_length</th>\n",
       "      <th>home_ownership</th>\n",
       "      <th>annual_inc</th>\n",
       "      <th>verification_status</th>\n",
       "      <th>issue_d</th>\n",
       "      <th>...</th>\n",
       "      <th>revol_util</th>\n",
       "      <th>total_acc</th>\n",
       "      <th>initial_list_status</th>\n",
       "      <th>application_type</th>\n",
       "      <th>mort_acc</th>\n",
       "      <th>pub_rec_bankruptcies</th>\n",
       "      <th>log_annual_inc</th>\n",
       "      <th>fico_score</th>\n",
       "      <th>log_revol_bal</th>\n",
       "      <th>charged_off</th>\n",
       "    </tr>\n",
       "  </thead>\n",
       "  <tbody>\n",
       "    <tr>\n",
       "      <th>0</th>\n",
       "      <td>15000.0</td>\n",
       "      <td>60</td>\n",
       "      <td>12.39</td>\n",
       "      <td>336.64</td>\n",
       "      <td>C1</td>\n",
       "      <td>10.0</td>\n",
       "      <td>RENT</td>\n",
       "      <td>78000.0</td>\n",
       "      <td>Source Verified</td>\n",
       "      <td>Dec-2014</td>\n",
       "      <td>...</td>\n",
       "      <td>29.0</td>\n",
       "      <td>17.0</td>\n",
       "      <td>w</td>\n",
       "      <td>Individual</td>\n",
       "      <td>0.0</td>\n",
       "      <td>0.0</td>\n",
       "      <td>4.892100</td>\n",
       "      <td>752.0</td>\n",
       "      <td>5.139907</td>\n",
       "      <td>0</td>\n",
       "    </tr>\n",
       "    <tr>\n",
       "      <th>1</th>\n",
       "      <td>10400.0</td>\n",
       "      <td>36</td>\n",
       "      <td>6.99</td>\n",
       "      <td>321.08</td>\n",
       "      <td>A3</td>\n",
       "      <td>8.0</td>\n",
       "      <td>MORTGAGE</td>\n",
       "      <td>58000.0</td>\n",
       "      <td>Not Verified</td>\n",
       "      <td>Dec-2014</td>\n",
       "      <td>...</td>\n",
       "      <td>31.6</td>\n",
       "      <td>36.0</td>\n",
       "      <td>w</td>\n",
       "      <td>Individual</td>\n",
       "      <td>1.0</td>\n",
       "      <td>0.0</td>\n",
       "      <td>4.763435</td>\n",
       "      <td>712.0</td>\n",
       "      <td>3.787744</td>\n",
       "      <td>1</td>\n",
       "    </tr>\n",
       "    <tr>\n",
       "      <th>2</th>\n",
       "      <td>21425.0</td>\n",
       "      <td>60</td>\n",
       "      <td>15.59</td>\n",
       "      <td>516.36</td>\n",
       "      <td>D1</td>\n",
       "      <td>6.0</td>\n",
       "      <td>RENT</td>\n",
       "      <td>63800.0</td>\n",
       "      <td>Source Verified</td>\n",
       "      <td>Dec-2014</td>\n",
       "      <td>...</td>\n",
       "      <td>76.2</td>\n",
       "      <td>35.0</td>\n",
       "      <td>w</td>\n",
       "      <td>Individual</td>\n",
       "      <td>0.0</td>\n",
       "      <td>0.0</td>\n",
       "      <td>4.804827</td>\n",
       "      <td>687.0</td>\n",
       "      <td>4.214181</td>\n",
       "      <td>0</td>\n",
       "    </tr>\n",
       "    <tr>\n",
       "      <th>4</th>\n",
       "      <td>7650.0</td>\n",
       "      <td>36</td>\n",
       "      <td>13.66</td>\n",
       "      <td>260.20</td>\n",
       "      <td>C3</td>\n",
       "      <td>0.0</td>\n",
       "      <td>RENT</td>\n",
       "      <td>50000.0</td>\n",
       "      <td>Source Verified</td>\n",
       "      <td>Dec-2014</td>\n",
       "      <td>...</td>\n",
       "      <td>91.9</td>\n",
       "      <td>20.0</td>\n",
       "      <td>f</td>\n",
       "      <td>Individual</td>\n",
       "      <td>0.0</td>\n",
       "      <td>0.0</td>\n",
       "      <td>4.698979</td>\n",
       "      <td>687.0</td>\n",
       "      <td>4.225903</td>\n",
       "      <td>1</td>\n",
       "    </tr>\n",
       "    <tr>\n",
       "      <th>5</th>\n",
       "      <td>9600.0</td>\n",
       "      <td>36</td>\n",
       "      <td>13.66</td>\n",
       "      <td>326.53</td>\n",
       "      <td>C3</td>\n",
       "      <td>10.0</td>\n",
       "      <td>RENT</td>\n",
       "      <td>69000.0</td>\n",
       "      <td>Source Verified</td>\n",
       "      <td>Dec-2014</td>\n",
       "      <td>...</td>\n",
       "      <td>59.4</td>\n",
       "      <td>44.0</td>\n",
       "      <td>f</td>\n",
       "      <td>Individual</td>\n",
       "      <td>0.0</td>\n",
       "      <td>0.0</td>\n",
       "      <td>4.838855</td>\n",
       "      <td>682.0</td>\n",
       "      <td>4.214552</td>\n",
       "      <td>0</td>\n",
       "    </tr>\n",
       "    <tr>\n",
       "      <th>6</th>\n",
       "      <td>2500.0</td>\n",
       "      <td>36</td>\n",
       "      <td>11.99</td>\n",
       "      <td>83.03</td>\n",
       "      <td>B5</td>\n",
       "      <td>0.0</td>\n",
       "      <td>MORTGAGE</td>\n",
       "      <td>89000.0</td>\n",
       "      <td>Source Verified</td>\n",
       "      <td>Dec-2014</td>\n",
       "      <td>...</td>\n",
       "      <td>94.3</td>\n",
       "      <td>32.0</td>\n",
       "      <td>f</td>\n",
       "      <td>Individual</td>\n",
       "      <td>5.0</td>\n",
       "      <td>0.0</td>\n",
       "      <td>4.949395</td>\n",
       "      <td>687.0</td>\n",
       "      <td>4.360006</td>\n",
       "      <td>0</td>\n",
       "    </tr>\n",
       "    <tr>\n",
       "      <th>7</th>\n",
       "      <td>16000.0</td>\n",
       "      <td>60</td>\n",
       "      <td>11.44</td>\n",
       "      <td>351.40</td>\n",
       "      <td>B4</td>\n",
       "      <td>6.0</td>\n",
       "      <td>OWN</td>\n",
       "      <td>109777.0</td>\n",
       "      <td>Verified</td>\n",
       "      <td>Dec-2014</td>\n",
       "      <td>...</td>\n",
       "      <td>60.4</td>\n",
       "      <td>14.0</td>\n",
       "      <td>w</td>\n",
       "      <td>Individual</td>\n",
       "      <td>2.0</td>\n",
       "      <td>0.0</td>\n",
       "      <td>5.040515</td>\n",
       "      <td>702.0</td>\n",
       "      <td>3.860578</td>\n",
       "      <td>0</td>\n",
       "    </tr>\n",
       "    <tr>\n",
       "      <th>8</th>\n",
       "      <td>23325.0</td>\n",
       "      <td>36</td>\n",
       "      <td>14.31</td>\n",
       "      <td>800.71</td>\n",
       "      <td>C4</td>\n",
       "      <td>10.0</td>\n",
       "      <td>RENT</td>\n",
       "      <td>72000.0</td>\n",
       "      <td>Source Verified</td>\n",
       "      <td>Dec-2014</td>\n",
       "      <td>...</td>\n",
       "      <td>82.2</td>\n",
       "      <td>23.0</td>\n",
       "      <td>f</td>\n",
       "      <td>Individual</td>\n",
       "      <td>6.0</td>\n",
       "      <td>0.0</td>\n",
       "      <td>4.857339</td>\n",
       "      <td>667.0</td>\n",
       "      <td>4.510183</td>\n",
       "      <td>1</td>\n",
       "    </tr>\n",
       "    <tr>\n",
       "      <th>9</th>\n",
       "      <td>5250.0</td>\n",
       "      <td>36</td>\n",
       "      <td>11.44</td>\n",
       "      <td>172.98</td>\n",
       "      <td>B4</td>\n",
       "      <td>2.0</td>\n",
       "      <td>RENT</td>\n",
       "      <td>26000.0</td>\n",
       "      <td>Not Verified</td>\n",
       "      <td>Dec-2014</td>\n",
       "      <td>...</td>\n",
       "      <td>20.2</td>\n",
       "      <td>13.0</td>\n",
       "      <td>f</td>\n",
       "      <td>Individual</td>\n",
       "      <td>0.0</td>\n",
       "      <td>0.0</td>\n",
       "      <td>4.414990</td>\n",
       "      <td>747.0</td>\n",
       "      <td>3.648262</td>\n",
       "      <td>0</td>\n",
       "    </tr>\n",
       "    <tr>\n",
       "      <th>10</th>\n",
       "      <td>10000.0</td>\n",
       "      <td>36</td>\n",
       "      <td>11.99</td>\n",
       "      <td>332.10</td>\n",
       "      <td>B5</td>\n",
       "      <td>8.0</td>\n",
       "      <td>RENT</td>\n",
       "      <td>90000.0</td>\n",
       "      <td>Verified</td>\n",
       "      <td>Dec-2014</td>\n",
       "      <td>...</td>\n",
       "      <td>98.0</td>\n",
       "      <td>10.0</td>\n",
       "      <td>f</td>\n",
       "      <td>Individual</td>\n",
       "      <td>0.0</td>\n",
       "      <td>0.0</td>\n",
       "      <td>4.954247</td>\n",
       "      <td>677.0</td>\n",
       "      <td>4.375188</td>\n",
       "      <td>1</td>\n",
       "    </tr>\n",
       "  </tbody>\n",
       "</table>\n",
       "<p>10 rows × 27 columns</p>\n",
       "</div>"
      ],
      "text/plain": [
       "    loan_amnt  term  int_rate  installment sub_grade  emp_length  \\\n",
       "0     15000.0    60     12.39       336.64        C1        10.0   \n",
       "1     10400.0    36      6.99       321.08        A3         8.0   \n",
       "2     21425.0    60     15.59       516.36        D1         6.0   \n",
       "4      7650.0    36     13.66       260.20        C3         0.0   \n",
       "5      9600.0    36     13.66       326.53        C3        10.0   \n",
       "6      2500.0    36     11.99        83.03        B5         0.0   \n",
       "7     16000.0    60     11.44       351.40        B4         6.0   \n",
       "8     23325.0    36     14.31       800.71        C4        10.0   \n",
       "9      5250.0    36     11.44       172.98        B4         2.0   \n",
       "10    10000.0    36     11.99       332.10        B5         8.0   \n",
       "\n",
       "   home_ownership  annual_inc verification_status   issue_d  ... revol_util  \\\n",
       "0            RENT     78000.0     Source Verified  Dec-2014  ...       29.0   \n",
       "1        MORTGAGE     58000.0        Not Verified  Dec-2014  ...       31.6   \n",
       "2            RENT     63800.0     Source Verified  Dec-2014  ...       76.2   \n",
       "4            RENT     50000.0     Source Verified  Dec-2014  ...       91.9   \n",
       "5            RENT     69000.0     Source Verified  Dec-2014  ...       59.4   \n",
       "6        MORTGAGE     89000.0     Source Verified  Dec-2014  ...       94.3   \n",
       "7             OWN    109777.0            Verified  Dec-2014  ...       60.4   \n",
       "8            RENT     72000.0     Source Verified  Dec-2014  ...       82.2   \n",
       "9            RENT     26000.0        Not Verified  Dec-2014  ...       20.2   \n",
       "10           RENT     90000.0            Verified  Dec-2014  ...       98.0   \n",
       "\n",
       "   total_acc  initial_list_status  application_type  mort_acc  \\\n",
       "0       17.0                    w        Individual       0.0   \n",
       "1       36.0                    w        Individual       1.0   \n",
       "2       35.0                    w        Individual       0.0   \n",
       "4       20.0                    f        Individual       0.0   \n",
       "5       44.0                    f        Individual       0.0   \n",
       "6       32.0                    f        Individual       5.0   \n",
       "7       14.0                    w        Individual       2.0   \n",
       "8       23.0                    f        Individual       6.0   \n",
       "9       13.0                    f        Individual       0.0   \n",
       "10      10.0                    f        Individual       0.0   \n",
       "\n",
       "    pub_rec_bankruptcies  log_annual_inc  fico_score  log_revol_bal  \\\n",
       "0                    0.0        4.892100       752.0       5.139907   \n",
       "1                    0.0        4.763435       712.0       3.787744   \n",
       "2                    0.0        4.804827       687.0       4.214181   \n",
       "4                    0.0        4.698979       687.0       4.225903   \n",
       "5                    0.0        4.838855       682.0       4.214552   \n",
       "6                    0.0        4.949395       687.0       4.360006   \n",
       "7                    0.0        5.040515       702.0       3.860578   \n",
       "8                    0.0        4.857339       667.0       4.510183   \n",
       "9                    0.0        4.414990       747.0       3.648262   \n",
       "10                   0.0        4.954247       677.0       4.375188   \n",
       "\n",
       "   charged_off  \n",
       "0            0  \n",
       "1            1  \n",
       "2            0  \n",
       "4            1  \n",
       "5            0  \n",
       "6            0  \n",
       "7            0  \n",
       "8            1  \n",
       "9            0  \n",
       "10           1  \n",
       "\n",
       "[10 rows x 27 columns]"
      ]
     },
     "execution_count": 126,
     "metadata": {},
     "output_type": "execute_result"
    }
   ],
   "source": [
    "df_f2.head(10)"
   ]
  },
  {
   "cell_type": "code",
   "execution_count": 127,
   "id": "c74fe71c",
   "metadata": {},
   "outputs": [],
   "source": [
    "# '''# Converting ordinal categorical variables to integer\n",
    "\n",
    "mapping_1 = {'A1':1,'A2':2,'A3':3,'A4':4,'A5':5,'B1':6,'B2':7,'B3':8,'B4':9,'B5':10,'C1':11,'C2':12,'C3':13,'C4':14,'C5':15,\n",
    "             'D1':16,'D2':17,'D3':18,'D4':19,'D5':20,'E1':21,'E2':22,'E3':23,'E4':24,'E5':25,'F1':26,'F2':27,'F3':28,'F4':29,\n",
    "             'F5':30,\n",
    "             'G1':31,'G2':32,'G3':33,'G4':34,'G5':35\n",
    "            }\n",
    "df_f2['sub_grade'] = df_f2['sub_grade'].map(mapping_1)\n",
    "\n",
    "# #df_f2['term'] = df_f2['term'].apply(lambda s: np.int8(s.split()[0]))\n",
    "# mapping_2 = {'< 1 year':0,'1 year':1,'2 years':2,'3 years':3,'4 years':4,'5 years':5,'6 years':6,'7 years':7,'8 years':8,\n",
    "#              '9 years':9,'10+ years':10\n",
    "#             }\n",
    "# df_f2['emp_length'] = df_f2['emp_length'].map(mapping_2)\n",
    "\n",
    "# df_f2['earliest_cr_line'] = df_f2['earliest_cr_line'].apply(lambda s: int(s[-4:]))'''"
   ]
  },
  {
   "cell_type": "code",
   "execution_count": 128,
   "id": "3db93e26",
   "metadata": {},
   "outputs": [],
   "source": [
    "# One Hot Encoding for Nominal Variables\n",
    "\n",
    "df_f2 = pd.get_dummies(df_f2, columns=['home_ownership', 'verification_status', 'purpose', 'addr_state', \n",
    "                                       'initial_list_status', 'application_type'\n",
    "                                      ], drop_first=True\n",
    "                      )"
   ]
  },
  {
   "cell_type": "code",
   "execution_count": 129,
   "id": "7550f151",
   "metadata": {},
   "outputs": [
    {
     "name": "stdout",
     "output_type": "stream",
     "text": [
      "<class 'pandas.core.frame.DataFrame'>\n",
      "Int64Index: 814986 entries, 0 to 1646792\n",
      "Data columns (total 91 columns):\n",
      " #   Column                               Non-Null Count   Dtype  \n",
      "---  ------                               --------------   -----  \n",
      " 0   loan_amnt                            814986 non-null  float64\n",
      " 1   term                                 814986 non-null  int64  \n",
      " 2   int_rate                             814986 non-null  float64\n",
      " 3   installment                          814986 non-null  float64\n",
      " 4   sub_grade                            814986 non-null  int64  \n",
      " 5   emp_length                           772733 non-null  float64\n",
      " 6   annual_inc                           814986 non-null  float64\n",
      " 7   issue_d                              814986 non-null  object \n",
      " 8   dti                                  814950 non-null  float64\n",
      " 9   earliest_cr_line                     814986 non-null  int64  \n",
      " 10  open_acc                             814986 non-null  float64\n",
      " 11  pub_rec                              814986 non-null  float64\n",
      " 12  revol_bal                            814986 non-null  float64\n",
      " 13  revol_util                           814496 non-null  float64\n",
      " 14  total_acc                            814986 non-null  float64\n",
      " 15  mort_acc                             767705 non-null  float64\n",
      " 16  pub_rec_bankruptcies                 814289 non-null  float64\n",
      " 17  log_annual_inc                       814986 non-null  float64\n",
      " 18  fico_score                           814986 non-null  float64\n",
      " 19  log_revol_bal                        814986 non-null  float64\n",
      " 20  charged_off                          814986 non-null  int64  \n",
      " 21  home_ownership_OTHER                 814986 non-null  uint8  \n",
      " 22  home_ownership_OWN                   814986 non-null  uint8  \n",
      " 23  home_ownership_RENT                  814986 non-null  uint8  \n",
      " 24  verification_status_Source Verified  814986 non-null  uint8  \n",
      " 25  verification_status_Verified         814986 non-null  uint8  \n",
      " 26  purpose_credit_card                  814986 non-null  uint8  \n",
      " 27  purpose_debt_consolidation           814986 non-null  uint8  \n",
      " 28  purpose_educational                  814986 non-null  uint8  \n",
      " 29  purpose_home_improvement             814986 non-null  uint8  \n",
      " 30  purpose_house                        814986 non-null  uint8  \n",
      " 31  purpose_major_purchase               814986 non-null  uint8  \n",
      " 32  purpose_medical                      814986 non-null  uint8  \n",
      " 33  purpose_moving                       814986 non-null  uint8  \n",
      " 34  purpose_other                        814986 non-null  uint8  \n",
      " 35  purpose_renewable_energy             814986 non-null  uint8  \n",
      " 36  purpose_small_business               814986 non-null  uint8  \n",
      " 37  purpose_vacation                     814986 non-null  uint8  \n",
      " 38  purpose_wedding                      814986 non-null  uint8  \n",
      " 39  addr_state_AL                        814986 non-null  uint8  \n",
      " 40  addr_state_AR                        814986 non-null  uint8  \n",
      " 41  addr_state_AZ                        814986 non-null  uint8  \n",
      " 42  addr_state_CA                        814986 non-null  uint8  \n",
      " 43  addr_state_CO                        814986 non-null  uint8  \n",
      " 44  addr_state_CT                        814986 non-null  uint8  \n",
      " 45  addr_state_DC                        814986 non-null  uint8  \n",
      " 46  addr_state_DE                        814986 non-null  uint8  \n",
      " 47  addr_state_FL                        814986 non-null  uint8  \n",
      " 48  addr_state_GA                        814986 non-null  uint8  \n",
      " 49  addr_state_HI                        814986 non-null  uint8  \n",
      " 50  addr_state_IA                        814986 non-null  uint8  \n",
      " 51  addr_state_ID                        814986 non-null  uint8  \n",
      " 52  addr_state_IL                        814986 non-null  uint8  \n",
      " 53  addr_state_IN                        814986 non-null  uint8  \n",
      " 54  addr_state_KS                        814986 non-null  uint8  \n",
      " 55  addr_state_KY                        814986 non-null  uint8  \n",
      " 56  addr_state_LA                        814986 non-null  uint8  \n",
      " 57  addr_state_MA                        814986 non-null  uint8  \n",
      " 58  addr_state_MD                        814986 non-null  uint8  \n",
      " 59  addr_state_ME                        814986 non-null  uint8  \n",
      " 60  addr_state_MI                        814986 non-null  uint8  \n",
      " 61  addr_state_MN                        814986 non-null  uint8  \n",
      " 62  addr_state_MO                        814986 non-null  uint8  \n",
      " 63  addr_state_MS                        814986 non-null  uint8  \n",
      " 64  addr_state_MT                        814986 non-null  uint8  \n",
      " 65  addr_state_NC                        814986 non-null  uint8  \n",
      " 66  addr_state_ND                        814986 non-null  uint8  \n",
      " 67  addr_state_NE                        814986 non-null  uint8  \n",
      " 68  addr_state_NH                        814986 non-null  uint8  \n",
      " 69  addr_state_NJ                        814986 non-null  uint8  \n",
      " 70  addr_state_NM                        814986 non-null  uint8  \n",
      " 71  addr_state_NV                        814986 non-null  uint8  \n",
      " 72  addr_state_NY                        814986 non-null  uint8  \n",
      " 73  addr_state_OH                        814986 non-null  uint8  \n",
      " 74  addr_state_OK                        814986 non-null  uint8  \n",
      " 75  addr_state_OR                        814986 non-null  uint8  \n",
      " 76  addr_state_PA                        814986 non-null  uint8  \n",
      " 77  addr_state_RI                        814986 non-null  uint8  \n",
      " 78  addr_state_SC                        814986 non-null  uint8  \n",
      " 79  addr_state_SD                        814986 non-null  uint8  \n",
      " 80  addr_state_TN                        814986 non-null  uint8  \n",
      " 81  addr_state_TX                        814986 non-null  uint8  \n",
      " 82  addr_state_UT                        814986 non-null  uint8  \n",
      " 83  addr_state_VA                        814986 non-null  uint8  \n",
      " 84  addr_state_VT                        814986 non-null  uint8  \n",
      " 85  addr_state_WA                        814986 non-null  uint8  \n",
      " 86  addr_state_WI                        814986 non-null  uint8  \n",
      " 87  addr_state_WV                        814986 non-null  uint8  \n",
      " 88  addr_state_WY                        814986 non-null  uint8  \n",
      " 89  initial_list_status_w                814986 non-null  uint8  \n",
      " 90  application_type_Joint App           814986 non-null  uint8  \n",
      "dtypes: float64(16), int64(4), object(1), uint8(70)\n",
      "memory usage: 223.4+ MB\n"
     ]
    },
    {
     "data": {
      "text/plain": [
       "mort_acc                      47281\n",
       "emp_length                    42253\n",
       "pub_rec_bankruptcies            697\n",
       "revol_util                      490\n",
       "dti                              36\n",
       "                              ...  \n",
       "purpose_medical                   0\n",
       "purpose_major_purchase            0\n",
       "purpose_house                     0\n",
       "purpose_home_improvement          0\n",
       "application_type_Joint App        0\n",
       "Length: 91, dtype: int64"
      ]
     },
     "execution_count": 129,
     "metadata": {},
     "output_type": "execute_result"
    }
   ],
   "source": [
    "df_f2.info()\n",
    "df_f2.isnull().sum().sort_values(ascending = False)"
   ]
  },
  {
   "cell_type": "code",
   "execution_count": 130,
   "id": "ecc915f0",
   "metadata": {},
   "outputs": [
    {
     "data": {
      "text/plain": [
       "0    646902\n",
       "1    168084\n",
       "Name: charged_off, dtype: int64"
      ]
     },
     "execution_count": 130,
     "metadata": {},
     "output_type": "execute_result"
    }
   ],
   "source": [
    "df_f2['charged_off'].value_counts()"
   ]
  },
  {
   "cell_type": "code",
   "execution_count": 131,
   "id": "ff41ce85",
   "metadata": {},
   "outputs": [],
   "source": [
    "# Converting to a 0/1 variable, where 0 indicates fully paid and 1 indicates charge-off:\n",
    "\n",
    "# mapping_0 = {'Fully Paid':0,\n",
    "#            'Charged Off':1,\n",
    "#           }\n",
    "# df_f2['loan_status'] = df_f2['loan_status'].map(mapping_0) \n",
    "# df_f2['loan_status'].value_counts()"
   ]
  },
  {
   "cell_type": "code",
   "execution_count": 132,
   "id": "94c8950b",
   "metadata": {},
   "outputs": [
    {
     "name": "stderr",
     "output_type": "stream",
     "text": [
      "C:\\Users\\kanishk\\anaconda3\\lib\\site-packages\\pandas\\core\\frame.py:4308: SettingWithCopyWarning: \n",
      "A value is trying to be set on a copy of a slice from a DataFrame\n",
      "\n",
      "See the caveats in the documentation: https://pandas.pydata.org/pandas-docs/stable/user_guide/indexing.html#returning-a-view-versus-a-copy\n",
      "  return super().drop(\n"
     ]
    }
   ],
   "source": [
    "# Train * Test Split\n",
    "\n",
    "df_f2['issue_d'] = pd.to_datetime(df_f2['issue_d'])\n",
    "loans_train = df_f2.loc[df_f2['issue_d'] <  df_f2['issue_d'].quantile(0.9)]\n",
    "loans_test =  df_f2.loc[df_f2['issue_d'] >= df_f2['issue_d'].quantile(0.9)]\n",
    "loans_train.drop('issue_d', axis=1, inplace=True)\n",
    "loans_test.drop('issue_d', axis=1, inplace=True)"
   ]
  },
  {
   "cell_type": "code",
   "execution_count": 133,
   "id": "ed5137e2",
   "metadata": {},
   "outputs": [],
   "source": [
    "# Creating Target Vector and Feature Matrix\n",
    "\n",
    "y_train = loans_train['charged_off']\n",
    "y_test = loans_test['charged_off']\n",
    "X_train = loans_train.drop('charged_off', axis=1)\n",
    "X_test = loans_test.drop('charged_off', axis=1)"
   ]
  },
  {
   "cell_type": "code",
   "execution_count": 134,
   "id": "7cc8bea9",
   "metadata": {},
   "outputs": [
    {
     "data": {
      "text/plain": [
       "mort_acc                      47281\n",
       "emp_length                    36984\n",
       "pub_rec_bankruptcies            697\n",
       "revol_util                      424\n",
       "dti                              10\n",
       "                              ...  \n",
       "purpose_moving                    0\n",
       "purpose_medical                   0\n",
       "purpose_major_purchase            0\n",
       "purpose_house                     0\n",
       "application_type_Joint App        0\n",
       "Length: 89, dtype: int64"
      ]
     },
     "execution_count": 134,
     "metadata": {},
     "output_type": "execute_result"
    }
   ],
   "source": [
    "# Looking for null values in train feature set\n",
    "\n",
    "X_train.isnull().sum().sort_values(ascending = False)"
   ]
  },
  {
   "cell_type": "code",
   "execution_count": 135,
   "id": "3146baa5",
   "metadata": {},
   "outputs": [],
   "source": [
    "# Filling NAs with most frequent value\n",
    "\n",
    "from sklearn.impute import SimpleImputer\n",
    "X_train_f = X_train.copy()\n",
    "#setting strategy to 'mean' to impute by the mean\n",
    "mean_imputer = SimpleImputer(strategy='most_frequent')# strategy can also be mean or median \n",
    "X_train_f.iloc[:,:] = mean_imputer.fit_transform(X_train_f)"
   ]
  },
  {
   "cell_type": "code",
   "execution_count": 136,
   "id": "5e6ff1ad",
   "metadata": {},
   "outputs": [
    {
     "data": {
      "text/plain": [
       "loan_amnt                     0\n",
       "term                          0\n",
       "int_rate                      0\n",
       "installment                   0\n",
       "sub_grade                     0\n",
       "                             ..\n",
       "addr_state_WI                 0\n",
       "addr_state_WV                 0\n",
       "addr_state_WY                 0\n",
       "initial_list_status_w         0\n",
       "application_type_Joint App    0\n",
       "Length: 89, dtype: int64"
      ]
     },
     "execution_count": 136,
     "metadata": {},
     "output_type": "execute_result"
    }
   ],
   "source": [
    "X_train_f.isnull().sum()"
   ]
  },
  {
   "cell_type": "code",
   "execution_count": 137,
   "id": "f60c3ef2",
   "metadata": {},
   "outputs": [
    {
     "data": {
      "text/plain": [
       "emp_length                    5269\n",
       "revol_util                      66\n",
       "dti                             26\n",
       "addr_state_MD                    0\n",
       "addr_state_NE                    0\n",
       "                              ... \n",
       "purpose_medical                  0\n",
       "purpose_major_purchase           0\n",
       "purpose_house                    0\n",
       "purpose_home_improvement         0\n",
       "application_type_Joint App       0\n",
       "Length: 89, dtype: int64"
      ]
     },
     "execution_count": 137,
     "metadata": {},
     "output_type": "execute_result"
    }
   ],
   "source": [
    "# Looking for null values in test feature set\n",
    "\n",
    "X_test.isnull().sum().sort_values(ascending = False)"
   ]
  },
  {
   "cell_type": "code",
   "execution_count": 138,
   "id": "120d00e1",
   "metadata": {},
   "outputs": [],
   "source": [
    "# Filling NAs with most frequent value\n",
    "\n",
    "from sklearn.impute import SimpleImputer\n",
    "X_test_f = X_test.copy()\n",
    "#setting strategy to 'mean' to impute by the mean\n",
    "mean_imputer = SimpleImputer(strategy='most_frequent') \n",
    "X_test_f.iloc[:,:] = mean_imputer.fit_transform(X_test_f)"
   ]
  },
  {
   "cell_type": "code",
   "execution_count": 139,
   "id": "bbf36a7e",
   "metadata": {},
   "outputs": [
    {
     "data": {
      "text/plain": [
       "loan_amnt                     0\n",
       "term                          0\n",
       "int_rate                      0\n",
       "installment                   0\n",
       "sub_grade                     0\n",
       "                             ..\n",
       "addr_state_WI                 0\n",
       "addr_state_WV                 0\n",
       "addr_state_WY                 0\n",
       "initial_list_status_w         0\n",
       "application_type_Joint App    0\n",
       "Length: 89, dtype: int64"
      ]
     },
     "execution_count": 139,
     "metadata": {},
     "output_type": "execute_result"
    }
   ],
   "source": [
    "X_test_f.isnull().sum()"
   ]
  },
  {
   "cell_type": "code",
   "execution_count": 140,
   "id": "7072a046",
   "metadata": {},
   "outputs": [
    {
     "name": "stdout",
     "output_type": "stream",
     "text": [
      "<class 'pandas.core.frame.DataFrame'>\n",
      "Int64Index: 731108 entries, 0 to 1646792\n",
      "Data columns (total 89 columns):\n",
      " #   Column                               Non-Null Count   Dtype  \n",
      "---  ------                               --------------   -----  \n",
      " 0   loan_amnt                            731108 non-null  float64\n",
      " 1   term                                 731108 non-null  float64\n",
      " 2   int_rate                             731108 non-null  float64\n",
      " 3   installment                          731108 non-null  float64\n",
      " 4   sub_grade                            731108 non-null  float64\n",
      " 5   emp_length                           731108 non-null  float64\n",
      " 6   annual_inc                           731108 non-null  float64\n",
      " 7   dti                                  731108 non-null  float64\n",
      " 8   earliest_cr_line                     731108 non-null  float64\n",
      " 9   open_acc                             731108 non-null  float64\n",
      " 10  pub_rec                              731108 non-null  float64\n",
      " 11  revol_bal                            731108 non-null  float64\n",
      " 12  revol_util                           731108 non-null  float64\n",
      " 13  total_acc                            731108 non-null  float64\n",
      " 14  mort_acc                             731108 non-null  float64\n",
      " 15  pub_rec_bankruptcies                 731108 non-null  float64\n",
      " 16  log_annual_inc                       731108 non-null  float64\n",
      " 17  fico_score                           731108 non-null  float64\n",
      " 18  log_revol_bal                        731108 non-null  float64\n",
      " 19  home_ownership_OTHER                 731108 non-null  float64\n",
      " 20  home_ownership_OWN                   731108 non-null  float64\n",
      " 21  home_ownership_RENT                  731108 non-null  float64\n",
      " 22  verification_status_Source Verified  731108 non-null  float64\n",
      " 23  verification_status_Verified         731108 non-null  float64\n",
      " 24  purpose_credit_card                  731108 non-null  float64\n",
      " 25  purpose_debt_consolidation           731108 non-null  float64\n",
      " 26  purpose_educational                  731108 non-null  float64\n",
      " 27  purpose_home_improvement             731108 non-null  float64\n",
      " 28  purpose_house                        731108 non-null  float64\n",
      " 29  purpose_major_purchase               731108 non-null  float64\n",
      " 30  purpose_medical                      731108 non-null  float64\n",
      " 31  purpose_moving                       731108 non-null  float64\n",
      " 32  purpose_other                        731108 non-null  float64\n",
      " 33  purpose_renewable_energy             731108 non-null  float64\n",
      " 34  purpose_small_business               731108 non-null  float64\n",
      " 35  purpose_vacation                     731108 non-null  float64\n",
      " 36  purpose_wedding                      731108 non-null  float64\n",
      " 37  addr_state_AL                        731108 non-null  float64\n",
      " 38  addr_state_AR                        731108 non-null  float64\n",
      " 39  addr_state_AZ                        731108 non-null  float64\n",
      " 40  addr_state_CA                        731108 non-null  float64\n",
      " 41  addr_state_CO                        731108 non-null  float64\n",
      " 42  addr_state_CT                        731108 non-null  float64\n",
      " 43  addr_state_DC                        731108 non-null  float64\n",
      " 44  addr_state_DE                        731108 non-null  float64\n",
      " 45  addr_state_FL                        731108 non-null  float64\n",
      " 46  addr_state_GA                        731108 non-null  float64\n",
      " 47  addr_state_HI                        731108 non-null  float64\n",
      " 48  addr_state_IA                        731108 non-null  float64\n",
      " 49  addr_state_ID                        731108 non-null  float64\n",
      " 50  addr_state_IL                        731108 non-null  float64\n",
      " 51  addr_state_IN                        731108 non-null  float64\n",
      " 52  addr_state_KS                        731108 non-null  float64\n",
      " 53  addr_state_KY                        731108 non-null  float64\n",
      " 54  addr_state_LA                        731108 non-null  float64\n",
      " 55  addr_state_MA                        731108 non-null  float64\n",
      " 56  addr_state_MD                        731108 non-null  float64\n",
      " 57  addr_state_ME                        731108 non-null  float64\n",
      " 58  addr_state_MI                        731108 non-null  float64\n",
      " 59  addr_state_MN                        731108 non-null  float64\n",
      " 60  addr_state_MO                        731108 non-null  float64\n",
      " 61  addr_state_MS                        731108 non-null  float64\n",
      " 62  addr_state_MT                        731108 non-null  float64\n",
      " 63  addr_state_NC                        731108 non-null  float64\n",
      " 64  addr_state_ND                        731108 non-null  float64\n",
      " 65  addr_state_NE                        731108 non-null  float64\n",
      " 66  addr_state_NH                        731108 non-null  float64\n",
      " 67  addr_state_NJ                        731108 non-null  float64\n",
      " 68  addr_state_NM                        731108 non-null  float64\n",
      " 69  addr_state_NV                        731108 non-null  float64\n",
      " 70  addr_state_NY                        731108 non-null  float64\n",
      " 71  addr_state_OH                        731108 non-null  float64\n",
      " 72  addr_state_OK                        731108 non-null  float64\n",
      " 73  addr_state_OR                        731108 non-null  float64\n",
      " 74  addr_state_PA                        731108 non-null  float64\n",
      " 75  addr_state_RI                        731108 non-null  float64\n",
      " 76  addr_state_SC                        731108 non-null  float64\n",
      " 77  addr_state_SD                        731108 non-null  float64\n",
      " 78  addr_state_TN                        731108 non-null  float64\n",
      " 79  addr_state_TX                        731108 non-null  float64\n",
      " 80  addr_state_UT                        731108 non-null  float64\n",
      " 81  addr_state_VA                        731108 non-null  float64\n",
      " 82  addr_state_VT                        731108 non-null  float64\n",
      " 83  addr_state_WA                        731108 non-null  float64\n",
      " 84  addr_state_WI                        731108 non-null  float64\n",
      " 85  addr_state_WV                        731108 non-null  float64\n",
      " 86  addr_state_WY                        731108 non-null  float64\n",
      " 87  initial_list_status_w                731108 non-null  float64\n",
      " 88  application_type_Joint App           731108 non-null  float64\n",
      "dtypes: float64(89)\n",
      "memory usage: 502.0 MB\n"
     ]
    }
   ],
   "source": [
    "X_train_f.info()"
   ]
  },
  {
   "cell_type": "code",
   "execution_count": 141,
   "id": "896675f0",
   "metadata": {
    "scrolled": true
   },
   "outputs": [
    {
     "data": {
      "text/html": [
       "<div>\n",
       "<style scoped>\n",
       "    .dataframe tbody tr th:only-of-type {\n",
       "        vertical-align: middle;\n",
       "    }\n",
       "\n",
       "    .dataframe tbody tr th {\n",
       "        vertical-align: top;\n",
       "    }\n",
       "\n",
       "    .dataframe thead th {\n",
       "        text-align: right;\n",
       "    }\n",
       "</style>\n",
       "<table border=\"1\" class=\"dataframe\">\n",
       "  <thead>\n",
       "    <tr style=\"text-align: right;\">\n",
       "      <th></th>\n",
       "      <th>loan_amnt</th>\n",
       "      <th>term</th>\n",
       "      <th>int_rate</th>\n",
       "      <th>installment</th>\n",
       "      <th>sub_grade</th>\n",
       "      <th>emp_length</th>\n",
       "      <th>annual_inc</th>\n",
       "      <th>dti</th>\n",
       "      <th>earliest_cr_line</th>\n",
       "      <th>open_acc</th>\n",
       "      <th>...</th>\n",
       "      <th>addr_state_TX</th>\n",
       "      <th>addr_state_UT</th>\n",
       "      <th>addr_state_VA</th>\n",
       "      <th>addr_state_VT</th>\n",
       "      <th>addr_state_WA</th>\n",
       "      <th>addr_state_WI</th>\n",
       "      <th>addr_state_WV</th>\n",
       "      <th>addr_state_WY</th>\n",
       "      <th>initial_list_status_w</th>\n",
       "      <th>application_type_Joint App</th>\n",
       "    </tr>\n",
       "  </thead>\n",
       "  <tbody>\n",
       "    <tr>\n",
       "      <th>0</th>\n",
       "      <td>15000.0</td>\n",
       "      <td>60.0</td>\n",
       "      <td>12.39</td>\n",
       "      <td>336.64</td>\n",
       "      <td>11.0</td>\n",
       "      <td>10.0</td>\n",
       "      <td>78000.0</td>\n",
       "      <td>12.03</td>\n",
       "      <td>1994.0</td>\n",
       "      <td>6.0</td>\n",
       "      <td>...</td>\n",
       "      <td>0.0</td>\n",
       "      <td>0.0</td>\n",
       "      <td>1.0</td>\n",
       "      <td>0.0</td>\n",
       "      <td>0.0</td>\n",
       "      <td>0.0</td>\n",
       "      <td>0.0</td>\n",
       "      <td>0.0</td>\n",
       "      <td>1.0</td>\n",
       "      <td>0.0</td>\n",
       "    </tr>\n",
       "    <tr>\n",
       "      <th>1</th>\n",
       "      <td>10400.0</td>\n",
       "      <td>36.0</td>\n",
       "      <td>6.99</td>\n",
       "      <td>321.08</td>\n",
       "      <td>3.0</td>\n",
       "      <td>8.0</td>\n",
       "      <td>58000.0</td>\n",
       "      <td>14.92</td>\n",
       "      <td>1989.0</td>\n",
       "      <td>17.0</td>\n",
       "      <td>...</td>\n",
       "      <td>0.0</td>\n",
       "      <td>0.0</td>\n",
       "      <td>0.0</td>\n",
       "      <td>0.0</td>\n",
       "      <td>0.0</td>\n",
       "      <td>0.0</td>\n",
       "      <td>0.0</td>\n",
       "      <td>0.0</td>\n",
       "      <td>1.0</td>\n",
       "      <td>0.0</td>\n",
       "    </tr>\n",
       "    <tr>\n",
       "      <th>2</th>\n",
       "      <td>21425.0</td>\n",
       "      <td>60.0</td>\n",
       "      <td>15.59</td>\n",
       "      <td>516.36</td>\n",
       "      <td>16.0</td>\n",
       "      <td>6.0</td>\n",
       "      <td>63800.0</td>\n",
       "      <td>18.49</td>\n",
       "      <td>2003.0</td>\n",
       "      <td>10.0</td>\n",
       "      <td>...</td>\n",
       "      <td>0.0</td>\n",
       "      <td>0.0</td>\n",
       "      <td>0.0</td>\n",
       "      <td>0.0</td>\n",
       "      <td>0.0</td>\n",
       "      <td>0.0</td>\n",
       "      <td>0.0</td>\n",
       "      <td>0.0</td>\n",
       "      <td>1.0</td>\n",
       "      <td>0.0</td>\n",
       "    </tr>\n",
       "    <tr>\n",
       "      <th>4</th>\n",
       "      <td>7650.0</td>\n",
       "      <td>36.0</td>\n",
       "      <td>13.66</td>\n",
       "      <td>260.20</td>\n",
       "      <td>13.0</td>\n",
       "      <td>0.0</td>\n",
       "      <td>50000.0</td>\n",
       "      <td>34.81</td>\n",
       "      <td>2002.0</td>\n",
       "      <td>11.0</td>\n",
       "      <td>...</td>\n",
       "      <td>0.0</td>\n",
       "      <td>0.0</td>\n",
       "      <td>0.0</td>\n",
       "      <td>0.0</td>\n",
       "      <td>0.0</td>\n",
       "      <td>0.0</td>\n",
       "      <td>0.0</td>\n",
       "      <td>0.0</td>\n",
       "      <td>0.0</td>\n",
       "      <td>0.0</td>\n",
       "    </tr>\n",
       "    <tr>\n",
       "      <th>5</th>\n",
       "      <td>9600.0</td>\n",
       "      <td>36.0</td>\n",
       "      <td>13.66</td>\n",
       "      <td>326.53</td>\n",
       "      <td>13.0</td>\n",
       "      <td>10.0</td>\n",
       "      <td>69000.0</td>\n",
       "      <td>25.81</td>\n",
       "      <td>1992.0</td>\n",
       "      <td>12.0</td>\n",
       "      <td>...</td>\n",
       "      <td>0.0</td>\n",
       "      <td>0.0</td>\n",
       "      <td>0.0</td>\n",
       "      <td>0.0</td>\n",
       "      <td>0.0</td>\n",
       "      <td>0.0</td>\n",
       "      <td>0.0</td>\n",
       "      <td>0.0</td>\n",
       "      <td>0.0</td>\n",
       "      <td>0.0</td>\n",
       "    </tr>\n",
       "  </tbody>\n",
       "</table>\n",
       "<p>5 rows × 89 columns</p>\n",
       "</div>"
      ],
      "text/plain": [
       "   loan_amnt  term  int_rate  installment  sub_grade  emp_length  annual_inc  \\\n",
       "0    15000.0  60.0     12.39       336.64       11.0        10.0     78000.0   \n",
       "1    10400.0  36.0      6.99       321.08        3.0         8.0     58000.0   \n",
       "2    21425.0  60.0     15.59       516.36       16.0         6.0     63800.0   \n",
       "4     7650.0  36.0     13.66       260.20       13.0         0.0     50000.0   \n",
       "5     9600.0  36.0     13.66       326.53       13.0        10.0     69000.0   \n",
       "\n",
       "     dti  earliest_cr_line  open_acc  ...  addr_state_TX  addr_state_UT  \\\n",
       "0  12.03            1994.0       6.0  ...            0.0            0.0   \n",
       "1  14.92            1989.0      17.0  ...            0.0            0.0   \n",
       "2  18.49            2003.0      10.0  ...            0.0            0.0   \n",
       "4  34.81            2002.0      11.0  ...            0.0            0.0   \n",
       "5  25.81            1992.0      12.0  ...            0.0            0.0   \n",
       "\n",
       "   addr_state_VA  addr_state_VT  addr_state_WA  addr_state_WI  addr_state_WV  \\\n",
       "0            1.0            0.0            0.0            0.0            0.0   \n",
       "1            0.0            0.0            0.0            0.0            0.0   \n",
       "2            0.0            0.0            0.0            0.0            0.0   \n",
       "4            0.0            0.0            0.0            0.0            0.0   \n",
       "5            0.0            0.0            0.0            0.0            0.0   \n",
       "\n",
       "   addr_state_WY  initial_list_status_w  application_type_Joint App  \n",
       "0            0.0                    1.0                         0.0  \n",
       "1            0.0                    1.0                         0.0  \n",
       "2            0.0                    1.0                         0.0  \n",
       "4            0.0                    0.0                         0.0  \n",
       "5            0.0                    0.0                         0.0  \n",
       "\n",
       "[5 rows x 89 columns]"
      ]
     },
     "execution_count": 141,
     "metadata": {},
     "output_type": "execute_result"
    }
   ],
   "source": [
    "X_train_f.head()"
   ]
  },
  {
   "cell_type": "code",
   "execution_count": 142,
   "id": "8842191e",
   "metadata": {},
   "outputs": [
    {
     "data": {
      "image/png": "[encoded data removed]",
      "text/plain": [
       "<Figure size 432x288 with 2 Axes>"
      ]
     },
     "metadata": {
      "needs_background": "light"
     },
     "output_type": "display_data"
    },
    {
     "name": "stdout",
     "output_type": "stream",
     "text": [
      "Test Accuracy: 0.8273206323469802\n",
      "Test AUC: 0.5\n",
      "Test Precision: 0.0\n",
      "Test Recall: 0.0\n",
      "Test F1 Score: 0.0\n"
     ]
    },
    {
     "name": "stderr",
     "output_type": "stream",
     "text": [
      "C:\\Users\\kanishk\\anaconda3\\lib\\site-packages\\sklearn\\metrics\\_classification.py:1245: UndefinedMetricWarning: Precision is ill-defined and being set to 0.0 due to no predicted samples. Use `zero_division` parameter to control this behavior.\n",
      "  _warn_prf(average, modifier, msg_start, len(result))\n"
     ]
    }
   ],
   "source": [
    "# Dummy Classifier\n",
    "\n",
    "from sklearn.dummy import DummyClassifier\n",
    "from sklearn import metrics\n",
    "\n",
    "dummy_majority = DummyClassifier(strategy = 'most_frequent').fit(X_train_f, y_train)\n",
    "y_dummy_predictions = dummy_majority.predict(X_test_f)\n",
    "y_dummy_predictions2 = dummy_majority.predict_proba(X_test_f)[:, 1]\n",
    "#dummy_majority.score(X_test_f, y_test)\n",
    "\n",
    "# Confusion Matrix\n",
    "cm = metrics.confusion_matrix(y_test, y_dummy_predictions\n",
    "                              #, labels=y_dummy_predictions.classes_\n",
    "                             )\n",
    "disp = metrics.ConfusionMatrixDisplay(confusion_matrix=cm\n",
    "#                                       ,\n",
    "#                                display_labels=y_dummy_predictions.classes_\n",
    "                                     )\n",
    "disp.plot()\n",
    "plt.show()\n",
    "\n",
    "# Test Scores\n",
    "print('Test Accuracy: '+str(metrics.accuracy_score(y_test,y_dummy_predictions)))\n",
    "print('Test AUC: '+str(metrics.roc_auc_score(y_test,y_dummy_predictions2)))\n",
    "print('Test Precision: '+str(metrics.precision_score(y_test,y_dummy_predictions)))\n",
    "print('Test Recall: '+str(metrics.recall_score(y_test,y_dummy_predictions)))\n",
    "print('Test F1 Score: '+str(metrics.f1_score(y_test,y_dummy_predictions)))"
   ]
  },
  {
   "cell_type": "code",
   "execution_count": 137,
   "id": "9ee5046b",
   "metadata": {},
   "outputs": [
    {
     "name": "stdout",
     "output_type": "stream",
     "text": [
      "1min 32s ± 0 ns per loop (mean ± std. dev. of 1 run, 1 loop each)\n",
      "Lending Club dataset\n",
      "Accuracy of Logistic regression classifier on training set: 0.79\n",
      "Accuracy of Logistic regression classifier on test set: 0.82\n"
     ]
    },
    {
     "data": {
      "image/png": "[encoded data removed]",
      "text/plain": [
       "<Figure size 432x288 with 2 Axes>"
      ]
     },
     "metadata": {
      "needs_background": "light"
     },
     "output_type": "display_data"
    },
    {
     "name": "stdout",
     "output_type": "stream",
     "text": [
      "Test Accuracy: 0.8241732039390544\n",
      "Test AUC: 0.6911927714100967\n",
      "Test Precision: 0.4323076923076923\n",
      "Test Recall: 0.05820215410107705\n",
      "Test F1 Score: 0.10259218692953632\n"
     ]
    }
   ],
   "source": [
    "# Logistic Regression\n",
    "\n",
    "from sklearn.linear_model import LogisticRegression\n",
    "from sklearn.preprocessing import MinMaxScaler\n",
    "from sklearn.pipeline import Pipeline\n",
    "from sklearn.model_selection import GridSearchCV\n",
    "from sklearn import metrics\n",
    "\n",
    "sc = MinMaxScaler()\n",
    "lr = LogisticRegression(max_iter = 1000, C = 1)\n",
    "\n",
    "# Pipeline to avoid data leakage when scaling\n",
    "clf = Pipeline([('scaler', sc), ('logistic', lr)])\n",
    "%timeit -n1 -r1 clf.fit(X_train_f, y_train)\n",
    "\n",
    "print('Lending Club dataset')\n",
    "print('Accuracy of Logistic regression classifier on training set: {:.2f}'\n",
    "     .format(clf.score(X_train_f, y_train)))\n",
    "print('Accuracy of Logistic regression classifier on test set: {:.2f}'\n",
    "     .format(clf.score(X_test_f, y_test)))\n",
    "\n",
    "# Confusion Matrix\n",
    "train_predictions=clf.predict(X_train_f)\n",
    "test_predictions=clf.predict(X_test_f)\n",
    "test_predictions2=clf.predict_proba(X_test_f)[:, 1]\n",
    "\n",
    "cm = metrics.confusion_matrix(y_test, test_predictions, labels=clf.classes_)\n",
    "disp = metrics.ConfusionMatrixDisplay(confusion_matrix=cm,display_labels=clf.classes_)\n",
    "disp.plot()\n",
    "plt.show()\n",
    "\n",
    "# Test Scores\n",
    "print('Test Accuracy: '+str(metrics.accuracy_score(y_test,test_predictions)))\n",
    "print('Test AUC: '+str(metrics.roc_auc_score(y_test,test_predictions2)))\n",
    "print('Test Precision: '+str(metrics.precision_score(y_test,test_predictions)))\n",
    "print('Test Recall: '+str(metrics.recall_score(y_test,test_predictions)))\n",
    "print('Test F1 Score: '+str(metrics.f1_score(y_test,test_predictions)))"
   ]
  },
  {
   "cell_type": "code",
   "execution_count": 138,
   "id": "4913797a",
   "metadata": {},
   "outputs": [
    {
     "name": "stdout",
     "output_type": "stream",
     "text": [
      "11min 39s ± 0 ns per loop (mean ± std. dev. of 1 run, 1 loop each)\n",
      "Lending Club dataset\n",
      "Accuracy of RF classifier on training set: 1.00\n",
      "Accuracy of RF classifier on test set: 0.82\n"
     ]
    },
    {
     "data": {
      "image/png": "[encoded data removed]",
      "text/plain": [
       "<Figure size 432x288 with 2 Axes>"
      ]
     },
     "metadata": {
      "needs_background": "light"
     },
     "output_type": "display_data"
    },
    {
     "name": "stdout",
     "output_type": "stream",
     "text": [
      "Test Accuracy: 0.8165669186199004\n",
      "Test AUC: 0.6834830015220653\n",
      "Test Precision: 0.3972196900638104\n",
      "Test Recall: 0.12033968516984259\n",
      "Test F1 Score: 0.1847181008902077\n"
     ]
    }
   ],
   "source": [
    "# Random Forest\n",
    "\n",
    "from sklearn.ensemble import RandomForestClassifier\n",
    "from sklearn.model_selection import GridSearchCV\n",
    "from sklearn import metrics\n",
    "\n",
    "# No Pipeline to be able to see Feature Importance\n",
    "clf2 = RandomForestClassifier(max_features = 10, random_state = 0)\n",
    "%timeit -n1 -r1 clf2.fit(X_train_f, y_train)\n",
    "\n",
    "print('Lending Club dataset')\n",
    "print('Accuracy of RF classifier on training set: {:.2f}'\n",
    "     .format(clf2.score(X_train_f, y_train)))\n",
    "print('Accuracy of RF classifier on test set: {:.2f}'\n",
    "     .format(clf2.score(X_test_f, y_test)))\n",
    "\n",
    "# Confusion Matrix\n",
    "train_predictions=clf2.predict(X_train_f)\n",
    "test_predictions=clf2.predict(X_test_f)\n",
    "test_predictions2=clf2.predict_proba(X_test_f)[:, 1]\n",
    "\n",
    "cm = metrics.confusion_matrix(y_test, test_predictions, labels=clf2.classes_)\n",
    "disp = metrics.ConfusionMatrixDisplay(confusion_matrix=cm,display_labels=clf2.classes_)\n",
    "disp.plot()\n",
    "plt.show()\n",
    "\n",
    "# Test Scores\n",
    "print('Test Accuracy: '+str(metrics.accuracy_score(y_test,test_predictions)))\n",
    "print('Test AUC: '+str(metrics.roc_auc_score(y_test,test_predictions2)))\n",
    "print('Test Precision: '+str(metrics.precision_score(y_test,test_predictions)))\n",
    "print('Test Recall: '+str(metrics.recall_score(y_test,test_predictions)))\n",
    "print('Test F1 Score: '+str(metrics.f1_score(y_test,test_predictions)))"
   ]
  },
  {
   "cell_type": "code",
   "execution_count": 139,
   "id": "686c5cbe",
   "metadata": {},
   "outputs": [
    {
     "data": {
      "image/png": "[encoded data removed]",
      "text/plain": [
       "<Figure size 720x864 with 1 Axes>"
      ]
     },
     "metadata": {
      "needs_background": "light"
     },
     "output_type": "display_data"
    }
   ],
   "source": [
    "# Random Forest Features Importance\n",
    "\n",
    "imp = pd.Series(data=clf2.feature_importances_, index=X_test_f.columns).sort_values(ascending=False)\n",
    "plt.figure(figsize=(10,12))\n",
    "plt.title(\"Feature importance\")\n",
    "ax = sns.barplot(y=imp.index, x=imp.values, palette=\"Blues_d\", orient='h')"
   ]
  },
  {
   "cell_type": "code",
   "execution_count": 144,
   "id": "d4f99c19",
   "metadata": {},
   "outputs": [
    {
     "name": "stdout",
     "output_type": "stream",
     "text": [
      "1h 18min 57s ± 0 ns per loop (mean ± std. dev. of 1 run, 1 loop each)\n",
      "Lending Club dataset\n",
      "Accuracy of GBDT classifier on training set: 0.82\n",
      "Accuracy of GBDT classifier on test set: 0.82\n"
     ]
    },
    {
     "data": {
      "image/png": "[encoded data removed]",
      "text/plain": [
       "<Figure size 432x288 with 2 Axes>"
      ]
     },
     "metadata": {
      "needs_background": "light"
     },
     "output_type": "display_data"
    },
    {
     "name": "stdout",
     "output_type": "stream",
     "text": [
      "Test Accuracy: 0.8248289181907056\n",
      "Test AUC: 0.6761626823852436\n",
      "Test Precision: 0.4156577885391445\n",
      "Test Recall: 0.03555647611157139\n",
      "Test F1 Score: 0.06550912675698023\n"
     ]
    }
   ],
   "source": [
    "# Gradient Boosted Trees - \n",
    "\n",
    "from sklearn.ensemble import GradientBoostingClassifier\n",
    "from sklearn import metrics\n",
    "from sklearn.pipeline import Pipeline\n",
    "\n",
    "gbt = GradientBoostingClassifier(learning_rate = 0.01, max_depth = 16, random_state = 0)\n",
    "\n",
    "# Pipeline\n",
    "clf3 = Pipeline([('gradient_boosted_trees', gbt)])\n",
    "%timeit -n1 -r1 clf3.fit(X_train_f, y_train)\n",
    "\n",
    "# Train vs Test Scores\n",
    "print('Lending Club dataset')\n",
    "print('Accuracy of GBDT classifier on training set: {:.2f}'\n",
    "     .format(clf3.score(X_train_f, y_train)))\n",
    "print('Accuracy of GBDT classifier on test set: {:.2f}'\n",
    "     .format(clf3.score(X_test_f, y_test)))\n",
    "\n",
    "# Confusion Matrix\n",
    "train_predictions=clf3.predict(X_train_f)\n",
    "test_predictions=clf3.predict(X_test_f)\n",
    "test_predictions2=clf3.predict_proba(X_test_f)[:, 1]\n",
    "\n",
    "cm = metrics.confusion_matrix(y_test, test_predictions, labels=clf3.classes_)\n",
    "disp = metrics.ConfusionMatrixDisplay(confusion_matrix=cm,display_labels=clf3.classes_)\n",
    "disp.plot()\n",
    "plt.show()\n",
    "\n",
    "# Test Scores\n",
    "print('Test Accuracy: '+str(metrics.accuracy_score(y_test,test_predictions)))\n",
    "print('Test AUC: '+str(metrics.roc_auc_score(y_test,test_predictions2)))\n",
    "print('Test Precision: '+str(metrics.precision_score(y_test,test_predictions)))\n",
    "print('Test Recall: '+str(metrics.recall_score(y_test,test_predictions)))\n",
    "print('Test F1 Score: '+str(metrics.f1_score(y_test,test_predictions)))"
   ]
  },
  {
   "cell_type": "code",
   "execution_count": 144,
   "id": "f99e663b",
   "metadata": {},
   "outputs": [
    {
     "name": "stderr",
     "output_type": "stream",
     "text": [
      "C:\\Users\\kanishk\\anaconda3\\lib\\site-packages\\sklearn\\neural_network\\_multilayer_perceptron.py:500: ConvergenceWarning: lbfgs failed to converge (status=1):\n",
      "STOP: TOTAL NO. of ITERATIONS REACHED LIMIT.\n",
      "\n",
      "Increase the number of iterations (max_iter) or scale the data as shown in:\n",
      "    https://scikit-learn.org/stable/modules/preprocessing.html\n",
      "  self.n_iter_ = _check_optimize_result(\"lbfgs\", opt_res, self.max_iter)\n"
     ]
    },
    {
     "name": "stdout",
     "output_type": "stream",
     "text": [
      "39min 56s ± 0 ns per loop (mean ± std. dev. of 1 run, 1 loop each)\n",
      "Lending Club dataset\n",
      "Accuracy of NN classifier on training set: 0.80\n",
      "Accuracy of NN classifier on test set: 0.82\n"
     ]
    },
    {
     "data": {
      "image/png": "[encoded data removed]",
      "text/plain": [
       "<Figure size 432x288 with 2 Axes>"
      ]
     },
     "metadata": {
      "needs_background": "light"
     },
     "output_type": "display_data"
    },
    {
     "name": "stdout",
     "output_type": "stream",
     "text": [
      "Test Accuracy: 0.8241135935525405\n",
      "Test AUC: 0.6921715917872734\n",
      "Test Precision: 0.4372375174988334\n",
      "Test Recall: 0.06469207401270367\n",
      "Test F1 Score: 0.11270824562458652\n"
     ]
    }
   ],
   "source": [
    "# Neural Network\n",
    "\n",
    "from sklearn.neural_network import MLPClassifier\n",
    "\n",
    "sc = MinMaxScaler()\n",
    "nn = MLPClassifier(hidden_layer_sizes = [50,15], alpha = 0.0001, activation='relu',\n",
    "                   random_state = 0, solver='lbfgs', learning_rate_init=0.001, max_iter=1000)\n",
    "\n",
    "# Pipeline to avoid data leakage when scaling\n",
    "clf4 = Pipeline([('scaler', sc), ('neural_network', nn)])\n",
    "%timeit -n1 -r1 clf4.fit(X_train_f, y_train)\n",
    "\n",
    "# Train vs Test Scores\n",
    "print('Lending Club dataset')\n",
    "print('Accuracy of NN classifier on training set: {:.2f}'\n",
    "     .format(clf4.score(X_train_f, y_train)))\n",
    "print('Accuracy of NN classifier on test set: {:.2f}'\n",
    "     .format(clf4.score(X_test_f, y_test)))\n",
    "\n",
    "# Confusion Matrix\n",
    "train_predictions=clf4.predict(X_train_f)\n",
    "test_predictions=clf4.predict(X_test_f)\n",
    "test_predictions2=clf4.predict_proba(X_test_f)[:, 1]\n",
    "\n",
    "cm = metrics.confusion_matrix(y_test, test_predictions, labels=clf4.classes_)\n",
    "disp = metrics.ConfusionMatrixDisplay(confusion_matrix=cm,display_labels=clf4.classes_)\n",
    "disp.plot()\n",
    "plt.show()\n",
    "\n",
    "# Test Scores\n",
    "print('Test Accuracy: '+str(metrics.accuracy_score(y_test,test_predictions)))\n",
    "print('Test AUC: '+str(metrics.roc_auc_score(y_test,test_predictions2)))\n",
    "print('Test Precision: '+str(metrics.precision_score(y_test,test_predictions)))\n",
    "print('Test Recall: '+str(metrics.recall_score(y_test,test_predictions)))\n",
    "print('Test F1 Score: '+str(metrics.f1_score(y_test,test_predictions)))"
   ]
  },
  {
   "cell_type": "code",
   "execution_count": 249,
   "id": "d59e480d",
   "metadata": {},
   "outputs": [
    {
     "name": "stdout",
     "output_type": "stream",
     "text": [
      "Fitting 5 folds for each of 4 candidates, totalling 20 fits\n",
      "[CV 1/5; 1/4] START logistic__C=1...............................................\n",
      "[CV 1/5; 1/4] END ................logistic__C=1;, score=0.187 total time=  39.7s\n",
      "[CV 2/5; 1/4] START logistic__C=1...............................................\n",
      "[CV 2/5; 1/4] END ................logistic__C=1;, score=0.182 total time=  33.6s\n",
      "[CV 3/5; 1/4] START logistic__C=1...............................................\n",
      "[CV 3/5; 1/4] END ................logistic__C=1;, score=0.254 total time=  30.7s\n",
      "[CV 4/5; 1/4] START logistic__C=1...............................................\n",
      "[CV 4/5; 1/4] END ................logistic__C=1;, score=0.150 total time=  28.9s\n",
      "[CV 5/5; 1/4] START logistic__C=1...............................................\n",
      "[CV 5/5; 1/4] END ................logistic__C=1;, score=0.173 total time=  33.0s\n",
      "[CV 1/5; 2/4] START logistic__C=100.............................................\n",
      "[CV 1/5; 2/4] END ..............logistic__C=100;, score=0.190 total time=  29.1s\n",
      "[CV 2/5; 2/4] START logistic__C=100.............................................\n",
      "[CV 2/5; 2/4] END ..............logistic__C=100;, score=0.184 total time=  39.9s\n",
      "[CV 3/5; 2/4] START logistic__C=100.............................................\n",
      "[CV 3/5; 2/4] END ..............logistic__C=100;, score=0.258 total time=  36.2s\n",
      "[CV 4/5; 2/4] START logistic__C=100.............................................\n",
      "[CV 4/5; 2/4] END ..............logistic__C=100;, score=0.151 total time=  37.5s\n",
      "[CV 5/5; 2/4] START logistic__C=100.............................................\n",
      "[CV 5/5; 2/4] END ..............logistic__C=100;, score=0.173 total time=  42.9s\n",
      "[CV 1/5; 3/4] START logistic__C=150.............................................\n",
      "[CV 1/5; 3/4] END ..............logistic__C=150;, score=0.190 total time=  34.8s\n",
      "[CV 2/5; 3/4] START logistic__C=150.............................................\n",
      "[CV 2/5; 3/4] END ..............logistic__C=150;, score=0.184 total time=  39.6s\n",
      "[CV 3/5; 3/4] START logistic__C=150.............................................\n",
      "[CV 3/5; 3/4] END ..............logistic__C=150;, score=0.259 total time=  48.6s\n",
      "[CV 4/5; 3/4] START logistic__C=150.............................................\n",
      "[CV 4/5; 3/4] END ..............logistic__C=150;, score=0.151 total time=  47.6s\n",
      "[CV 5/5; 3/4] START logistic__C=150.............................................\n",
      "[CV 5/5; 3/4] END ..............logistic__C=150;, score=0.173 total time=  47.8s\n",
      "[CV 1/5; 4/4] START logistic__C=200.............................................\n",
      "[CV 1/5; 4/4] END ..............logistic__C=200;, score=0.190 total time=  48.6s\n",
      "[CV 2/5; 4/4] START logistic__C=200.............................................\n",
      "[CV 2/5; 4/4] END ..............logistic__C=200;, score=0.184 total time=  49.0s\n",
      "[CV 3/5; 4/4] START logistic__C=200.............................................\n",
      "[CV 3/5; 4/4] END ..............logistic__C=200;, score=0.259 total time=  49.1s\n",
      "[CV 4/5; 4/4] START logistic__C=200.............................................\n",
      "[CV 4/5; 4/4] END ..............logistic__C=200;, score=0.151 total time=  50.0s\n",
      "[CV 5/5; 4/4] START logistic__C=200.............................................\n",
      "[CV 5/5; 4/4] END ..............logistic__C=200;, score=0.173 total time=  50.0s\n",
      "14min 36s ± 0 ns per loop (mean ± std. dev. of 1 run, 1 loop each)\n",
      "Lending Club dataset\n",
      "Score of Logistic regression classifier on training set: 0.19\n",
      "Score of Logistic regression classifier on test set: 0.10\n"
     ]
    },
    {
     "data": {
      "image/png": "[encoded data removed]",
      "text/plain": [
       "<Figure size 432x288 with 2 Axes>"
      ]
     },
     "metadata": {
      "needs_background": "light"
     },
     "output_type": "display_data"
    },
    {
     "name": "stdout",
     "output_type": "stream",
     "text": [
      "Test Accuracy: 0.8240897493979351\n",
      "Test AUC: 0.691597069400359\n",
      "Test Precision: 0.431806743834927\n",
      "Test Recall: 0.05923777961888981\n",
      "Test F1 Score: 0.1041831097079716\n"
     ]
    },
    {
     "data": {
      "text/plain": [
       "{'logistic__C': 200}"
      ]
     },
     "execution_count": 249,
     "metadata": {},
     "output_type": "execute_result"
    }
   ],
   "source": [
    "# Logistic Regression 2\n",
    "\n",
    "from sklearn.linear_model import LogisticRegression\n",
    "from sklearn.preprocessing import MinMaxScaler\n",
    "from sklearn.pipeline import Pipeline\n",
    "from sklearn.model_selection import GridSearchCV\n",
    "from sklearn import metrics\n",
    "\n",
    "scaler = MinMaxScaler()\n",
    "lr = LogisticRegression(max_iter = 1000)\n",
    "\n",
    "# Pipeline to avoid data leakage when scaling\n",
    "pipe = Pipeline([('scaler', scaler), ('logistic', lr)])\n",
    "\n",
    "# Grid Search for Hyperparameter Tuning, maximizing highest f1 score\n",
    "parameters = {'logistic__C':[1, 100, 150, 200]}\n",
    "\n",
    "clf5 = GridSearchCV(pipe, param_grid = parameters, verbose = 10, cv = 5, scoring = 'f1')\n",
    "%timeit -n1 -r1 clf5.fit(X_train_f, y_train)\n",
    "\n",
    "# Train vs Test Scores\n",
    "print('Lending Club dataset')\n",
    "print('Score of Logistic regression classifier on training set: {:.2f}'\n",
    "     .format(clf5.score(X_train_f, y_train)))\n",
    "print('Score of Logistic regression classifier on test set: {:.2f}'\n",
    "     .format(clf5.score(X_test_f, y_test)))\n",
    "\n",
    "# Confusion Matrix\n",
    "train_predictions=clf5.predict(X_train_f)\n",
    "test_predictions=clf5.predict(X_test_f)\n",
    "test_predictions2=clf5.predict_proba(X_test_f)[:, 1]\n",
    "\n",
    "cm = metrics.confusion_matrix(y_test, test_predictions, labels=clf5.classes_)\n",
    "disp = metrics.ConfusionMatrixDisplay(confusion_matrix=cm,display_labels=clf5.classes_)\n",
    "disp.plot()\n",
    "plt.show()\n",
    "\n",
    "# Test Scores\n",
    "print('Test Accuracy: '+str(metrics.accuracy_score(y_test,test_predictions)))\n",
    "print('Test AUC: '+str(metrics.roc_auc_score(y_test,test_predictions2)))\n",
    "print('Test Precision: '+str(metrics.precision_score(y_test,test_predictions)))\n",
    "print('Test Recall: '+str(metrics.recall_score(y_test,test_predictions)))\n",
    "print('Test F1 Score: '+str(metrics.f1_score(y_test,test_predictions)))\n",
    "\n",
    "clf5.best_params_"
   ]
  },
  {
   "cell_type": "code",
   "execution_count": 143,
   "id": "b4cf27a5",
   "metadata": {},
   "outputs": [
    {
     "name": "stdout",
     "output_type": "stream",
     "text": [
      "Fitting 5 folds for each of 4 candidates, totalling 20 fits\n",
      "[CV 1/5; 1/4] START random_forest__max_features=10..............................\n",
      "[CV 1/5; 1/4] END ............random_forest__max_features=10; total time= 6.1min\n",
      "[CV 2/5; 1/4] START random_forest__max_features=10..............................\n",
      "[CV 2/5; 1/4] END ............random_forest__max_features=10; total time= 5.9min\n",
      "[CV 3/5; 1/4] START random_forest__max_features=10..............................\n",
      "[CV 3/5; 1/4] END ............random_forest__max_features=10; total time= 5.9min\n",
      "[CV 4/5; 1/4] START random_forest__max_features=10..............................\n",
      "[CV 4/5; 1/4] END ............random_forest__max_features=10; total time= 5.8min\n",
      "[CV 5/5; 1/4] START random_forest__max_features=10..............................\n",
      "[CV 5/5; 1/4] END ............random_forest__max_features=10; total time= 6.1min\n",
      "[CV 1/5; 2/4] START random_forest__max_features=5...............................\n",
      "[CV 1/5; 2/4] END .............random_forest__max_features=5; total time= 4.2min\n",
      "[CV 2/5; 2/4] START random_forest__max_features=5...............................\n",
      "[CV 2/5; 2/4] END .............random_forest__max_features=5; total time= 4.1min\n",
      "[CV 3/5; 2/4] START random_forest__max_features=5...............................\n",
      "[CV 3/5; 2/4] END .............random_forest__max_features=5; total time= 4.5min\n",
      "[CV 4/5; 2/4] START random_forest__max_features=5...............................\n",
      "[CV 4/5; 2/4] END .............random_forest__max_features=5; total time= 4.7min\n",
      "[CV 5/5; 2/4] START random_forest__max_features=5...............................\n",
      "[CV 5/5; 2/4] END .............random_forest__max_features=5; total time= 5.5min\n",
      "[CV 1/5; 3/4] START random_forest__max_features=15..............................\n",
      "[CV 1/5; 3/4] END ............random_forest__max_features=15; total time=10.0min\n",
      "[CV 2/5; 3/4] START random_forest__max_features=15..............................\n",
      "[CV 2/5; 3/4] END ............random_forest__max_features=15; total time= 7.8min\n",
      "[CV 3/5; 3/4] START random_forest__max_features=15..............................\n",
      "[CV 3/5; 3/4] END ............random_forest__max_features=15; total time= 7.9min\n",
      "[CV 4/5; 3/4] START random_forest__max_features=15..............................\n",
      "[CV 4/5; 3/4] END ............random_forest__max_features=15; total time= 7.7min\n",
      "[CV 5/5; 3/4] START random_forest__max_features=15..............................\n",
      "[CV 5/5; 3/4] END ............random_forest__max_features=15; total time= 8.7min\n",
      "[CV 1/5; 4/4] START random_forest__max_features=20..............................\n",
      "[CV 1/5; 4/4] END ............random_forest__max_features=20; total time=11.5min\n",
      "[CV 2/5; 4/4] START random_forest__max_features=20..............................\n",
      "[CV 2/5; 4/4] END ............random_forest__max_features=20; total time= 9.8min\n",
      "[CV 3/5; 4/4] START random_forest__max_features=20..............................\n",
      "[CV 3/5; 4/4] END ............random_forest__max_features=20; total time=10.5min\n",
      "[CV 4/5; 4/4] START random_forest__max_features=20..............................\n",
      "[CV 4/5; 4/4] END ............random_forest__max_features=20; total time= 9.8min\n",
      "[CV 5/5; 4/4] START random_forest__max_features=20..............................\n",
      "[CV 5/5; 4/4] END ............random_forest__max_features=20; total time= 9.4min\n",
      "2h 54min 58s ± 0 ns per loop (mean ± std. dev. of 1 run, 1 loop each)\n",
      "Lending Club dataset\n",
      "Score of RF classifier on training set: 1.00\n",
      "Score of RF classifier on test set: 0.19\n"
     ]
    },
    {
     "data": {
      "image/png": "[encoded data removed]",
      "text/plain": [
       "<Figure size 432x288 with 2 Axes>"
      ]
     },
     "metadata": {
      "needs_background": "light"
     },
     "output_type": "display_data"
    },
    {
     "name": "stdout",
     "output_type": "stream",
     "text": [
      "Test Accuracy: 0.8157085290541024\n",
      "Test AUC: 0.6797075112014225\n",
      "Test Precision: 0.39454309224772627\n",
      "Test Recall: 0.12579397956365646\n",
      "Test F1 Score: 0.19076536488325832\n"
     ]
    },
    {
     "ename": "NameError",
     "evalue": "name 'roc_auc_score' is not defined",
     "output_type": "error",
     "traceback": [
      "\u001b[1;31m---------------------------------------------------------------------------\u001b[0m",
      "\u001b[1;31mNameError\u001b[0m                                 Traceback (most recent call last)",
      "\u001b[1;32m<ipython-input-143-bb92972a8c90>\u001b[0m in \u001b[0;36m<module>\u001b[1;34m\u001b[0m\n\u001b[0;32m     47\u001b[0m \u001b[0mplt\u001b[0m\u001b[1;33m.\u001b[0m\u001b[0mxlim\u001b[0m\u001b[1;33m(\u001b[0m\u001b[1;33m[\u001b[0m\u001b[1;33m-\u001b[0m\u001b[1;36m0.01\u001b[0m\u001b[1;33m,\u001b[0m \u001b[1;36m1.00\u001b[0m\u001b[1;33m]\u001b[0m\u001b[1;33m)\u001b[0m\u001b[1;33m\u001b[0m\u001b[1;33m\u001b[0m\u001b[0m\n\u001b[0;32m     48\u001b[0m \u001b[0mplt\u001b[0m\u001b[1;33m.\u001b[0m\u001b[0mylim\u001b[0m\u001b[1;33m(\u001b[0m\u001b[1;33m[\u001b[0m\u001b[1;33m-\u001b[0m\u001b[1;36m0.01\u001b[0m\u001b[1;33m,\u001b[0m \u001b[1;36m1.01\u001b[0m\u001b[1;33m]\u001b[0m\u001b[1;33m)\u001b[0m\u001b[1;33m\u001b[0m\u001b[1;33m\u001b[0m\u001b[0m\n\u001b[1;32m---> 49\u001b[1;33m \u001b[0mplt\u001b[0m\u001b[1;33m.\u001b[0m\u001b[0mplot\u001b[0m\u001b[1;33m(\u001b[0m\u001b[0my_test\u001b[0m\u001b[1;33m,\u001b[0m\u001b[0mtest_predictions2\u001b[0m\u001b[1;33m,\u001b[0m \u001b[0mlw\u001b[0m\u001b[1;33m=\u001b[0m\u001b[1;36m3\u001b[0m\u001b[1;33m,\u001b[0m \u001b[0mlabel\u001b[0m\u001b[1;33m=\u001b[0m\u001b[1;34m'Random Forest AUC (area = {:0.2f})'\u001b[0m\u001b[1;33m.\u001b[0m\u001b[0mformat\u001b[0m\u001b[1;33m(\u001b[0m\u001b[0mroc_auc_score\u001b[0m\u001b[1;33m)\u001b[0m\u001b[1;33m)\u001b[0m\u001b[1;33m\u001b[0m\u001b[1;33m\u001b[0m\u001b[0m\n\u001b[0m\u001b[0;32m     50\u001b[0m \u001b[0mplt\u001b[0m\u001b[1;33m.\u001b[0m\u001b[0mxlabel\u001b[0m\u001b[1;33m(\u001b[0m\u001b[1;34m'False Positive Rate'\u001b[0m\u001b[1;33m,\u001b[0m \u001b[0mfontsize\u001b[0m\u001b[1;33m=\u001b[0m\u001b[1;36m16\u001b[0m\u001b[1;33m)\u001b[0m\u001b[1;33m\u001b[0m\u001b[1;33m\u001b[0m\u001b[0m\n\u001b[0;32m     51\u001b[0m \u001b[0mplt\u001b[0m\u001b[1;33m.\u001b[0m\u001b[0mylabel\u001b[0m\u001b[1;33m(\u001b[0m\u001b[1;34m'True Positive Rate'\u001b[0m\u001b[1;33m,\u001b[0m \u001b[0mfontsize\u001b[0m\u001b[1;33m=\u001b[0m\u001b[1;36m16\u001b[0m\u001b[1;33m)\u001b[0m\u001b[1;33m\u001b[0m\u001b[1;33m\u001b[0m\u001b[0m\n",
      "\u001b[1;31mNameError\u001b[0m: name 'roc_auc_score' is not defined"
     ]
    },
    {
     "data": {
      "image/png": "[encoded data removed]",
      "text/plain": [
       "<Figure size 432x288 with 1 Axes>"
      ]
     },
     "metadata": {
      "needs_background": "light"
     },
     "output_type": "display_data"
    }
   ],
   "source": [
    "# Random Forest 2\n",
    "\n",
    "from sklearn.ensemble import RandomForestClassifier\n",
    "from sklearn.pipeline import Pipeline\n",
    "from sklearn.model_selection import GridSearchCV\n",
    "from sklearn import metrics\n",
    "\n",
    "rf = RandomForestClassifier(random_state = 0)\n",
    "\n",
    "# Pipeline\n",
    "pipe = Pipeline([('random_forest', rf)])\n",
    "\n",
    "# Grid Search for Hyperparameter Tuning, maximizing highest f1 score\n",
    "parameters = {'random_forest__max_features':[10, 5, 15, 20]}\n",
    "\n",
    "clf6 = GridSearchCV(pipe, param_grid = parameters, verbose = 10, cv = 5, scoring = 'f1')\n",
    "%timeit -n1 -r1 clf6.fit(X_train_f, y_train)\n",
    "\n",
    "# Train vs Test Scores\n",
    "print('Lending Club dataset')\n",
    "print('Score of RF classifier on training set: {:.2f}'\n",
    "     .format(clf6.score(X_train_f, y_train)))\n",
    "print('Score of RF classifier on test set: {:.2f}'\n",
    "     .format(clf6.score(X_test_f, y_test)))\n",
    "\n",
    "# Confusion Matrix\n",
    "train_predictions=clf6.predict(X_train_f)\n",
    "test_predictions=clf6.predict(X_test_f)\n",
    "test_predictions2=clf6.predict_proba(X_test_f)[:, 1]\n",
    "\n",
    "cm = metrics.confusion_matrix(y_test, test_predictions, labels=clf6.classes_)\n",
    "disp = metrics.ConfusionMatrixDisplay(confusion_matrix=cm,display_labels=clf6.classes_)\n",
    "disp.plot()\n",
    "plt.show()\n",
    "\n",
    "# Test Scores\n",
    "print('Test Accuracy: '+str(metrics.accuracy_score(y_test,test_predictions)))\n",
    "print('Test AUC: '+str(metrics.roc_auc_score(y_test,test_predictions2)))\n",
    "print('Test Precision: '+str(metrics.precision_score(y_test,test_predictions)))\n",
    "print('Test Recall: '+str(metrics.recall_score(y_test,test_predictions)))\n",
    "print('Test F1 Score: '+str(metrics.f1_score(y_test,test_predictions)))\n",
    "\n",
    "clf6.best_params_"
   ]
  },
  {
   "cell_type": "code",
   "execution_count": null,
   "id": "2b68450d",
   "metadata": {},
   "outputs": [],
   "source": [
    "# Random Forest 2 Features Importance - Not Working with Pipeline\n",
    "\n",
    "# imp = pd.Series(data=clf6.feature_importances_, index=X_test_f.columns).sort_values(ascending=False)\n",
    "# plt.figure(figsize=(10,12))\n",
    "# plt.title(\"Feature importance\")\n",
    "# ax = sns.barplot(y=imp.index, x=imp.values, palette=\"Blues_d\", orient='h')"
   ]
  },
  {
   "cell_type": "code",
   "execution_count": null,
   "id": "999aae8c",
   "metadata": {},
   "outputs": [],
   "source": []
  }
 ],
 "metadata": {
  "kernelspec": {
   "display_name": "Python 3",
   "language": "python",
   "name": "python3"
  },
  "language_info": {
   "codemirror_mode": {
    "name": "ipython",
    "version": 3
   },
   "file_extension": ".py",
   "mimetype": "text/x-python",
   "name": "python",
   "nbconvert_exporter": "python",
   "pygments_lexer": "ipython3",
   "version": "3.8.8"
  }
 },
 "nbformat": 4,
 "nbformat_minor": 5
}
